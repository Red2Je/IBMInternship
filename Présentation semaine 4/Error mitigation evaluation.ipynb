{
 "cells": [
  {
   "cell_type": "code",
   "execution_count": 1,
   "id": "a6ebc85a",
   "metadata": {},
   "outputs": [],
   "source": [
    "from qiskit import QuantumCircuit, Aer, execute, IBMQ, QuantumRegister\n",
    "from qiskit.visualization import plot_histogram, plot_state_qsphere\n",
    "import math\n",
    "import numpy as np"
   ]
  },
  {
   "cell_type": "markdown",
   "id": "031a5d0b",
   "metadata": {},
   "source": [
    "# Evaluation of the effectiveness of error mitigation\n",
    "This notebook is made to help us compare the result noise between a noisy measurement and a noisy measurement with error mitigation.\n",
    "The way we compare these two vectors is the following:\n",
    "* We set up the a noise model (here the noise model is a Pauli error, that introduces an X gate after measurement, with probability p).\n",
    "* We compute our error mitigation matrix using Qiskit's Ignis module (soon to be deprecated, see Qiskit experiments).\n",
    "* We introduce a simple circuit to make the measurements on. Here, the example is using the GHZ on two qubits.\n",
    "* We repeat the experience of measuring the bitstring resulting from the circuit and correct it.\n",
    "* For each iterations, we compute the average of the errors relative to the known truth for the noisy and mitigated measurement.\n",
    "* After the iterations, we average these errors to have the average error correction.\n",
    "\n",
    "**Note :** \n",
    "* As seen in the cell below, the backend used is the qasm_simulator. One can use whichever simulator or real backends he wants to test on.\n",
    "* The noise model generates an X gate on the measurement with a probability of $\\frac{1}{10}$. One can tune this parameter in the argument of the get_noise function, or even give a totaly different noise model to the execute functions.\n",
    "* One can of course tune the circuit he wants the error mitigation to be tested on. If done so, the truth dict needs to be changed as well to match the expected output of the new circuit."
   ]
  },
  {
   "cell_type": "code",
   "execution_count": 2,
   "id": "6f60a5d9",
   "metadata": {},
   "outputs": [],
   "source": [
    "def get_noise(p):\n",
    "    \"\"\"\n",
    "    Generates a NoiseModel object which applies an X gate to a qubit with probability p\n",
    "    Input : p (float) the probability of applying an X gate\n",
    "    Output : noise_model (qiskit.providers.aer.noise.NoiseModel) the noise model object that can be given to our simulator\n",
    "    \"\"\"\n",
    "    from qiskit.providers.aer.noise import NoiseModel\n",
    "    from qiskit.providers.aer.noise.errors import pauli_error\n",
    "    error_meas = pauli_error([('X',p), ('I', 1 - p)]) #The pauli error is a class that applies the gates we gave it with the chances associated\n",
    "\n",
    "    noise_model = NoiseModel()\n",
    "    noise_model.add_all_qubit_quantum_error(error_meas, \"measure\") # measurement error is applied to measurements\n",
    "\n",
    "    return noise_model\n",
    "\n",
    "noise_model = get_noise(0.1)#We introduce an X gate with probability 0.1"
   ]
  },
  {
   "cell_type": "code",
   "execution_count": 12,
   "id": "237f2b4d",
   "metadata": {},
   "outputs": [],
   "source": [
    "#In the variable backend, you can define whichever simulator or real backend you want to use\n",
    "backend = Aer.get_backend('qasm_simulator')"
   ]
  },
  {
   "cell_type": "markdown",
   "id": "206ec7c6",
   "metadata": {},
   "source": [
    "The cells below define the error mitigation matrix thanks to qiskit's ignis library."
   ]
  },
  {
   "cell_type": "code",
   "execution_count": 4,
   "id": "e9e99940",
   "metadata": {},
   "outputs": [
    {
     "name": "stderr",
     "output_type": "stream",
     "text": [
      "C:\\Users\\108997~1\\AppData\\Local\\Temp/ipykernel_9476/3289176334.py:1: DeprecationWarning: The qiskit.ignis package is deprecated and has been supersceded by the qiskit-experiments project. Refer to the migration guide: https://github.com/Qiskit/qiskit-ignis#migration-guide on how to migrate to the new project.\n",
      "  from qiskit.ignis.mitigation.measurement import complete_meas_cal, CompleteMeasFitter\n"
     ]
    }
   ],
   "source": [
    "from qiskit.ignis.mitigation.measurement import complete_meas_cal, CompleteMeasFitter\n",
    "qr = QuantumRegister(2)#We create 2 quantum registers as our example is in C^4 \n",
    "meas_calibs, state_labels = complete_meas_cal(qr=qr, circlabel='mcal')"
   ]
  },
  {
   "cell_type": "code",
   "execution_count": 5,
   "id": "7401b4ae",
   "metadata": {},
   "outputs": [
    {
     "data": {
      "text/plain": [
       "array([[0.825, 0.095, 0.079, 0.006],\n",
       "       [0.075, 0.803, 0.011, 0.084],\n",
       "       [0.097, 0.009, 0.825, 0.096],\n",
       "       [0.003, 0.094, 0.085, 0.814]])"
      ]
     },
     "execution_count": 5,
     "metadata": {},
     "output_type": "execute_result"
    }
   ],
   "source": [
    "job = execute(meas_calibs, backend, noise_model = noise_model)\n",
    "result = job.result()#We are executing our circuits to have the distribution of the errors\n",
    "\n",
    "meas_fitter = CompleteMeasFitter(result, state_labels, circlabel='mcal')#The results are fitted into a matrix\n",
    "np.around(meas_fitter.cal_matrix,3)#The error mitigation matrix is displayed, with its coefficients rounded to make it more readable"
   ]
  },
  {
   "cell_type": "code",
   "execution_count": 6,
   "id": "9f71bac1",
   "metadata": {},
   "outputs": [],
   "source": [
    "#Define the quantum circuit you want to test error mitigation on here : \n",
    "qc = QuantumCircuit(2)\n",
    "qc.h(0)\n",
    "qc.cx(0,1)\n",
    "qc.measure_all()"
   ]
  },
  {
   "cell_type": "code",
   "execution_count": 7,
   "id": "f54d8482",
   "metadata": {},
   "outputs": [],
   "source": [
    "# Get the filter object\n",
    "meas_filter = meas_fitter.filter"
   ]
  },
  {
   "cell_type": "code",
   "execution_count": 8,
   "id": "9b7a090a",
   "metadata": {},
   "outputs": [],
   "source": [
    "def fill_dict(d):\n",
    "    \"\"\"\n",
    "    This procedure allows an user to fill a dictionnary with the missing basis vector\n",
    "    Input: a dictionnary d with incomplete basis\n",
    "    Modified input : a dictionnary with the whole basis in it. For example, if we input d = {'00' : 994, '01' : 3, '11': 3},\n",
    "    the state of d at the end of the procedure will be d = {'00' : 994, '01' : 3, '10' : 0, '11': 3}\n",
    "    \"\"\"\n",
    "    item_amount = len(d)\n",
    "    bit_size = len(list(d.keys())[0])\n",
    "    if item_amount != 2**bit_size:\n",
    "        bases_list = [format(i,\"b\").zfill(bit_size) for i in range(2**bit_size)]\n",
    "        key_list = list(d.keys())\n",
    "        for bases in bases_list:\n",
    "            if bases not in key_list:\n",
    "                d[bases] = 0\n",
    "    "
   ]
  },
  {
   "cell_type": "code",
   "execution_count": 9,
   "id": "a51c1328",
   "metadata": {
    "scrolled": true
   },
   "outputs": [
    {
     "name": "stdout",
     "output_type": "stream",
     "text": [
      "Average errors on noisy measurement :  0.0841259765625\n",
      "Average errors on mitigated measurement :  0.011405381797309893\n"
     ]
    }
   ],
   "source": [
    "#One can set the amount of iteration to evaluate the precision gain of the error mitigation algorithm\n",
    "ite = 100\n",
    "noisy_average = []\n",
    "mitigated_average = []\n",
    "#This variable must be set according to the circuit you are evaluating. Here, as we aevaluate a ghz, we have the truth :\n",
    "truth = {'00' : 500, '01':0, '10':0, '11':500}\n",
    "\n",
    "for _ in range(ite):\n",
    "    job = execute(qc,backend,noise_model = noise_model, shots = 1024)\n",
    "    result = job.result()\n",
    "    noisy_counts = result.get_counts()\n",
    "    mitigated_results = meas_filter.apply(result)\n",
    "    mitigated_counts = mitigated_results.get_counts()\n",
    "    fill_dict(noisy_counts)#We fill the missing values from the results\n",
    "    fill_dict(mitigated_counts)\n",
    "    \n",
    "    item_amount = len(noisy_counts)\n",
    "    bit_size = len(list(noisy_counts.keys())[0])\n",
    "    bases_list = bases_list = [format(i,\"b\").zfill(bit_size) for i in range(2**bit_size)]\n",
    "    dist_noisy = {}\n",
    "    dist_mitigated = {}\n",
    "    for bases in bases_list :\n",
    "        dist_noisy[bases] = abs(truth[bases] - noisy_counts[bases])#In each dict, we store the distance of the bitstring measurement to the true measurement.\n",
    "        dist_mitigated[bases] = abs(truth[bases] - mitigated_counts[bases])#To compare the noisy and mitigated result, we store the result in two separate dicts\n",
    "    noisy_average.append(np.average(list(dist_noisy.values())))#We average the errors over the different basis bitstring.\n",
    "    mitigated_average.append(np.average(list(dist_mitigated.values())))\n",
    "    \n",
    "print(\"Average errors on noisy measurement : \",np.average(noisy_average)/1024)#We average the results of each experiments and divide it by our number of shots to get the average distance to the truth\n",
    "print(\"Average errors on mitigated measurement : \",np.average(mitigated_average)/1024)\n",
    "    \n",
    "    \n",
    "        \n",
    "        \n",
    "        \n",
    "    \n",
    "    \n",
    "    "
   ]
  },
  {
   "cell_type": "markdown",
   "id": "e497271c",
   "metadata": {},
   "source": [
    "The results above shows the averaged error correction with and without error mitigation. We can observe that even if there is quite a progress (on average the results are seven times less noisy), there are still some errors that persist. These results can be associated with the amount of shots for each <em>execute</em> call."
   ]
  },
  {
   "cell_type": "code",
   "execution_count": null,
   "id": "8e9f5163",
   "metadata": {},
   "outputs": [],
   "source": []
  }
 ],
 "metadata": {
  "kernelspec": {
   "display_name": "Python 3 (ipykernel)",
   "language": "python",
   "name": "python3"
  },
  "language_info": {
   "codemirror_mode": {
    "name": "ipython",
    "version": 3
   },
   "file_extension": ".py",
   "mimetype": "text/x-python",
   "name": "python",
   "nbconvert_exporter": "python",
   "pygments_lexer": "ipython3",
   "version": "3.9.7"
  }
 },
 "nbformat": 4,
 "nbformat_minor": 5
}
