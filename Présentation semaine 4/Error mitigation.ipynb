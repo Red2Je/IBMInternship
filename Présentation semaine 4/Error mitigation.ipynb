{
 "cells": [
  {
   "cell_type": "code",
   "execution_count": 36,
   "id": "6a8d06ff",
   "metadata": {},
   "outputs": [],
   "source": [
    "from qiskit import QuantumCircuit, execute, Aer, QuantumRegister, ClassicalRegister, transpile, assemble\n",
    "from qiskit.providers.aer.noise import NoiseModel\n",
    "from qiskit.providers.aer.noise.errors import pauli_error, depolarizing_error\n",
    "from qiskit.visualization import plot_histogram\n",
    "import math"
   ]
  },
  {
   "cell_type": "code",
   "execution_count": 33,
   "id": "0ad7dc30",
   "metadata": {},
   "outputs": [],
   "source": [
    "def get_noise(p):\n",
    "\n",
    "    error_meas = pauli_error([('X',p), ('I', 1 - p)])\n",
    "\n",
    "    noise_model = NoiseModel()\n",
    "    noise_model.add_all_qubit_quantum_error(error_meas, \"measure\") # measurement error is applied to measurements\n",
    "        \n",
    "    return noise_model"
   ]
  },
  {
   "cell_type": "code",
   "execution_count": 40,
   "id": "3582f8f6",
   "metadata": {},
   "outputs": [],
   "source": [
    "noise_model = get_noise(0.01)"
   ]
  },
  {
   "cell_type": "code",
   "execution_count": 120,
   "id": "17463344",
   "metadata": {},
   "outputs": [
    {
     "name": "stdout",
     "output_type": "stream",
     "text": [
      "00 becomes {'00': 9814, '10': 98, '01': 88}\n",
      "01 becomes {'01': 9800, '11': 95, '00': 105}\n",
      "10 becomes {'10': 9807, '11': 92, '00': 101}\n",
      "11 becomes {'11': 9793, '00': 2, '10': 99, '01': 106}\n"
     ]
    }
   ],
   "source": [
    "aer_sim = Aer.get_backend('aer_simulator')\n",
    "count_list = []\n",
    "for state in ['00','01','10','11']:\n",
    "    qc = QuantumCircuit(2,2)\n",
    "    if state[0]=='1':\n",
    "        qc.x(1)\n",
    "    if state[1]=='1':\n",
    "        qc.x(0)  \n",
    "    qc.measure([0, 1], [0, 1])\n",
    "#     display(qc.draw(output='mpl'))\n",
    "    t_qc = transpile(qc, aer_sim)\n",
    "    qobj = assemble(t_qc)\n",
    "    counts = aer_sim.run(qobj, noise_model=noise_model, shots=10000).result().get_counts()\n",
    "    count_list.append(counts)\n",
    "    print(state+' becomes', counts)"
   ]
  },
  {
   "cell_type": "code",
   "execution_count": 47,
   "id": "8db1a1e0",
   "metadata": {},
   "outputs": [
    {
     "name": "stdout",
     "output_type": "stream",
     "text": [
      "Noisy :  {'00': 4932, '11': 4872, '10': 100, '01': 96}\n",
      "Ideal :  {'00': 4957, '11': 5043}\n"
     ]
    }
   ],
   "source": [
    "qc = QuantumCircuit(2,2)\n",
    "qc.h(0)\n",
    "qc.cx(0,1)  \n",
    "qc.measure([0, 1], [0, 1])\n",
    "t_qc = transpile(qc, aer_sim)\n",
    "qobj = assemble(t_qc)\n",
    "noisy = aer_sim.run(qobj, noise_model=noise_model, shots=10000).result().get_counts()\n",
    "print(\"Noisy : \",noisy)\n",
    "qasm_sim = Aer.get_backend('qasm_simulator')\n",
    "t_qc = transpile(qc, qasm_sim)\n",
    "qobj = assemble(t_qc)\n",
    "ideal = aer_sim.run(qobj, shots=10000).result().get_counts()\n",
    "print(\"Ideal : \",ideal)"
   ]
  },
  {
   "cell_type": "code",
   "execution_count": 147,
   "id": "1845b2ff",
   "metadata": {},
   "outputs": [],
   "source": [
    "import numpy as np\n",
    "np.set_printoptions(suppress=True)\n",
    "import collections\n",
    "def get_vec(res, maxlen = None, basis = None):\n",
    "    #We add this bit if code to complete our bitstring in cas we have, for example, the distribution\n",
    "    #['00','10','11'] and we miss ['01'] because the simulation never encountered it\n",
    "    if maxlen is None : \n",
    "        maxlen = len(res)\n",
    "    if basis is None : \n",
    "        log = int(math.log2(maxlen))\n",
    "        basis = [format(i,\"b\").zfill(log) for i in range(0,maxlen)]\n",
    "    \n",
    "    \n",
    "    if(len(res) < maxlen):\n",
    "        for c in basis:\n",
    "            if c not in res:\n",
    "                res[c] = 0\n",
    "    return(np.fromiter(collections.OrderedDict(sorted(res.items())).values(), dtype = int))"
   ]
  },
  {
   "cell_type": "code",
   "execution_count": 154,
   "id": "0b45fc89",
   "metadata": {},
   "outputs": [
    {
     "data": {
      "text/plain": [
       "array([[0.9814, 0.0093, 0.0116, 0.0003],\n",
       "       [0.0091, 0.982 , 0.0001, 0.0086],\n",
       "       [0.0095, 0.    , 0.978 , 0.009 ],\n",
       "       [0.    , 0.0087, 0.0103, 0.9821]])"
      ]
     },
     "execution_count": 154,
     "metadata": {},
     "output_type": "execute_result"
    }
   ],
   "source": [
    "def make_mat(count_list, classical_size, shots_amount, basis):\n",
    "    #To compute the noise matrix, we first need to extract the probability of getting each bitstring from the dictionnary\n",
    "    #and order them in the lexicographic order\n",
    "    #Each vector is normalized\n",
    "    mat = np.zeros((len(count_list),len(count_list)))\n",
    "    for i,count in enumerate(count_list):\n",
    "        vec = get_vec(count, classical_size, basis)/shots_amount\n",
    "        mat[:,i] = vec\n",
    "    return(mat)\n",
    "\n",
    "def compute_noise_matrix(backend, classical_size):\n",
    "    log = int(math.log2(classical_size))\n",
    "    #we compute a list of string representing the classical basis. \n",
    "    #For classical_size = 4, the basis is ['00','01','10','11']\n",
    "    basis = [format(i,\"b\").zfill(log) for i in range(0,classical_size)]\n",
    "    count_list = []\n",
    "    for state in basis:\n",
    "        #We generate a circuit of the appropriate size to handle the bitstring in the basis vector\n",
    "        #For example, we need two qubits to encode the bitstring '10'\n",
    "        #X gates are also applied by considering the bit string and the way the qubits will be measured.\n",
    "        #For example, if we encode the bit string '01', we want the state |10>\n",
    "        qc = QuantumCircuit(log,log)\n",
    "        for i in range(len(state)):\n",
    "            if(state[i] == '1'):\n",
    "                qc.x(len(state)-i-1)\n",
    "        qc.measure(range(log),range(log))\n",
    "        t_qc = transpile(qc, backend)\n",
    "        qobj = assemble(t_qc)\n",
    "        shots_amount = 10000\n",
    "        counts = aer_sim.run(qobj, noise_model=noise_model, shots=shots_amount).result().get_counts()\n",
    "        count_list.append(counts)\n",
    "    #Once all the shots have been computed for each circuits, we compute the noise matrix and return it\n",
    "    return(make_mat(count_list, classical_size, shots_amount, basis))\n",
    "    \n",
    "backend = Aer.get_backend('aer_simulator')\n",
    "compute_noise_matrix(backend,4)"
   ]
  },
  {
   "cell_type": "markdown",
   "id": "fa3a2fbe",
   "metadata": {},
   "source": [
    "By determining the error distribution in the basis state, we can build a matrix to mitigate the errors on the machine/simulator we are using. \n",
    "After building the matrix, we can inverse it to get the ideal bitstring from a noisy bitstring.\n",
    "The formula is the following:\n",
    "$$C_{Ideal} = M^{-1} C_{Noisy}$$\n",
    "By taking our vector $noisy$ and multiplying it with the result of make_mat, we have a cleaned versions of the result of our simulation."
   ]
  },
  {
   "cell_type": "code",
   "execution_count": 156,
   "id": "3a52822d",
   "metadata": {},
   "outputs": [
    {
     "name": "stdout",
     "output_type": "stream",
     "text": [
      "Before :  [4932   96  100 4872] \n",
      "After :  [5026.04985218    1.47815966   -8.15866281 4980.63065097]\n"
     ]
    }
   ],
   "source": [
    "def correct(vec, mat=None, backend = None):\n",
    "    import scipy.linalg as la\n",
    "    if mat is None:\n",
    "        if backend is None:\n",
    "            backend = Aer.get_backend('aer_simulator')\n",
    "        mat = compute_noise_matrix(backend,len(vec))\n",
    "    return(np.dot(la.inv(mat),get_vec(vec)))\n",
    "print(\"Before : \",get_vec(noisy,),\"\\nAfter : \",correct(noisy, backend = aer_sim))\n",
    "    "
   ]
  },
  {
   "cell_type": "markdown",
   "id": "9fb445e7",
   "metadata": {},
   "source": [
    "And now that I have manually recoded everything, lets take a look at how qiskit's developpers have coded it."
   ]
  },
  {
   "cell_type": "code",
   "execution_count": 157,
   "id": "8bc23e6c",
   "metadata": {},
   "outputs": [
    {
     "name": "stderr",
     "output_type": "stream",
     "text": [
      "C:\\Users\\108997~1\\AppData\\Local\\Temp/ipykernel_17412/2184433781.py:1: DeprecationWarning: The qiskit.ignis package is deprecated and has been supersceded by the qiskit-experiments project. Refer to the migration guide: https://github.com/Qiskit/qiskit-ignis#migration-guide on how to migrate to the new project.\n",
      "  from qiskit.ignis.mitigation.measurement import complete_meas_cal, CompleteMeasFitter\n"
     ]
    }
   ],
   "source": [
    "from qiskit.ignis.mitigation.measurement import complete_meas_cal, CompleteMeasFitter"
   ]
  },
  {
   "cell_type": "code",
   "execution_count": 178,
   "id": "8bc7389a",
   "metadata": {},
   "outputs": [],
   "source": [
    "qr = QuantumRegister(8)\n",
    "meas_calibs, state_labels = complete_meas_cal(qr=qr, circlabel='mcal')"
   ]
  },
  {
   "cell_type": "code",
   "execution_count": 159,
   "id": "fbd20339",
   "metadata": {
    "scrolled": true
   },
   "outputs": [
    {
     "name": "stdout",
     "output_type": "stream",
     "text": [
      "Circuit mcalcal_00\n",
      "          ░ ┌─┐   \n",
      "q1822_0: ─░─┤M├───\n",
      "          ░ └╥┘┌─┐\n",
      "q1822_1: ─░──╫─┤M├\n",
      "          ░  ║ └╥┘\n",
      "   c6: 2/════╩══╩═\n",
      "             0  1 \n",
      "\n",
      "Circuit mcalcal_01\n",
      "         ┌───┐ ░ ┌─┐   \n",
      "q1822_0: ┤ X ├─░─┤M├───\n",
      "         └───┘ ░ └╥┘┌─┐\n",
      "q1822_1: ──────░──╫─┤M├\n",
      "               ░  ║ └╥┘\n",
      "   c6: 2/═════════╩══╩═\n",
      "                  0  1 \n",
      "\n",
      "Circuit mcalcal_10\n",
      "               ░ ┌─┐   \n",
      "q1822_0: ──────░─┤M├───\n",
      "         ┌───┐ ░ └╥┘┌─┐\n",
      "q1822_1: ┤ X ├─░──╫─┤M├\n",
      "         └───┘ ░  ║ └╥┘\n",
      "   c6: 2/═════════╩══╩═\n",
      "                  0  1 \n",
      "\n",
      "Circuit mcalcal_11\n",
      "         ┌───┐ ░ ┌─┐   \n",
      "q1822_0: ┤ X ├─░─┤M├───\n",
      "         ├───┤ ░ └╥┘┌─┐\n",
      "q1822_1: ┤ X ├─░──╫─┤M├\n",
      "         └───┘ ░  ║ └╥┘\n",
      "   c6: 2/═════════╩══╩═\n",
      "                  0  1 \n",
      "\n"
     ]
    }
   ],
   "source": [
    "for circuit in meas_calibs:\n",
    "    print('Circuit',circuit.name)\n",
    "    print(circuit)\n",
    "    print()"
   ]
  },
  {
   "cell_type": "code",
   "execution_count": 179,
   "id": "9d150664",
   "metadata": {},
   "outputs": [],
   "source": [
    "# Execute the calibration circuits without noise\n",
    "t_qc = transpile(meas_calibs, aer_sim)\n",
    "qobj = assemble(t_qc, shots=10000)\n",
    "cal_results = aer_sim.run(qobj,noise_model = noise_model, shots=10000).result()"
   ]
  },
  {
   "cell_type": "code",
   "execution_count": 180,
   "id": "b8cbd6f6",
   "metadata": {},
   "outputs": [
    {
     "data": {
      "text/plain": [
       "array([[0.9238, 0.0081, 0.0097, ..., 0.    , 0.    , 0.    ],\n",
       "       [0.0099, 0.925 , 0.0001, ..., 0.    , 0.    , 0.    ],\n",
       "       [0.0099, 0.0001, 0.9229, ..., 0.    , 0.    , 0.    ],\n",
       "       ...,\n",
       "       [0.    , 0.    , 0.    , ..., 0.9207, 0.    , 0.0085],\n",
       "       [0.    , 0.    , 0.    , ..., 0.0004, 0.9264, 0.01  ],\n",
       "       [0.    , 0.    , 0.    , ..., 0.01  , 0.0092, 0.9245]])"
      ]
     },
     "execution_count": 180,
     "metadata": {},
     "output_type": "execute_result"
    }
   ],
   "source": [
    "meas_fitter = CompleteMeasFitter(cal_results, state_labels, circlabel='mcal')\n",
    "meas_fitter.cal_matrix\n"
   ]
  },
  {
   "cell_type": "code",
   "execution_count": 181,
   "id": "95c701a8",
   "metadata": {},
   "outputs": [
    {
     "name": "stdout",
     "output_type": "stream",
     "text": [
      "{'11111101': 43, '11011111': 49, '00000000': 4656, '10000000': 49, '10001000': 1, '11111111': 4567, '01111111': 50, '11010111': 2, '00001010': 1, '11101101': 1, '00111111': 2, '00100001': 2, '10010000': 3, '01000000': 47, '11110111': 40, '11111110': 47, '00001100': 1, '11101111': 50, '01000100': 1, '00000010': 36, '00100000': 49, '11111011': 53, '10111111': 49, '00010000': 50, '10100001': 1, '00001000': 41, '01111011': 1, '00000001': 52, '00000100': 37, '00011000': 3, '01010000': 1, '11111001': 1, '10000001': 1, '10111011': 1, '10000010': 1, '01111101': 1, '10111101': 1, '10110111': 1, '01100000': 1, '11110011': 1, '01101111': 1, '00000011': 1, '11000000': 1, '00101000': 2, '00100010': 1}\n"
     ]
    }
   ],
   "source": [
    "qc = QuantumCircuit(8)\n",
    "qc.h(0)\n",
    "qc.cx(0,1)  \n",
    "qc.cx(1,2)\n",
    "qc.cx(2,3)\n",
    "qc.cx(3,4)\n",
    "qc.cx(4,5)\n",
    "qc.cx(5,6)\n",
    "qc.cx(6,7)\n",
    "\n",
    "\n",
    "qc.measure_all()\n",
    "\n",
    "t_qc = transpile(qc, aer_sim)\n",
    "qobj = assemble(t_qc, shots=10000)\n",
    "results = aer_sim.run(qobj, noise_model=noise_model, shots=10000).result()\n",
    "noisy_counts = results.get_counts()\n",
    "print(noisy_counts)"
   ]
  },
  {
   "cell_type": "code",
   "execution_count": 182,
   "id": "108a19ee",
   "metadata": {},
   "outputs": [],
   "source": [
    "# Get the filter object\n",
    "meas_filter = meas_fitter.filter\n",
    "\n",
    "# Results with mitigation\n",
    "mitigated_results = meas_filter.apply(results)\n",
    "mitigated_counts = mitigated_results.get_counts()"
   ]
  },
  {
   "cell_type": "code",
   "execution_count": 183,
   "id": "1b8d905e",
   "metadata": {},
   "outputs": [
    {
     "data": {
      "image/png": "[encoded data removed]",
      "text/plain": [
       "<Figure size 504x360 with 1 Axes>"
      ]
     },
     "execution_count": 183,
     "metadata": {},
     "output_type": "execute_result"
    }
   ],
   "source": [
    "from qiskit.visualization import plot_histogram \n",
    "noisy_counts = results.get_counts()\n",
    "plot_histogram([noisy_counts, mitigated_counts], legend=['noisy', 'mitigated'])"
   ]
  },
  {
   "cell_type": "code",
   "execution_count": null,
   "id": "67f53eb2",
   "metadata": {},
   "outputs": [],
   "source": []
  }
 ],
 "metadata": {
  "kernelspec": {
   "display_name": "Python 3 (ipykernel)",
   "language": "python",
   "name": "python3"
  },
  "language_info": {
   "codemirror_mode": {
    "name": "ipython",
    "version": 3
   },
   "file_extension": ".py",
   "mimetype": "text/x-python",
   "name": "python",
   "nbconvert_exporter": "python",
   "pygments_lexer": "ipython3",
   "version": "3.9.7"
  }
 },
 "nbformat": 4,
 "nbformat_minor": 5
}
