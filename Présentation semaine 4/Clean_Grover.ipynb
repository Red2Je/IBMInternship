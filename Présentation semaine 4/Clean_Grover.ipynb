{
 "cells": [
  {
   "cell_type": "code",
   "execution_count": 2,
   "id": "e67483bf",
   "metadata": {
    "slideshow": {
     "slide_type": "skip"
    }
   },
   "outputs": [],
   "source": [
    "from qiskit import QuantumCircuit, Aer, execute, IBMQ\n",
    "from qiskit.visualization import plot_histogram, plot_state_qsphere\n",
    "import math\n",
    "import numpy as np\n",
    "import matplotlib.pyplot as plt\n",
    "import matplotlib.image as mpimg\n",
    "%matplotlib inline"
   ]
  },
  {
   "cell_type": "markdown",
   "id": "5d22fd60",
   "metadata": {
    "slideshow": {
     "slide_type": "slide"
    }
   },
   "source": [
    "# Grover's algorithm\n",
    "\n",
    "### What is it made for ?\n",
    "Grover's algorithm is made to find a value that responds to a certain criterion in a list of values. \n",
    "\n",
    "For example, lets take a list L of the first 10 numbers : \n",
    "$$L = [0,1,2,3,4,5,6,7,8,9]$$\n",
    "And say that we are looking to get the number 7, that will be called the winner and noted $w$ from now on. Grover's algorithm allows you to find $w$, but way faster than the classical approach of scanning the list to find the answer."
   ]
  },
  {
   "cell_type": "markdown",
   "id": "49d7ea3a",
   "metadata": {
    "slideshow": {
     "slide_type": "slide"
    }
   },
   "source": [
    "### Briefly, how is it made ?\n",
    "An iteration of Grover's algorithm is decomposed in 2 parts : <br/>\n",
    "1. The oracle : the goal of the oracle is to determine which input is the winner. Usually, the oracle is made after considering how to translate the real world oracle in the quantum world. After applying the oracle to the circuit, the resulting state will be the same as the input, but with the winner's phase changed to $-\\frac{\\pi}{2}$\n",
    "2. The amplification : after determining the winner, we want the final state of our quantum circuit to be the winner's state. To find it, we use a rotation (composed of two reflections) to make the state we find at the output of the oracle physically closer to the winner's state."
   ]
  },
  {
   "cell_type": "markdown",
   "id": "e37e3fb6",
   "metadata": {
    "slideshow": {
     "slide_type": "slide"
    }
   },
   "source": [
    "### Making an oracle\n",
    "Lets take a simple example to really understand how Grover's algorithm works : \n",
    "We take the following circuit that constructs the basis of a two-qubit quantum circuit. The following circuit construct the state $\\frac{1}{2}(|00\\rangle + |01\\rangle + |10\\rangle + |11\\rangle$, which is the superposition we want to look for our winner in."
   ]
  },
  {
   "cell_type": "code",
   "execution_count": 3,
   "id": "b05914eb",
   "metadata": {
    "slideshow": {
     "slide_type": "-"
    }
   },
   "outputs": [
    {
     "data": {
      "image/png": "[encoded data removed]",
      "text/plain": [
       "<Figure size 146.652x144.48 with 1 Axes>"
      ]
     },
     "execution_count": 3,
     "metadata": {},
     "output_type": "execute_result"
    }
   ],
   "source": [
    "qc = QuantumCircuit(2) # Initialize our circuit with two quantum registers\n",
    "qc.h(range(2))         # Apply the hadamard gate to qubit 0 and 1\n",
    "qc.draw(output = 'mpl')"
   ]
  },
  {
   "cell_type": "markdown",
   "id": "36445c05",
   "metadata": {
    "slideshow": {
     "slide_type": "slide"
    }
   },
   "source": [
    "With the help of the statevector simulator, we an check that the state builded is indeed the basis of a two qubits problem :"
   ]
  },
  {
   "cell_type": "code",
   "execution_count": 4,
   "id": "a2dc3208",
   "metadata": {
    "slideshow": {
     "slide_type": "-"
    }
   },
   "outputs": [
    {
     "data": {
      "text/latex": [
       "$$\\frac{1}{2} |00\\rangle+\\frac{1}{2} |01\\rangle+\\frac{1}{2} |10\\rangle+\\frac{1}{2} |11\\rangle$$"
      ],
      "text/plain": [
       "<IPython.core.display.Latex object>"
      ]
     },
     "execution_count": 4,
     "metadata": {},
     "output_type": "execute_result"
    }
   ],
   "source": [
    "backend = Aer.get_backend('statevector_simulator')\n",
    "job = execute(qc, backend)\n",
    "result = job.result()\n",
    "initial = result.get_statevector()\n",
    "initial.draw(output = 'latex')"
   ]
  },
  {
   "cell_type": "markdown",
   "id": "93515789",
   "metadata": {
    "slideshow": {
     "slide_type": "slide"
    }
   },
   "source": [
    "We just constructed a representation of the list : \n",
    "$$[|00\\rangle,|01〉,|10〉,|11〉]$$\n",
    "Say that one wants to look if the value |11〉exists in the list above.\n",
    "One have to write the oracle below to find the winner :"
   ]
  },
  {
   "cell_type": "code",
   "execution_count": 5,
   "id": "46c24179",
   "metadata": {
    "slideshow": {
     "slide_type": "-"
    }
   },
   "outputs": [],
   "source": [
    "def simple_oracle():\n",
    "    qc = QuantumCircuit(2, name = 'simple_oracle') #We create a quantum circuit with two quantum register as the winner is encoded on two classical bits\n",
    "    qc.cz(0,1)                                     #We choose the cz gate for the reason detailled below\n",
    "    return qc.to_gate()                            #We return a usable gate to append at the end of our already existing circuit"
   ]
  },
  {
   "cell_type": "markdown",
   "id": "039e2763",
   "metadata": {
    "slideshow": {
     "slide_type": "slide"
    }
   },
   "source": [
    "How does this oracle works and why does it change the phase of the winner ?\n",
    "Our goal is to change our input state vector described above to \n",
    "    $$\\frac{1}{2}( |00〉+|01〉+|10〉+|11〉) \\stackrel{oracle}{=} \\frac{1}{2} ( |00〉+|01〉+|10〉-|11〉)$$\n",
    "    \n",
    "And its precisely what our oracle circuit defined above does :\n",
    "We have as input :\n",
    "$$\n",
    "\\frac{1}{2}( |00〉+|01〉+|10〉+|11〉) = \n",
    "\\begin{pmatrix}\n",
    "\\frac{1}{2}\\\\\n",
    "\\frac{1}{2}\\\\\n",
    "\\frac{1}{2}\\\\\n",
    "\\frac{1}{2}\n",
    "\\end{pmatrix}\n",
    "$$\n",
    "and we apply the cz operator to it : \n",
    "$$\n",
    "\\stackrel{CZ}{\n",
    "\\begin{pmatrix}\n",
    "1&0&0&0\\\\\n",
    "0&1&0&0\\\\\n",
    "0&0&1&0\\\\\n",
    "0&0&0&-1\n",
    "\\end{pmatrix}}\\\\\n",
    "\\begin{pmatrix}\n",
    "1&0&0&0\\\\\n",
    "0&1&0&0\\\\\n",
    "0&0&1&0\\\\\n",
    "0&0&0&-1\n",
    "\\end{pmatrix} . \n",
    "\\begin{pmatrix}\n",
    "\\frac{1}{2}\\\\\n",
    "\\frac{1}{2}\\\\\n",
    "\\frac{1}{2}\\\\\n",
    "\\frac{1}{2}\n",
    "\\end{pmatrix} = \n",
    "\\begin{pmatrix}\n",
    "\\frac{1}{2}\\\\\n",
    "\\frac{1}{2}\\\\\n",
    "\\frac{1}{2}\\\\\n",
    "-\\frac{1}{2}\n",
    "\\end{pmatrix} = \n",
    "\\frac{1}{2} ( |00〉+|01〉+|10〉-|11〉)\n",
    "$$\n",
    "Lets apply it :"
   ]
  },
  {
   "cell_type": "code",
   "execution_count": 6,
   "id": "bbbe6abf",
   "metadata": {
    "slideshow": {
     "slide_type": "-"
    }
   },
   "outputs": [
    {
     "data": {
      "text/plain": [
       "<qiskit.circuit.instructionset.InstructionSet at 0x1b545d57800>"
      ]
     },
     "execution_count": 6,
     "metadata": {},
     "output_type": "execute_result"
    }
   ],
   "source": [
    "qc.append(simple_oracle(), range(2)) # We add the gate constructed by our simple_oracle function at the end of our circuit"
   ]
  },
  {
   "cell_type": "markdown",
   "id": "a18547a6",
   "metadata": {
    "slideshow": {
     "slide_type": "slide"
    }
   },
   "source": [
    "Lets measure it again to check that we have the right state : "
   ]
  },
  {
   "cell_type": "code",
   "execution_count": 7,
   "id": "90da6154",
   "metadata": {
    "slideshow": {
     "slide_type": "-"
    }
   },
   "outputs": [
    {
     "data": {
      "text/latex": [
       "$$\\frac{1}{2} |00\\rangle+\\frac{1}{2} |01\\rangle+\\frac{1}{2} |10\\rangle- \\frac{1}{2} |11\\rangle$$"
      ],
      "text/plain": [
       "<IPython.core.display.Latex object>"
      ]
     },
     "metadata": {},
     "output_type": "display_data"
    },
    {
     "name": "stdout",
     "output_type": "stream",
     "text": [
      "Measurement results : \n",
      "{'00': 0.25, '01': 0.25, '10': 0.25, '11': 0.25}\n"
     ]
    }
   ],
   "source": [
    "job = execute(qc, backend)\n",
    "result = job.result()\n",
    "after_oracle = result.get_statevector()\n",
    "display(after_oracle.draw(output = 'latex'))\n",
    "print(\"Measurement results : \")\n",
    "print(result.get_counts())"
   ]
  },
  {
   "cell_type": "markdown",
   "id": "920eca59",
   "metadata": {
    "slideshow": {
     "slide_type": "-"
    }
   },
   "source": [
    "In comparison, the oracle we have just created is the equivalent to create a Python function that for every bitstring that you give it, checks wether or not it is equal to the bitstring '11'."
   ]
  },
  {
   "cell_type": "markdown",
   "id": "fe58e87c",
   "metadata": {
    "slideshow": {
     "slide_type": "slide"
    }
   },
   "source": [
    "### Understanding the amplification\n",
    "As we can see, we constructed the right state vector, but when mesuring it, we cannot determine which output is the right one. Thats where the amplification part is used.\n",
    "\n",
    "To understand how we will amplify our winner qubit's phase to the point where the other qubit's phases will be close to 0, we first need to understand what our oracle performs geometrically.\n",
    "We can picture the Grover problem in a X-Y plane. Along the +Y axis lives our vector $w$ (which to simplify will have its norm set to 1).\n",
    "Along the +X axis lives a vector $s'$, orthogonal to $w$.\n",
    "Our initial state (that we built at the beginning of the oracle part of this notebook) is represented by the vector $s$."
   ]
  },
  {
   "cell_type": "code",
   "execution_count": 5,
   "id": "e4434413",
   "metadata": {
    "slideshow": {
     "slide_type": "-"
    }
   },
   "outputs": [
    {
     "data": {
      "text/plain": [
       "<matplotlib.image.AxesImage at 0x177789cf370>"
      ]
     },
     "execution_count": 5,
     "metadata": {},
     "output_type": "execute_result"
    },
    {
     "data": {
      "image/png": "[encoded data removed]",
      "text/plain": [
       "<Figure size 432x288 with 1 Axes>"
      ]
     },
     "metadata": {
      "needs_background": "light"
     },
     "output_type": "display_data"
    }
   ],
   "source": [
    "img = mpimg.imread('grover_ressource/grover_initial.png')\n",
    "plt.axis('off')\n",
    "plt.title('Taken from https://qiskit.org/textbook/ch-algorithms/grover.html')\n",
    "plt.imshow(img)"
   ]
  },
  {
   "cell_type": "markdown",
   "id": "d2f14d39",
   "metadata": {
    "slideshow": {
     "slide_type": "subslide"
    }
   },
   "source": [
    "Applying our oracle to the vector $s$ performs a reflection of $s$ around the axis $s'$, as seen below : "
   ]
  },
  {
   "cell_type": "code",
   "execution_count": 6,
   "id": "53ca7011",
   "metadata": {
    "slideshow": {
     "slide_type": "-"
    }
   },
   "outputs": [
    {
     "data": {
      "text/plain": [
       "<matplotlib.image.AxesImage at 0x17777d5fe80>"
      ]
     },
     "execution_count": 6,
     "metadata": {},
     "output_type": "execute_result"
    },
    {
     "data": {
      "image/png": "[encoded data removed]",
      "text/plain": [
       "<Figure size 432x288 with 1 Axes>"
      ]
     },
     "metadata": {
      "needs_background": "light"
     },
     "output_type": "display_data"
    }
   ],
   "source": [
    "img = mpimg.imread('grover_ressource/grover_first_rotation.png')\n",
    "plt.axis('off')\n",
    "plt.title('Taken from https://qiskit.org/textbook/ch-algorithms/grover.html')\n",
    "plt.imshow(img)"
   ]
  },
  {
   "cell_type": "markdown",
   "id": "dad60225",
   "metadata": {
    "slideshow": {
     "slide_type": "subslide"
    }
   },
   "source": [
    "After applying the oracle's reflection, we want to get our new vector closer to the winner vector.\n",
    "Thus, we apply another reflection defined as follow : \n",
    "$$U_s = 2|s\\rangle\\langle s|-1$$\n",
    "Thus we have the following vector : "
   ]
  },
  {
   "cell_type": "code",
   "execution_count": 7,
   "id": "f4451d82",
   "metadata": {
    "slideshow": {
     "slide_type": "-"
    }
   },
   "outputs": [
    {
     "data": {
      "text/plain": [
       "<matplotlib.image.AxesImage at 0x17777c4e730>"
      ]
     },
     "execution_count": 7,
     "metadata": {},
     "output_type": "execute_result"
    },
    {
     "data": {
      "image/png": "[encoded data removed]",
      "text/plain": [
       "<Figure size 432x288 with 1 Axes>"
      ]
     },
     "metadata": {
      "needs_background": "light"
     },
     "output_type": "display_data"
    }
   ],
   "source": [
    "img = mpimg.imread('grover_ressource/grover_last_rotation.png')\n",
    "plt.axis('off')\n",
    "plt.title('Taken from https://qiskit.org/textbook/ch-algorithms/grover.html')\n",
    "plt.imshow(img)"
   ]
  },
  {
   "cell_type": "markdown",
   "id": "8bf09090",
   "metadata": {
    "slideshow": {
     "slide_type": "-"
    }
   },
   "source": [
    "As the vector our vector $s$ as been rotated closer to the winner vector, we have better chance of measuring it.\n",
    "The operation of applying the oracle and the reflection gate should be repeated $\\sqrt{N}$ times, with $N$ the amount of qubits."
   ]
  },
  {
   "cell_type": "markdown",
   "id": "34360cdd",
   "metadata": {
    "slideshow": {
     "slide_type": "slide"
    }
   },
   "source": [
    "### Making the reflection gate\n",
    "Now that we have understood how the reflection gate should be used, we can make it, for our example :"
   ]
  },
  {
   "cell_type": "code",
   "execution_count": 8,
   "id": "5df35d34",
   "metadata": {
    "slideshow": {
     "slide_type": "-"
    }
   },
   "outputs": [],
   "source": [
    "def reflection():\n",
    "    qc = QuantumCircuit(2,name = 'reflection')\n",
    "    qc.h(range(2))\n",
    "    qc.x(range(2))\n",
    "    qc.cz(0,1)\n",
    "    qc.x(range(2))\n",
    "    qc.h(range(2))\n",
    "    return qc.to_gate()"
   ]
  },
  {
   "cell_type": "markdown",
   "id": "57a4abcc",
   "metadata": {
    "slideshow": {
     "slide_type": "slide"
    }
   },
   "source": [
    "We only have to apply our oracle"
   ]
  },
  {
   "cell_type": "code",
   "execution_count": 9,
   "id": "ca5a9233",
   "metadata": {
    "slideshow": {
     "slide_type": "-"
    }
   },
   "outputs": [
    {
     "data": {
      "image/png": "[encoded data removed]",
      "text/plain": [
       "<Figure size 447.652x144.48 with 1 Axes>"
      ]
     },
     "execution_count": 9,
     "metadata": {},
     "output_type": "execute_result"
    }
   ],
   "source": [
    "qc.append(reflection(),range(2))\n",
    "qc.draw(output = 'mpl')"
   ]
  },
  {
   "cell_type": "code",
   "execution_count": 10,
   "id": "07d7fd83",
   "metadata": {
    "slideshow": {
     "slide_type": "-"
    }
   },
   "outputs": [
    {
     "name": "stdout",
     "output_type": "stream",
     "text": [
      "[ 0.+0.j  0.-0.j  0.-0.j -1.-0.j]\n",
      "{'11': 1.0}\n"
     ]
    }
   ],
   "source": [
    "job = execute(qc,backend)\n",
    "result = job.result()\n",
    "print(np.around(result.get_statevector()))\n",
    "print(result.get_counts())"
   ]
  },
  {
   "cell_type": "markdown",
   "id": "2c33d419",
   "metadata": {
    "slideshow": {
     "slide_type": "-"
    }
   },
   "source": [
    "The measurement gives us the right output."
   ]
  },
  {
   "cell_type": "markdown",
   "id": "c59b89fb",
   "metadata": {
    "slideshow": {
     "slide_type": "slide"
    }
   },
   "source": [
    "# A concrete use case with Qiskit's syntax"
   ]
  },
  {
   "cell_type": "code",
   "execution_count": 3,
   "id": "71b30816",
   "metadata": {
    "slideshow": {
     "slide_type": "skip"
    }
   },
   "outputs": [],
   "source": [
    "from qiskit import Aer,execute, QuantumCircuit\n",
    "from qiskit.algorithms import Grover,AmplificationProblem\n",
    "from qiskit.circuit.library.phase_oracle import PhaseOracle\n",
    "from qiskit.visualization import plot_histogram\n",
    "from qiskit.utils import QuantumInstance\n",
    "import qiskit.tools.jupyter"
   ]
  },
  {
   "cell_type": "markdown",
   "id": "ae1fadfc",
   "metadata": {
    "slideshow": {
     "slide_type": "slide"
    }
   },
   "source": [
    "### What spice to use\n",
    "Eric wants to season its pasta plates and has a lot of spices in its kitchen. As Eric has the access to a quantum computer, he decides to input all of his requirements to Grover's algorithm for it to output the best seasoning for its pasta.\n",
    "\n",
    "In his kitchen, Eric has : \n",
    "\n",
    "Seasoning | Spicy ? (c1) | Sweet ? (c2) | Salty ? (c3) | Dry ? (c4) | Bad nutritional score ? (c5) | Encoding\n",
    ":-:|:-:|:-:|:-:|:-:|:-:|:-:\n",
    " Ketchup | no | yes | yes | no | yes | \\|$01101\\rangle$\n",
    " Soy sauce | no | no | yes | no | no | \\|$00100\\rangle$\n",
    " Chili paste | yes | no | yes | yes | no | \\|$10110\\rangle$\n",
    " Heavy cream | no | no | no | no | yes | \\|$00001\\rangle$\n",
    " Dry pasta seasoning | yes | no | no | yes | no | \\|$10010\\rangle$\n",
    "\n",
    "Now say that Eric wants the following seasoning for its lunch:\n",
    "Non-spicy, Salty, already liquid , with a good nutritional score.\n",
    "Eric can then encode its desire in the following binary expression : \n",
    "$\\neg c1 \\wedge \\neg c2 \\wedge c3 \\wedge \\neg c4 \\wedge \\neg c5$"
   ]
  },
  {
   "cell_type": "markdown",
   "id": "7e600052",
   "metadata": {
    "slideshow": {
     "slide_type": "slide"
    }
   },
   "source": [
    "Thanks to Qiskit's circuit library, in which lives the PhaseOracle class, we can easily transform this boolean expression in an oracle : "
   ]
  },
  {
   "cell_type": "code",
   "execution_count": 52,
   "id": "64066c67",
   "metadata": {
    "slideshow": {
     "slide_type": "-"
    }
   },
   "outputs": [
    {
     "data": {
      "image/png": "[encoded data removed]",
      "text/plain": [
       "<Figure size 146.797x325.08 with 1 Axes>"
      ]
     },
     "execution_count": 52,
     "metadata": {},
     "output_type": "execute_result"
    }
   ],
   "source": [
    "expr = \"~c1&~c2&c3&~c4&~c5\"\n",
    "oracle = PhaseOracle(expr)\n",
    "oracle.draw(output = 'mpl')"
   ]
  },
  {
   "cell_type": "markdown",
   "id": "a8b0f595",
   "metadata": {
    "slideshow": {
     "slide_type": "slide"
    }
   },
   "source": [
    "Now that we have the oracle part, Qiskit's algorithms library let us create the amplification part easily, thanks to the AmplificationProblem class. \n"
   ]
  },
  {
   "cell_type": "code",
   "execution_count": null,
   "id": "eb5dc768",
   "metadata": {
    "slideshow": {
     "slide_type": "-"
    }
   },
   "outputs": [],
   "source": [
    "problem = AmplificationProblem(oracle,is_good_state=oracle.evaluate_bitstring)# We setup our amplification problem with the oracle and we tell the created object which state is a winner state according to the oracle"
   ]
  },
  {
   "cell_type": "markdown",
   "id": "182508d7",
   "metadata": {
    "slideshow": {
     "slide_type": "-"
    }
   },
   "source": [
    "We can then bring everything together using the Grover class and the amplify method of a Grover object"
   ]
  },
  {
   "cell_type": "code",
   "execution_count": 54,
   "id": "0ac00d6c",
   "metadata": {
    "slideshow": {
     "slide_type": "-"
    }
   },
   "outputs": [
    {
     "data": {
      "text/plain": [
       "'00100'"
      ]
     },
     "execution_count": 54,
     "metadata": {},
     "output_type": "execute_result"
    }
   ],
   "source": [
    "backend = Aer.get_backend('qasm_simulator')\n",
    "algorithm = Grover(quantum_instance=QuantumInstance(backend, shots = 1024))#We setup our grover object that will execute our problem\n",
    "result = algorithm.amplify(problem)#We execute Grover's algorithm on our amplification problem. The number of iterations is determined in the function amplify\n",
    "result.top_measurement[::-1]#We reverse the bitstring as Qiskit's measurement are in the wrong order"
   ]
  },
  {
   "cell_type": "markdown",
   "id": "1fc77d95",
   "metadata": {
    "slideshow": {
     "slide_type": "slide"
    }
   },
   "source": [
    "We make a function to determine if the found sauce exists in our list, or if Eric's demand is not feasible"
   ]
  },
  {
   "cell_type": "code",
   "execution_count": 61,
   "id": "f6deb15e",
   "metadata": {
    "slideshow": {
     "slide_type": "-"
    }
   },
   "outputs": [
    {
     "name": "stdout",
     "output_type": "stream",
     "text": [
      "The selected sauce is :  Soy Sauce\n"
     ]
    }
   ],
   "source": [
    "def the_sauce(result):\n",
    "    season_dict = {'01101':'Ketchup', '00100' : 'Soy Sauce', '10110' : 'Chili paste', '00001' : 'Heavy cream','10010' : 'Dry pasta seasoning'}\n",
    "    res = season_dict.get(result.top_measurement[::-1])\n",
    "    if res is not None : \n",
    "        return res\n",
    "    else:\n",
    "        print(\"The sauce with the code \",result.top_measurement[::-1],\" does not exists\")\n",
    "\n",
    "print(\"The selected sauce is : \",the_sauce(result))"
   ]
  },
  {
   "cell_type": "code",
   "execution_count": 62,
   "id": "88a118bc",
   "metadata": {
    "scrolled": true,
    "slideshow": {
     "slide_type": "-"
    }
   },
   "outputs": [
    {
     "data": {
      "image/png": "[encoded data removed]",
      "text/plain": [
       "<Figure size 504x360 with 1 Axes>"
      ]
     },
     "execution_count": 62,
     "metadata": {},
     "output_type": "execute_result"
    }
   ],
   "source": [
    "plot_histogram(result.circuit_results)"
   ]
  }
 ],
 "metadata": {
  "celltoolbar": "Diaporama",
  "kernelspec": {
   "display_name": "Python 3 (ipykernel)",
   "language": "python",
   "name": "python3"
  },
  "language_info": {
   "codemirror_mode": {
    "name": "ipython",
    "version": 3
   },
   "file_extension": ".py",
   "mimetype": "text/x-python",
   "name": "python",
   "nbconvert_exporter": "python",
   "pygments_lexer": "ipython3",
   "version": "3.9.7"
  }
 },
 "nbformat": 4,
 "nbformat_minor": 5
}
