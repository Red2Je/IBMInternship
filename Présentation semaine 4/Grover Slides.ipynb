{
 "cells": [
  {
   "cell_type": "code",
   "execution_count": 3,
   "id": "a3f2b97e",
   "metadata": {
    "slideshow": {
     "slide_type": "skip"
    }
   },
   "outputs": [],
   "source": [
    "from qiskit import QuantumCircuit, Aer, execute, IBMQ\n",
    "from qiskit.visualization import plot_histogram, plot_state_qsphere\n",
    "import math\n",
    "import numpy as np\n",
    "from IPython.display import Image, HTML\n",
    "%matplotlib inline"
   ]
  },
  {
   "cell_type": "markdown",
   "id": "29eb0fa7",
   "metadata": {
    "slideshow": {
     "slide_type": "slide"
    }
   },
   "source": [
    "# Grover's algorithm\n",
    "### What is it made for ?\n",
    "Goal : find a value that match a criterion in a list of values.\n",
    "<img src='grover_ressource/grover_list.png'/>  "
   ]
  },
  {
   "cell_type": "markdown",
   "id": "63dd5579",
   "metadata": {
    "slideshow": {
     "slide_type": "slide"
    }
   },
   "source": [
    "### How ?\n",
    "\n",
    "A quantum circuit create a superposition of all the states present in the list. For example, if we have the list $[|00\\rangle,|01\\rangle,|10\\rangle,|11\\rangle]$, the superposition created will be $\\frac{1}{2}(|00\\rangle+|01\\rangle+|10\\rangle+|11\\rangle)$.\n",
    "\n",
    "From this superposition, we are looking for a winner $w$ that respects certain criterion. For example, if we are looking for the number $3$, we want the first qubit to be measured to 1 and the second to 1 and thus the winner is $|11\\rangle$.\n",
    "\n",
    "1. Starting point : \n",
    "<img src='grover_ressource/grover_step1.jpg'/>\n",
    "Taken from https://qiskit.org/textbook/ch-algorithms/grover.html"
   ]
  },
  {
   "cell_type": "code",
   "execution_count": 4,
   "id": "d093258b",
   "metadata": {
    "slideshow": {
     "slide_type": "subslide"
    }
   },
   "outputs": [
    {
     "name": "stdout",
     "output_type": "stream",
     "text": [
      "The created superposition is :\n"
     ]
    },
    {
     "data": {
      "text/latex": [
       "$$\\frac{1}{2} |00\\rangle+\\frac{1}{2} |01\\rangle+\\frac{1}{2} |10\\rangle+\\frac{1}{2} |11\\rangle$$"
      ],
      "text/plain": [
       "<IPython.core.display.Latex object>"
      ]
     },
     "metadata": {},
     "output_type": "display_data"
    }
   ],
   "source": [
    "#Lets take for example a superposition |00>,|01>,|10>,|11>\n",
    "qc = QuantumCircuit(2)\n",
    "qc.h(range(2)) #applying two hadamard gates make the said superposition\n",
    "\n",
    "sv = Aer.get_backend('statevector_simulator')\n",
    "job = execute(qc,sv)\n",
    "print(\"The created superposition is :\")\n",
    "display(job.result().get_statevector().draw(output = 'latex'))"
   ]
  },
  {
   "cell_type": "markdown",
   "id": "a8073097",
   "metadata": {
    "slideshow": {
     "slide_type": "subslide"
    }
   },
   "source": [
    "2. Oracle application : \n",
    "The oracle is the circuit that will tell if the state follows the criterion or not. If it does, then the phase of the corresopnding state is inverted.\n",
    "<img src='grover_ressource/grover_step2.jpg'/>\n",
    "Taken from https://qiskit.org/textbook/ch-algorithms/grover.html"
   ]
  },
  {
   "cell_type": "code",
   "execution_count": 5,
   "id": "837865f5",
   "metadata": {
    "slideshow": {
     "slide_type": "subslide"
    }
   },
   "outputs": [
    {
     "name": "stdout",
     "output_type": "stream",
     "text": [
      "A phase has been introduced for state |11> :\n"
     ]
    },
    {
     "data": {
      "text/latex": [
       "$$\\frac{1}{2} |00\\rangle+\\frac{1}{2} |01\\rangle+\\frac{1}{2} |10\\rangle- \\frac{1}{2} |11\\rangle$$"
      ],
      "text/plain": [
       "<IPython.core.display.Latex object>"
      ]
     },
     "metadata": {},
     "output_type": "display_data"
    }
   ],
   "source": [
    "#Lets say that we are looking for the state |11>\n",
    "#The oracle to detect this state is the following : \n",
    "ora = QuantumCircuit(2, name = 'oracle |11>')\n",
    "#The control-z gate will apply a phase to our second qubit \n",
    "#only if both qubit are in state |1>\n",
    "ora.cz(0,1) \n",
    "\n",
    "qc.append(ora.to_gate(), range(2))#Apply the oracle to our circuit\n",
    "\n",
    "job = execute(qc,sv)\n",
    "print(\"A phase has been introduced for state |11> :\")\n",
    "display(job.result().get_statevector().draw(output = 'latex'))"
   ]
  },
  {
   "cell_type": "markdown",
   "id": "3ea0f914",
   "metadata": {
    "slideshow": {
     "slide_type": "subslide"
    }
   },
   "source": [
    "3. Phase amplification :\n",
    "A reflection is now applied relative to the old phase of every elements, in order to increase the probability of measuring the winner state.\n",
    "<img src = 'grover_ressource/grover_step3.jpg'/>\n",
    "Taken from https://qiskit.org/textbook/ch-algorithms/grover.html\n",
    "\n",
    "4. Repeat $\\sqrt N$ times, with $N$ the amount of criterion (which equals the amount of qubits)."
   ]
  },
  {
   "cell_type": "code",
   "execution_count": 6,
   "id": "544c9a57",
   "metadata": {
    "slideshow": {
     "slide_type": "subslide"
    }
   },
   "outputs": [
    {
     "name": "stdout",
     "output_type": "stream",
     "text": [
      "Now the measurements are :\n"
     ]
    },
    {
     "data": {
      "text/plain": [
       "{'11': 1.0}"
      ]
     },
     "metadata": {},
     "output_type": "display_data"
    }
   ],
   "source": [
    "#We now want to amplify the phase to make our winner stick out\n",
    "ref = QuantumCircuit(2)\n",
    "ref.h(range(2))\n",
    "ref.x(range(2))\n",
    "ref.cz(0,1)\n",
    "ref.x(range(2))\n",
    "ref.h(range(2))\n",
    "\n",
    "qc.append(ref.to_gate(), range(2))\n",
    "\n",
    "job = execute(qc,sv)\n",
    "print(\"Now the measurements are :\")\n",
    "display(job.result().get_counts())"
   ]
  },
  {
   "cell_type": "markdown",
   "id": "95887218",
   "metadata": {},
   "source": [
    "As we only have two qubits, we needed to repeat the oracle-reflection combination only $\\lfloor \\sqrt 2 \\rfloor= 1$ times"
   ]
  },
  {
   "cell_type": "markdown",
   "id": "46636d53",
   "metadata": {
    "slideshow": {
     "slide_type": "slide"
    }
   },
   "source": [
    "### Concrete application using Qiskit's prebuilt algorithms "
   ]
  },
  {
   "cell_type": "code",
   "execution_count": 7,
   "id": "c0142bfb",
   "metadata": {
    "slideshow": {
     "slide_type": "-"
    }
   },
   "outputs": [],
   "source": [
    "from qiskit.algorithms import Grover,AmplificationProblem\n",
    "from qiskit.circuit.library.phase_oracle import PhaseOracle\n",
    "from qiskit.visualization import plot_histogram\n",
    "from qiskit.utils import QuantumInstance"
   ]
  },
  {
   "cell_type": "markdown",
   "id": "2223dfe0",
   "metadata": {
    "slideshow": {
     "slide_type": "slide"
    }
   },
   "source": [
    "### What spice to use\n",
    "Eric wants to season its pasta plates and has a lot of spices in its kitchen. As Eric has the access to a quantum computer, he decides to input all of his requirements to Grover's algorithm for it to output the best seasoning for its pasta.\n",
    "\n",
    "In his kitchen, Eric has : \n",
    "\n",
    "Seasoning | Spicy ? (c1) | Sweet ? (c2) | Salty ? (c3) | Dry ? (c4) | Bad nutritional score ? (c5) | Encoding\n",
    ":-:|:-:|:-:|:-:|:-:|:-:|:-:\n",
    " Ketchup | no | yes | yes | no | yes | \\|$01101\\rangle$\n",
    " Soy sauce | no | no | yes | no | no | \\|$00100\\rangle$\n",
    " Chili paste | yes | no | yes | yes | no | \\|$10110\\rangle$\n",
    " Heavy cream | no | no | no | no | yes | \\|$00001\\rangle$\n",
    " Dry pasta seasoning | yes | no | no | yes | no | \\|$10010\\rangle$\n",
    "\n",
    "Now say that Eric wants the following seasoning for its lunch:\n",
    "Non-spicy, Salty, already liquid , with a good nutritional score.\n",
    "Eric can then encode its desire in the following binary expression : \n",
    "$\\neg c1 \\wedge \\neg c2 \\wedge c3 \\wedge \\neg c4 \\wedge \\neg c5$"
   ]
  },
  {
   "cell_type": "markdown",
   "id": "cc47433d",
   "metadata": {
    "slideshow": {
     "slide_type": "slide"
    }
   },
   "source": [
    "We can use Qiskit's algorithm library to compile the boolean expression into an oracle : "
   ]
  },
  {
   "cell_type": "code",
   "execution_count": 8,
   "id": "99816064",
   "metadata": {},
   "outputs": [
    {
     "data": {
      "image/png": "[encoded data removed]",
      "text/plain": [
       "<Figure size 146.797x325.08 with 1 Axes>"
      ]
     },
     "execution_count": 8,
     "metadata": {},
     "output_type": "execute_result"
    }
   ],
   "source": [
    "expr = \"~c1&~c2&c3&~c4&~c5\"\n",
    "oracle = PhaseOracle(expr)\n",
    "oracle.draw(output = 'mpl')"
   ]
  },
  {
   "cell_type": "markdown",
   "id": "67880684",
   "metadata": {
    "slideshow": {
     "slide_type": "slide"
    }
   },
   "source": [
    "We now have our oracle. Qiskit also provides a way to combine the oracle with the amplification part of the Grover algorithm : "
   ]
  },
  {
   "cell_type": "code",
   "execution_count": 9,
   "id": "eb2887ea",
   "metadata": {},
   "outputs": [],
   "source": [
    "problem = AmplificationProblem(oracle,is_good_state=oracle.evaluate_bitstring)\n",
    "# We setup our amplification problem with the oracle and we tell the created object which state \n",
    "#is a winner state according to the oracle"
   ]
  },
  {
   "cell_type": "markdown",
   "id": "a882e9d7",
   "metadata": {
    "slideshow": {
     "slide_type": "slide"
    }
   },
   "source": [
    "And everything can be brought together into a Grover problem, that can then be run (or amplified) to find the winner."
   ]
  },
  {
   "cell_type": "code",
   "execution_count": 10,
   "id": "4ff66e1d",
   "metadata": {},
   "outputs": [
    {
     "data": {
      "text/plain": [
       "'00100'"
      ]
     },
     "execution_count": 10,
     "metadata": {},
     "output_type": "execute_result"
    }
   ],
   "source": [
    "backend = Aer.get_backend('qasm_simulator')\n",
    "#We setup our grover object that will execute our problem\n",
    "algorithm = Grover(quantum_instance=QuantumInstance(backend, shots = 1024))\n",
    "#We execute Grover's algorithm on our amplification problem. The number of iterations is \n",
    "#determined in the function amplify\n",
    "result = algorithm.amplify(problem)\n",
    "#We reverse the bitstring as Qiskit's measurement are in the wrong order\n",
    "result.top_measurement[::-1]"
   ]
  },
  {
   "cell_type": "markdown",
   "id": "b859d0b7",
   "metadata": {
    "slideshow": {
     "slide_type": "slide"
    }
   },
   "source": [
    "We make a simple function to understand what our result corresponds to :"
   ]
  },
  {
   "cell_type": "code",
   "execution_count": 11,
   "id": "ad30a253",
   "metadata": {},
   "outputs": [
    {
     "name": "stdout",
     "output_type": "stream",
     "text": [
      "The selected sauce is :  Soy Sauce\n"
     ]
    }
   ],
   "source": [
    "def the_sauce(result):\n",
    "    season_dict = {'01101':'Ketchup', '00100' : 'Soy Sauce', '10110' : 'Chili paste', '00001' : 'Heavy cream','10010' : 'Dry pasta seasoning'}\n",
    "    res = season_dict.get(result.top_measurement[::-1])\n",
    "    if res is not None : \n",
    "        return res\n",
    "    else:\n",
    "        print(\"The sauce with the code \",result.top_measurement[::-1],\" does not exists\")\n",
    "\n",
    "print(\"The selected sauce is : \",the_sauce(result))"
   ]
  },
  {
   "cell_type": "markdown",
   "id": "2f2dd96b",
   "metadata": {
    "slideshow": {
     "slide_type": "slide"
    }
   },
   "source": [
    "And finally we can plot the probability distribution to see if there was any hesitation on the result : \n"
   ]
  },
  {
   "cell_type": "code",
   "execution_count": 12,
   "id": "915c43d6",
   "metadata": {},
   "outputs": [
    {
     "data": {
      "image/png": "[encoded data removed]",
      "text/plain": [
       "<Figure size 504x360 with 1 Axes>"
      ]
     },
     "execution_count": 12,
     "metadata": {},
     "output_type": "execute_result"
    }
   ],
   "source": [
    "plot_histogram(result.circuit_results)"
   ]
  },
  {
   "cell_type": "markdown",
   "id": "fbfa5d28",
   "metadata": {
    "slideshow": {
     "slide_type": "slide"
    }
   },
   "source": [
    "### Is it working that well on a real backend ?"
   ]
  },
  {
   "cell_type": "code",
   "execution_count": 13,
   "id": "3002e87e",
   "metadata": {
    "slideshow": {
     "slide_type": "skip"
    }
   },
   "outputs": [
    {
     "data": {
      "application/vnd.jupyter.widget-view+json": {
       "model_id": "b7f1105659884eb58cb86c29e9686fc2",
       "version_major": 2,
       "version_minor": 0
      },
      "text/plain": [
       "Accordion(children=(VBox(layout=Layout(max_width='710px', min_width='710px')),), layout=Layout(max_height='500…"
      ]
     },
     "metadata": {},
     "output_type": "display_data"
    },
    {
     "data": {
      "application/javascript": [
       "\n",
       "        const isLab = window['Jupyter'] === undefined;\n",
       "        const notebook = document.querySelector( isLab ? 'div.jp-Notebook' : '#site');\n",
       "        const jobWidget = document.querySelector('div.job_widget');\n",
       "        notebook.prepend(jobWidget);\n",
       "        jobWidget.style.zIndex = '999';\n",
       "        jobWidget.style.position = isLab ? 'sticky' : 'fixed';\n",
       "        jobWidget.style.boxShadow = '5px 5px 5px -3px black';\n",
       "        jobWidget.style.opacity = '0.95';\n",
       "        if (isLab) {\n",
       "            jobWidget.style.top = '0';\n",
       "            jobWidget.style.left = '0';\n",
       "        }\n",
       "        "
      ],
      "text/plain": [
       "<IPython.core.display.Javascript object>"
      ]
     },
     "metadata": {},
     "output_type": "display_data"
    }
   ],
   "source": [
    "from qiskit import IBMQ\n",
    "from qiskit.providers.ibmq import least_busy\n",
    "\n",
    "account = IBMQ.load_account()\n",
    "provider = IBMQ.get_provider(hub='ibm-q-internal', group='support', project='core-team')\n",
    "backend = least_busy(provider.backends(filters=lambda x: x.configuration().n_qubits == 5\n",
    "                                    and not x.configuration().simulator\n",
    "                                    and x.status().operational==True))\n",
    "from qiskit.tools.jupyter import job_watcher\n",
    "%qiskit_job_watcher"
   ]
  },
  {
   "cell_type": "code",
   "execution_count": 16,
   "id": "49d4a0b6",
   "metadata": {
    "slideshow": {
     "slide_type": "slide"
    }
   },
   "outputs": [
    {
     "name": "stdout",
     "output_type": "stream",
     "text": [
      "The least busy backend is :  ibmq_quito\n",
      "top measurement : 10101\n",
      "The sauce with the code  10101  does not exists\n",
      "None\n"
     ]
    }
   ],
   "source": [
    "# The least busy real backend with 5 qubits has been selected\n",
    "print(\"The least busy backend is : \",backend)\n",
    "#We setup our grover object that will execute our problem\n",
    "algorithm = Grover(quantum_instance=QuantumInstance(backend,shots = 1024), iterations =\n",
    "                   int(math.sqrt(problem.oracle.num_qubits)))\n",
    "#We execute Grover's algorithm on our amplification problem. The number of iterations \n",
    "#is determined in the function amplify\n",
    "result = algorithm.amplify(problem)\n",
    "#We reverse the bitstring as Qiskit's measurement are in the wrong order\n",
    "print(\"top measurement :\",result.top_measurement[::-1])\n",
    "print(the_sauce(result))\n"
   ]
  },
  {
   "cell_type": "code",
   "execution_count": 17,
   "id": "07e0ac9f",
   "metadata": {
    "slideshow": {
     "slide_type": "slide"
    }
   },
   "outputs": [
    {
     "data": {
      "image/png": "[encoded data removed]",
      "text/plain": [
       "<Figure size 504x360 with 1 Axes>"
      ]
     },
     "metadata": {},
     "output_type": "display_data"
    }
   ],
   "source": [
    "display(plot_histogram(result.circuit_results))"
   ]
  },
  {
   "cell_type": "code",
   "execution_count": null,
   "id": "0b7ad8b4",
   "metadata": {},
   "outputs": [],
   "source": []
  }
 ],
 "metadata": {
  "celltoolbar": "Diaporama",
  "kernelspec": {
   "display_name": "Python 3 (ipykernel)",
   "language": "python",
   "name": "python3"
  },
  "language_info": {
   "codemirror_mode": {
    "name": "ipython",
    "version": 3
   },
   "file_extension": ".py",
   "mimetype": "text/x-python",
   "name": "python",
   "nbconvert_exporter": "python",
   "pygments_lexer": "ipython3",
   "version": "3.9.7"
  }
 },
 "nbformat": 4,
 "nbformat_minor": 5
}
