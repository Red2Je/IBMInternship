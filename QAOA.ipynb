{
 "cells": [
  {
   "cell_type": "markdown",
   "id": "853dc25b",
   "metadata": {},
   "source": [
    "# Documentation tutorial"
   ]
  },
  {
   "cell_type": "code",
   "execution_count": 1,
   "id": "677508bf",
   "metadata": {},
   "outputs": [],
   "source": [
    "import numpy as np\n",
    "import networkx as nx\n",
    "\n",
    "from qiskit import Aer\n",
    "from qiskit.algorithms import NumPyMinimumEigensolver"
   ]
  },
  {
   "cell_type": "code",
   "execution_count": 2,
   "id": "0e721205",
   "metadata": {},
   "outputs": [],
   "source": [
    "num_nodes = 4\n",
    "w = np.array([[0., 1., 1., 0.],\n",
    "              [1., 0., 1., 1.],\n",
    "              [1., 1., 0., 1.],\n",
    "              [0., 1., 1., 0.]])\n",
    "\n",
    "G = nx.from_numpy_matrix(w)"
   ]
  },
  {
   "cell_type": "code",
   "execution_count": 3,
   "id": "5986f98f",
   "metadata": {},
   "outputs": [
    {
     "data": {
      "text/plain": [
       "{(0, 1): Text(0.7024844288825989, 0.3847779016941786, '1.0'),\n",
       " (0, 2): Text(0.634913831949234, 0.12277430109679699, '1.0'),\n",
       " (1, 2): Text(0.5660776197910309, 0.48680025339126587, '1.0'),\n",
       " (1, 3): Text(0.4158555418252945, 0.7546672821044922, '1.0'),\n",
       " (2, 3): Text(0.3482849448919296, 0.4926636815071106, '1.0')}"
      ]
     },
     "execution_count": 3,
     "metadata": {},
     "output_type": "execute_result"
    },
    {
     "data": {
      "image/png": "[encoded data removed]",
      "text/plain": [
       "<Figure size 432x288 with 1 Axes>"
      ]
     },
     "metadata": {},
     "output_type": "display_data"
    }
   ],
   "source": [
    "layout = nx.random_layout(G,seed = 10)\n",
    "colors = ['r','g','b','y']\n",
    "nx.draw(G,layout, node_color = colors)\n",
    "labels = nx.get_edge_attributes(G,'weight')\n",
    "nx.draw_networkx_edge_labels(G,pos = layout, edge_labels=labels)"
   ]
  },
  {
   "cell_type": "code",
   "execution_count": 4,
   "id": "968f25c0",
   "metadata": {},
   "outputs": [
    {
     "name": "stdout",
     "output_type": "stream",
     "text": [
      "Objective value computed by the brute-force method is 3\n"
     ]
    }
   ],
   "source": [
    "def objective_value(x,w):\n",
    "    X = np.outer(x,(1-x))\n",
    "    w_01 = np.where( w != 0, 1,0)\n",
    "    return np.sum(w_01*X)\n",
    "    \n",
    "def brute_force():\n",
    "    def bitfield(n,L):\n",
    "        result = np.binary_repr(n,L)\n",
    "        return [int(digit) for digit in result]\n",
    "    L = num_nodes\n",
    "    max = 2**L\n",
    "    minimal_v = np.inf\n",
    "    for i in range(max):\n",
    "        cur = bitfield(i,L)\n",
    "        how_many_nonzero = np.count_nonzero(cur)\n",
    "        if how_many_nonzero*2 != L:\n",
    "            continue\n",
    "        cur_v = objective_value(np.array(cur),w)\n",
    "        if cur_v < minimal_v:\n",
    "            minimal_v = cur_v\n",
    "    return minimal_v\n",
    "\n",
    "sol = brute_force()\n",
    "print(f'Objective value computed by the brute-force method is {sol}')"
   ]
  },
  {
   "cell_type": "code",
   "execution_count": 5,
   "id": "4ce5b385",
   "metadata": {},
   "outputs": [
    {
     "name": "stdout",
     "output_type": "stream",
     "text": [
      "Before :  [[-0.5, Pauli('IIZZ')], [-0.5, Pauli('IZIZ')], [-0.5, Pauli('IZZI')], [-0.5, Pauli('ZIZI')], [-0.5, Pauli('ZZII')], [1, Pauli('IIZZ')], [1, Pauli('IZIZ')], [1, Pauli('ZIIZ')], [1, Pauli('IIZZ')], [1, Pauli('IZZI')], [1, Pauli('ZIZI')], [1, Pauli('IZIZ')], [1, Pauli('IZZI')], [1, Pauli('ZZII')], [1, Pauli('ZIIZ')], [1, Pauli('ZIZI')], [1, Pauli('ZZII')]]\n",
      "After :  [('IIZZ', -0.5), ('IZIZ', -0.5), ('IZZI', -0.5), ('ZIZI', -0.5), ('ZZII', -0.5), ('IIZZ', 1), ('IZIZ', 1), ('ZIIZ', 1), ('IIZZ', 1), ('IZZI', 1), ('ZIZI', 1), ('IZIZ', 1), ('IZZI', 1), ('ZZII', 1), ('ZIIZ', 1), ('ZIZI', 1), ('ZZII', 1)]\n",
      "qbuti_op = \n",
      " -0.5 * IIZZ\n",
      "- 0.5 * IZIZ\n",
      "- 0.5 * IZZI\n",
      "- 0.5 * ZIZI\n",
      "- 0.5 * ZZII\n",
      "+ 1.0 * IIZZ\n",
      "+ 1.0 * IZIZ\n",
      "+ 1.0 * ZIIZ\n",
      "+ 1.0 * IIZZ\n",
      "+ 1.0 * IZZI\n",
      "+ 1.0 * ZIZI\n",
      "+ 1.0 * IZIZ\n",
      "+ 1.0 * IZZI\n",
      "+ 1.0 * ZZII\n",
      "+ 1.0 * ZIIZ\n",
      "+ 1.0 * ZIZI\n",
      "+ 1.0 * ZZII\n",
      "offset =  6.5\n"
     ]
    }
   ],
   "source": [
    "from qiskit.quantum_info import Pauli\n",
    "from qiskit.opflow import PauliSumOp\n",
    "\n",
    "def get_operator(weight_matrix):\n",
    "    r\"\"\"Generate Hamiltonian for the graph partitioning\n",
    "    Notes:\n",
    "        Goals:\n",
    "            1 separate the vertices into two set of the same size\n",
    "            2 make sure the number of edges between the two set is minimized.\n",
    "        Hamiltonian:\n",
    "            H = H_A + H_B\n",
    "            H_A = sum\\_{(i,j)\\in E}{(1-ZiZj)/2}\n",
    "            H_B = (sum_{i}{Zi})^2 = sum_{i}{Zi^2}+sum_{i!=j}{ZiZj}\n",
    "            H_A is for achieving goal 2 and H_B is for achieving goal 1.\n",
    "    Args:\n",
    "        weight_matrix (numpy.ndarray) : adjacency matrix.\n",
    "    Returns:\n",
    "        PauliSumOp: operator for the Hamiltonian\n",
    "        float: a constant shift for the obj function.\n",
    "    \"\"\"\n",
    "    num_nodes = len(weight_matrix)\n",
    "    pauli_list = []\n",
    "    shift = 0\n",
    "    \n",
    "    for i in range(num_nodes):\n",
    "        for j in range(i):\n",
    "            if weight_matrix[i,j] !=0:\n",
    "                x_p = np.zeros(num_nodes, dtype=bool)\n",
    "                z_p = np.zeros(num_nodes, dtype=bool)\n",
    "                z_p[i] = True\n",
    "                z_p[j] = True\n",
    "                pauli_list.append([-0.5, Pauli((z_p,x_p))])\n",
    "                shift += 0.5\n",
    "    for i in range(num_nodes):\n",
    "        for j in range(num_nodes):\n",
    "            if i!=j:\n",
    "                x_p = np.zeros(num_nodes, dtype=bool)\n",
    "                z_p = np.zeros(num_nodes, dtype=bool)\n",
    "                z_p[i] = True\n",
    "                z_p[j] = True\n",
    "                pauli_list.append([1,Pauli((z_p,x_p))])\n",
    "            else:\n",
    "                shift += 1\n",
    "    print(\"Before : \",pauli_list)\n",
    "    pauli_list = [(pauli[1].to_label(), pauli[0]) for pauli in pauli_list]\n",
    "    print(\"After : \",pauli_list)\n",
    "    \n",
    "    return PauliSumOp.from_list(pauli_list), shift\n",
    "qubit_op, offset = get_operator(w)\n",
    "\n",
    "print(\"qbuti_op = \\n\",qubit_op)\n",
    "print(\"offset = \",offset)"
   ]
  },
  {
   "cell_type": "code",
   "execution_count": 19,
   "id": "3ccf082e",
   "metadata": {},
   "outputs": [
    {
     "ename": "TypeError",
     "evalue": "__init__() got an unexpected keyword argument 'shots'",
     "output_type": "error",
     "traceback": [
      "\u001b[1;31m---------------------------------------------------------------------------\u001b[0m",
      "\u001b[1;31mTypeError\u001b[0m                                 Traceback (most recent call last)",
      "\u001b[1;32mC:\\Users\\108997~1\\AppData\\Local\\Temp/ipykernel_14748/1227624527.py\u001b[0m in \u001b[0;36m<module>\u001b[1;34m\u001b[0m\n\u001b[0;32m     34\u001b[0m \u001b[1;31m# algorithm_globals.random_seed = 10598\u001b[0m\u001b[1;33m\u001b[0m\u001b[1;33m\u001b[0m\u001b[0m\n\u001b[0;32m     35\u001b[0m \u001b[0moptimizer\u001b[0m \u001b[1;33m=\u001b[0m \u001b[0mCOBYLA\u001b[0m\u001b[1;33m(\u001b[0m\u001b[1;33m)\u001b[0m\u001b[1;33m\u001b[0m\u001b[1;33m\u001b[0m\u001b[0m\n\u001b[1;32m---> 36\u001b[1;33m \u001b[0mqaoa\u001b[0m \u001b[1;33m=\u001b[0m \u001b[0mQAOA\u001b[0m\u001b[1;33m(\u001b[0m\u001b[0moptimizer\u001b[0m\u001b[1;33m,\u001b[0m \u001b[0mquantum_instance\u001b[0m\u001b[1;33m=\u001b[0m\u001b[0mAer\u001b[0m\u001b[1;33m.\u001b[0m\u001b[0mget_backend\u001b[0m\u001b[1;33m(\u001b[0m\u001b[1;34m'qasm_simulator'\u001b[0m\u001b[1;33m)\u001b[0m\u001b[1;33m,\u001b[0m \u001b[0mshots\u001b[0m\u001b[1;33m=\u001b[0m\u001b[1;36m1024\u001b[0m\u001b[1;33m)\u001b[0m\u001b[1;33m\u001b[0m\u001b[1;33m\u001b[0m\u001b[0m\n\u001b[0m\u001b[0;32m     37\u001b[0m \u001b[1;33m\u001b[0m\u001b[0m\n\u001b[0;32m     38\u001b[0m \u001b[0mresult\u001b[0m \u001b[1;33m=\u001b[0m \u001b[0mqaoa\u001b[0m\u001b[1;33m.\u001b[0m\u001b[0mcompute_minimum_eigenvalue\u001b[0m\u001b[1;33m(\u001b[0m\u001b[0mqubit_op\u001b[0m\u001b[1;33m)\u001b[0m\u001b[1;33m\u001b[0m\u001b[1;33m\u001b[0m\u001b[0m\n",
      "\u001b[1;31mTypeError\u001b[0m: __init__() got an unexpected keyword argument 'shots'"
     ]
    }
   ],
   "source": [
    "from collections import OrderedDict\n",
    "from qiskit.utils import algorithm_globals\n",
    "from qiskit.algorithms import QAOA\n",
    "from qiskit.opflow import StateFn\n",
    "from qiskit.algorithms.optimizers import COBYLA\n",
    "from qiskit.circuit.library import TwoLocal\n",
    "\n",
    "def sample_most_likely(state_vector):\n",
    "    \"\"\"Compute the most likely binary string from state vector.\n",
    "    Args:\n",
    "        state_vector (numpy.ndarray or dict): state vector or counts.\n",
    "    Returns:\n",
    "        numpy.ndarray: binary string as numpy.ndarray of ints.\n",
    "    \"\"\"\n",
    "    if isinstance(state_vector, (OrderedDict, dict)):\n",
    "        binary_string = sorted(state_vector.items(), key=lambda kv: kv[1])[-1][0]\n",
    "        x = np.asarray([int(y) for y in reversed(list(binary_string))])\n",
    "        return x\n",
    "    elif isinstance(state_vector, StateFn):\n",
    "        binary_string = list(state_vector.sample().keys())[0]\n",
    "        x = np.asarray([int(y) for y in reversed(list(binary_string))])\n",
    "        return x\n",
    "    else:\n",
    "        n = int(np.log2(state_vector.shape[0]))\n",
    "        k = np.argmax(np.abs(state_vector))\n",
    "        x = np.zeros(n)\n",
    "        for i in range(n):\n",
    "            x[i] = k%2\n",
    "            k >>=1\n",
    "        return x\n",
    "    \n",
    "\n",
    "    \n",
    "# algorithm_globals.random_seed = 10598\n",
    "optimizer = COBYLA()\n",
    "qaoa = QAOA(optimizer, quantum_instance=Aer.get_backend('qasm_simulator'), shots=1024)\n",
    "\n",
    "result = qaoa.compute_minimum_eigenvalue(qubit_op)\n",
    "\n",
    "x = sample_most_likely(result.eigenstate)\n",
    "\n",
    "print(x)\n",
    "print(f'Objective value computed by QAOA is {objective_value(x, w)}')\n",
    "    "
   ]
  },
  {
   "cell_type": "code",
   "execution_count": 14,
   "id": "127e3e3b",
   "metadata": {},
   "outputs": [],
   "source": [
    "result_list = []\n",
    "for i in range(100):\n",
    "    result = qaoa.compute_minimum_eigenvalue(qubit_op)\n",
    "    x = sample_most_likely(result.eigenstate)\n",
    "    result_list.append(objective_value(x,w))\n",
    "import matplotlib.pyplot as plt\n",
    "\n"
   ]
  },
  {
   "cell_type": "code",
   "execution_count": 15,
   "id": "c22288f4",
   "metadata": {},
   "outputs": [
    {
     "data": {
      "image/png": "[encoded data removed]",
      "text/plain": [
       "<Figure size 432x288 with 1 Axes>"
      ]
     },
     "metadata": {
      "needs_background": "light"
     },
     "output_type": "display_data"
    }
   ],
   "source": [
    "plt.hist(result_list)\n",
    "plt.show()"
   ]
  },
  {
   "cell_type": "code",
   "execution_count": 46,
   "id": "53526e2b",
   "metadata": {},
   "outputs": [
    {
     "name": "stdout",
     "output_type": "stream",
     "text": [
      "[1 1 0 0]\n",
      "Objective value computed by the NumPyMinimumEigensolver is 3\n"
     ]
    }
   ],
   "source": [
    "npme = NumPyMinimumEigensolver()\n",
    "result = npme.compute_minimum_eigenvalue(qubit_op)\n",
    "x = sample_most_likely(result.eigenstate)\n",
    "\n",
    "print(x)\n",
    "print(f'Objective value computed by the NumPyMinimumEigensolver is {objective_value(x, w)}')"
   ]
  },
  {
   "cell_type": "code",
   "execution_count": 47,
   "id": "72f583a9",
   "metadata": {},
   "outputs": [
    {
     "name": "stdout",
     "output_type": "stream",
     "text": [
      "[0. 1. 0. 1.]\n",
      "Objective value computed by VQE is 3.0\n"
     ]
    }
   ],
   "source": [
    "from qiskit.algorithms import VQE\n",
    "from qiskit.circuit.library import TwoLocal\n",
    "\n",
    "algorithm_globals.random_seed = 10598\n",
    "optimizer = COBYLA()\n",
    "ansatz = TwoLocal(qubit_op.num_qubits, 'ry','cz', reps = 5, entanglement = 'linear')\n",
    "\n",
    "vqe = VQE(ansatz,optimizer,quantum_instance=Aer.get_backend('statevector_simulator'))\n",
    "result = vqe.compute_minimum_eigenvalue(qubit_op)\n",
    "x = sample_most_likely(result.eigenstate)\n",
    "\n",
    "print(x)\n",
    "print(f'Objective value computed by VQE is {objective_value(x, w)}')"
   ]
  },
  {
   "cell_type": "markdown",
   "id": "53edceea",
   "metadata": {},
   "source": [
    "# Textbook tutorial"
   ]
  },
  {
   "cell_type": "code",
   "execution_count": 20,
   "id": "b2c090cc",
   "metadata": {},
   "outputs": [],
   "source": [
    "import networkx as nx\n",
    "import matplotlib.pyplot as plt"
   ]
  },
  {
   "cell_type": "code",
   "execution_count": 21,
   "id": "7b00cb54",
   "metadata": {},
   "outputs": [
    {
     "data": {
      "image/png": "[encoded data removed]",
      "text/plain": [
       "<Figure size 432x288 with 1 Axes>"
      ]
     },
     "metadata": {},
     "output_type": "display_data"
    }
   ],
   "source": [
    "\n",
    "G = nx.Graph()\n",
    "G.add_nodes_from([0, 1, 2, 3])\n",
    "G.add_edges_from([(0, 1), (1, 2), (2, 3), (3, 0)])\n",
    "nx.draw(G, with_labels=True, alpha=0.8, node_size=500)"
   ]
  },
  {
   "cell_type": "markdown",
   "id": "f6dcc9ba",
   "metadata": {},
   "source": [
    "### Mixing unitary"
   ]
  },
  {
   "cell_type": "code",
   "execution_count": 24,
   "id": "dbf19f95",
   "metadata": {},
   "outputs": [
    {
     "data": {
      "image/png": "[encoded data removed]",
      "text/plain": [
       "<Figure size 146.797x264.88 with 1 Axes>"
      ]
     },
     "execution_count": 24,
     "metadata": {},
     "output_type": "execute_result"
    }
   ],
   "source": [
    "from qiskit import QuantumCircuit, ClassicalRegister, QuantumRegister\n",
    "from qiskit import Aer, execute\n",
    "from qiskit.circuit import Parameter\n",
    "\n",
    "# Adjacency is essentially a matrix which tells you which nodes are\n",
    "# connected. This matrix is given as a sparse matrix, so we need to\n",
    "# convert it to a dense matrix\n",
    "adjacency = nx.adjacency_matrix(G).todense()\n",
    "\n",
    "nqubits = 4\n",
    "\n",
    "beta = Parameter(\"$\\\\beta$\")\n",
    "qc_mix = QuantumCircuit(nqubits)\n",
    "for i in range(0, nqubits):\n",
    "    qc_mix.rx(2 * beta, i)\n",
    "    \n",
    "qc_mix.draw(output='mpl')"
   ]
  },
  {
   "cell_type": "markdown",
   "id": "5aeb92fe",
   "metadata": {},
   "source": [
    "### Problem unitary / Cost Hamiltonian"
   ]
  },
  {
   "cell_type": "code",
   "execution_count": 25,
   "id": "b0ae82a3",
   "metadata": {},
   "outputs": [
    {
     "data": {
      "image/png": "[encoded data removed]",
      "text/plain": [
       "<Figure size 1049.8x264.88 with 1 Axes>"
      ]
     },
     "execution_count": 25,
     "metadata": {},
     "output_type": "execute_result"
    }
   ],
   "source": [
    "gamma = Parameter(\"$\\\\gamma$\")\n",
    "qc_p = QuantumCircuit(nqubits)\n",
    "for pair in list(G.edges()):  # pairs of nodes\n",
    "    qc_p.rzz(2 * gamma, pair[0], pair[1])\n",
    "    qc_p.barrier()\n",
    "    \n",
    "qc_p.decompose().draw(output='mpl')"
   ]
  },
  {
   "cell_type": "code",
   "execution_count": 26,
   "id": "68bc4238",
   "metadata": {},
   "outputs": [
    {
     "data": {
      "image/png": "[encoded data removed]",
      "text/plain": [
       "<Figure size 146.797x264.88 with 1 Axes>"
      ]
     },
     "execution_count": 26,
     "metadata": {},
     "output_type": "execute_result"
    }
   ],
   "source": [
    "qc_0 = QuantumCircuit(nqubits)\n",
    "for i in range(0, nqubits):\n",
    "    qc_0.h(i)\n",
    "\n",
    "qc_0.draw(output = 'mpl')"
   ]
  },
  {
   "cell_type": "code",
   "execution_count": 27,
   "id": "03985538",
   "metadata": {},
   "outputs": [
    {
     "data": {
      "image/png": "[encoded data removed]",
      "text/plain": [
       "<Figure size 1170.2x264.88 with 1 Axes>"
      ]
     },
     "execution_count": 27,
     "metadata": {},
     "output_type": "execute_result"
    }
   ],
   "source": [
    "qc_qaoa = QuantumCircuit(nqubits)\n",
    "\n",
    "qc_qaoa.append(qc_0, [i for i in range(0, nqubits)])\n",
    "qc_qaoa.append(qc_p, [i for i in range(0, nqubits)])\n",
    "qc_qaoa.append(qc_mix, [i for i in range(0, nqubits)])\n",
    "\n",
    "qc_qaoa.decompose().decompose().draw(output = 'mpl')"
   ]
  },
  {
   "cell_type": "code",
   "execution_count": 28,
   "id": "08af33fa",
   "metadata": {},
   "outputs": [],
   "source": [
    "def maxcut_obj(x, G):\n",
    "    \"\"\"\n",
    "    Given a bitstring as a solution, this function returns\n",
    "    the number of edges shared between the two partitions\n",
    "    of the graph.\n",
    "    \n",
    "    Args:\n",
    "        x: str\n",
    "           solution bitstring\n",
    "           \n",
    "        G: networkx graph\n",
    "        \n",
    "    Returns:\n",
    "        obj: float\n",
    "             Objective\n",
    "    \"\"\"\n",
    "    obj = 0\n",
    "    for i, j in G.edges():\n",
    "        if x[i] != x[j]:\n",
    "            obj -= 1\n",
    "            \n",
    "    return obj"
   ]
  },
  {
   "cell_type": "code",
   "execution_count": 31,
   "id": "750b232b",
   "metadata": {},
   "outputs": [],
   "source": [
    "def compute_expectation(counts, G):\n",
    "    \n",
    "    \"\"\"\n",
    "    Computes expectation value based on measurement results\n",
    "    \n",
    "    Args:\n",
    "        counts: dict\n",
    "                key as bitstring, val as count\n",
    "           \n",
    "        G: networkx graph\n",
    "        \n",
    "    Returns:\n",
    "        avg: float\n",
    "             expectation value\n",
    "    \"\"\"\n",
    "    \n",
    "    avg = 0\n",
    "    sum_count = 0\n",
    "    for bitstring, count in counts.items():\n",
    "        \n",
    "        obj = maxcut_obj(bitstring, G)\n",
    "        avg += obj * count\n",
    "        sum_count += count\n",
    "        \n",
    "    return avg/sum_count"
   ]
  },
  {
   "cell_type": "code",
   "execution_count": 32,
   "id": "61418ed3",
   "metadata": {},
   "outputs": [],
   "source": [
    "# We will also bring the different circuit components that\n",
    "# build the qaoa circuit under a single function\n",
    "def create_qaoa_circ(G, theta):\n",
    "    \n",
    "    \"\"\"\n",
    "    Creates a parametrized qaoa circuit\n",
    "    \n",
    "    Args:  \n",
    "        G: networkx graph\n",
    "        theta: list\n",
    "               unitary parameters\n",
    "                     \n",
    "    Returns:\n",
    "        qc: qiskit circuit\n",
    "    \"\"\"\n",
    "    \n",
    "    nqubits = len(G.nodes())\n",
    "    p = len(theta)//2  # number of alternating unitaries\n",
    "    qc = QuantumCircuit(nqubits)\n",
    "    \n",
    "    beta = theta[:p]\n",
    "    gamma = theta[p:]\n",
    "    \n",
    "    # initial_state\n",
    "    for i in range(0, nqubits):\n",
    "        qc.h(i)\n",
    "    \n",
    "    for irep in range(0, p):\n",
    "        \n",
    "        # problem unitary\n",
    "        for pair in list(G.edges()):\n",
    "            qc.rzz(2 * gamma[irep], pair[0], pair[1])\n",
    "\n",
    "        # mixer unitary\n",
    "        for i in range(0, nqubits):\n",
    "            qc.rx(2 * beta[irep], i)\n",
    "            \n",
    "    qc.measure_all()\n",
    "        \n",
    "    return qc"
   ]
  },
  {
   "cell_type": "code",
   "execution_count": 33,
   "id": "0d3545dc",
   "metadata": {},
   "outputs": [],
   "source": [
    "# Finally we write a function that executes the circuit on the chosen backend\n",
    "def get_expectation(G, p, shots=512):\n",
    "    \n",
    "    \"\"\"\n",
    "    Runs parametrized circuit\n",
    "    \n",
    "    Args:\n",
    "        G: networkx graph\n",
    "        p: int,\n",
    "           Number of repetitions of unitaries\n",
    "    \"\"\"\n",
    "    \n",
    "    backend = Aer.get_backend('qasm_simulator')\n",
    "    backend.shots = shots\n",
    "    \n",
    "    def execute_circ(theta):\n",
    "        \n",
    "        qc = create_qaoa_circ(G, theta)\n",
    "        counts = backend.run(qc, seed_simulator=10, \n",
    "                             nshots=512).result().get_counts()\n",
    "        \n",
    "        return compute_expectation(counts, G)\n",
    "    \n",
    "    return execute_circ"
   ]
  },
  {
   "cell_type": "code",
   "execution_count": 36,
   "id": "cc56be8d",
   "metadata": {},
   "outputs": [
    {
     "data": {
      "text/plain": [
       "     fun: -2.994140625\n",
       "   maxcv: 0.0\n",
       " message: 'Optimization terminated successfully.'\n",
       "    nfev: 30\n",
       "  status: 1\n",
       " success: True\n",
       "       x: array([1.9793337 , 1.16663483])"
      ]
     },
     "execution_count": 36,
     "metadata": {},
     "output_type": "execute_result"
    }
   ],
   "source": [
    "from scipy.optimize import minimize\n",
    "\n",
    "\n",
    "expectation = get_expectation(G, p=1, shots = 1024)\n",
    "\n",
    "res = minimize(expectation, \n",
    "                      [1.0, 1.0], \n",
    "                      method='COBYLA')\n",
    "res"
   ]
  },
  {
   "cell_type": "code",
   "execution_count": 46,
   "id": "abad87b5",
   "metadata": {},
   "outputs": [
    {
     "data": {
      "image/png": "[encoded data removed]",
      "text/plain": [
       "<Figure size 504x360 with 1 Axes>"
      ]
     },
     "execution_count": 46,
     "metadata": {},
     "output_type": "execute_result"
    }
   ],
   "source": [
    "from qiskit.visualization import plot_histogram\n",
    "\n",
    "backend = Aer.get_backend('aer_simulator')\n",
    "backend.shots = 512\n",
    "\n",
    "qc_res = create_qaoa_circ(G, res.x)\n",
    "\n",
    "counts = backend.run(qc_res).result().get_counts()\n",
    "\n",
    "plot_histogram(counts)"
   ]
  },
  {
   "cell_type": "code",
   "execution_count": null,
   "id": "0a526950",
   "metadata": {},
   "outputs": [],
   "source": []
  }
 ],
 "metadata": {
  "kernelspec": {
   "display_name": "Python 3 (ipykernel)",
   "language": "python",
   "name": "python3"
  },
  "language_info": {
   "codemirror_mode": {
    "name": "ipython",
    "version": 3
   },
   "file_extension": ".py",
   "mimetype": "text/x-python",
   "name": "python",
   "nbconvert_exporter": "python",
   "pygments_lexer": "ipython3",
   "version": "3.9.7"
  }
 },
 "nbformat": 4,
 "nbformat_minor": 5
}
