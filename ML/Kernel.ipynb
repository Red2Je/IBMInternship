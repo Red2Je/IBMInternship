{
 "cells": [
  {
   "cell_type": "markdown",
   "id": "4f6a06e4",
   "metadata": {},
   "source": [
    "# Finding the kernel\n",
    "\n",
    "From a feature map $\\phi$, one can find the kernel by applying : \n",
    "$$\\kappa(x,x') = \\langle\\phi(x)|\\phi(x')\\rangle$$\n",
    "The kernel is heavly on the type of encoding you are using : \n",
    "\n",
    "## Basis encoding\n",
    "\n",
    "## Basis encoding: \n",
    "Mapping of the classical data to the quantum data :\n",
    "$$\\phi : i \\rightarrow |i\\rangle$$\n",
    "Thus : \n",
    "$$\\kappa(i,j) = \\langle i|j\\rangle = \\delta_{ij}$$\n",
    "\n",
    "\n",
    "## Amplitude encoding\n",
    "Amplitude encoding uses this map : \n",
    "$$\\phi : x \\rightarrow |\\psi_x\\rangle$$\n",
    "with $N = 2^n$ and\n",
    "$$|\\psi_x\\rangle = \\sum_{i = 0}^{N-1} x_i|i\\rangle$$\n",
    "Thus : \n",
    "$$\\kappa(x,x') = \\langle\\psi_x|\\psi_{x'}\\rangle = x^Tx'$$\n",
    "The inputs $x$ and $x'$ for this type of information encoding must be normalized to a unit vector.\n",
    "\n",
    "## Copies of quantum states\n",
    "The same as aplitude encoding, but the state is copied over multiple qubits : \n",
    "$$\\phi x \\rightarrow |\\psi_x\\rangle \\otimes ... \\otimes |\\psi_x\\rangle$$\n",
    "Thus : \n",
    "$$\\kappa(x,x') = \\langle\\psi_x|\\psi_{x'}\\rangle \\otimes ... \\otimes \\langle\\psi_x|\\psi_{x'}\\rangle = (x^Tx')^d$$\n",
    "with $d$ the number of copies.\n",
    "\n",
    "## Angle encoding\n",
    "The goal of angle encoding is to encode one feature per qubit, as per amplitude encoding. If we consider a feature vector $x = (x_1,...,x_N) \\in \\mathbb{R}^N$, the desired encoding would be : \n",
    "$$q(x_i) = cos(x_i)|0\\rangle + sin(x_i)|1\\rangle$$\n",
    "Which leds to the feature map : \n",
    "$$\\phi: x \\rightarrow \\begin{pmatrix} cos(x_1) \\\\ sin(x_1) \\\\ \\end{pmatrix}  \\otimes ... \\otimes \\begin{pmatrix} cos(x_N) \\\\ sin(x_N) \\\\ \\end{pmatrix}$$\n",
    "Thus, the corresopnding kernel is : \n",
    "    $$\\kappa(x,x') = \\begin{pmatrix} cos(x_1) \\\\ sin(x_1) \\\\ \\end{pmatrix} ^T \\begin{pmatrix} cos(x_1') \\\\ sin(x_1') \\\\ \\end{pmatrix} \\otimes ... \\otimes \\begin{pmatrix} cos(x_N) \\\\ sin(x_N) \\\\ \\end{pmatrix}^T \\begin{pmatrix} cos(x_N') \\\\ sin(x_N') \\\\ \\end{pmatrix}$$\n",
    "$$ = \\prod_{i = 1}^N sin(x_i) sin(x_i') + cos(x_i) cos(x_i')$$\n",
    "$$ = \\prod_{i = 1}^N cos(x_i-x_i')$$"
   ]
  },
  {
   "cell_type": "markdown",
   "id": "e2153b0d",
   "metadata": {},
   "source": [
    "# Kernelised classifiers \n",
    "## Using basis encoding\n",
    "Suppose that we are representing every input as follows : \n",
    "$$ x_i = (-1)^{b_s}(b_12^1+b_02^0+b_{-1}\\frac{1}{2^1}+b_{-2}\\frac{1}{2^2}+b_{-3}\\frac{1}{2^3}$$\n",
    "Thus we can encode the whole feature vector into :\n",
    "$$|x\\rangle  = |(b_s)_1, (b_1)_1, ... , (b_{-3})_1, (b_s)_2, ..., (b_{-3})_N\\rangle$$\n",
    "\n",
    "Then if we want to compare two feature vectors $x$ and $x'$, we can simply use the xor operator between each qubits of the same index and store the result of the operator in place of the second encoded feature vector.\n",
    "The final state after applying the xor operator will be : \n",
    "$$ |(b_s)_1, (b_1)_1, ... , (b_{-3})_N, (d_s)_1,...,(d_{-3})_N\\rangle$$, with $(d_i)_j$ corresponding to the result of the xor operator on the i-th information ($i \\in [s,1,...,-3]$) , between the two j-th bit of $x$ and $x'$.\n",
    "\n",
    "The latter states can be rewritten $|(b_s)_1, (b_1)_1, ... , (b_{-3})_N \\rangle\\otimes|d(x,x')\\rangle$, with \n",
    "$$d(x,x') = \\sum_{i=1}^N(-1)^{(d_s)_i}\\sum_{j = 0,1,...,-3} (d_j)_i2^j$$\n"
   ]
  },
  {
   "cell_type": "code",
   "execution_count": null,
   "id": "bcd4a972",
   "metadata": {},
   "outputs": [],
   "source": []
  }
 ],
 "metadata": {
  "kernelspec": {
   "display_name": "Python 3 (ipykernel)",
   "language": "python",
   "name": "python3"
  },
  "language_info": {
   "codemirror_mode": {
    "name": "ipython",
    "version": 3
   },
   "file_extension": ".py",
   "mimetype": "text/x-python",
   "name": "python",
   "nbconvert_exporter": "python",
   "pygments_lexer": "ipython3",
   "version": "3.9.7"
  }
 },
 "nbformat": 4,
 "nbformat_minor": 5
}
