{
 "cells": [
  {
   "cell_type": "markdown",
   "id": "320772bf",
   "metadata": {},
   "source": [
    "# Kernel classification\n",
    "\n",
    "## General kernel\n",
    "\n",
    "Now that we know how to encode data into the Hilbert space of a quantum computer, we can define a kernel for such encoding. Hence that we have a mapping function $\\phi$ that encode a feature vector $x$ into a vector $\\phi(x)$, then we define the kernel function that compute the distance between two feature vector $x$ and $x'$ : \n",
    "$$\\kappa(x,x') = \\langle\\phi(x)|\\phi(x')\\rangle$$\n",
    "\n",
    "Let's sum up the kernel we can find depending of the type of encoding used : "
   ]
  },
  {
   "cell_type": "markdown",
   "id": "cd564f6b",
   "metadata": {},
   "source": [
    "### Basis encoding : \n",
    "Mapping function : \n",
    "$$\\phi : x \\rightarrow |x\\rangle$$\n",
    "Kernel : \n",
    "$$ \\kappa(x,x') = \\langle x|x'\\rangle = \\delta_{x,x'}$$\n",
    "with $\\delta_{x,x'}$ the Kroenecker operator.\n",
    "\n",
    "### Amplitude encoding \n",
    "Mapping function (with $x$ normalized) : \n",
    "$$\\phi : x \\rightarrow |\\psi_x\\rangle = \\sum_{i = 1}^N x_i|i\\rangle$$\n",
    "Kernel : \n",
    "$$\\kappa(x,x') = \\langle\\psi_x|\\psi_{x'}\\rangle = x^Tx'$$\n",
    "\n",
    "### Angle encoding \n",
    "Mapping function : \n",
    "$$\\phi : x \\rightarrow \\begin{pmatrix} cos(x_1) \\\\ sin(x_1) \\\\ \\end{pmatrix} \\otimes \\dots \\otimes \\begin{pmatrix} cos(x_N) \\\\ sin(x_N) \\\\ \\end{pmatrix}$$\n",
    "Kernel : \n",
    "$$\\begin{aligned}\n",
    "    \\kappa(x,x')  & = \\begin{pmatrix} cos(x_1) \\\\ sin(x_1) \\\\ \\end{pmatrix}^T\\begin{pmatrix}cos(x'_1)\\\\sin(x'_1)\\\\ \\end{pmatrix} \\otimes \\dots \\otimes \\begin{pmatrix} cos(x_N) \\\\ sin(x_N) \\\\ \\end{pmatrix}^T\\begin{pmatrix}cos(x'_N) \\\\ sin(x'_N) \\\\ \\end{pmatrix}\\\\\n",
    "    & = \\prod_{i = 1}^Ncos(x_i-x'_i)\n",
    "\\end{aligned}$$\n"
   ]
  },
  {
   "cell_type": "markdown",
   "id": "213b3d5b",
   "metadata": {},
   "source": [
    "## Kernel machine learning state of the art\n",
    "At the time this book was written (https://link.springer.com/book/10.1007/978-3-319-96424-9?noAccess=true), the pipeline for quantum machine learning was : \n",
    "<img src='qsvc.svg'/>\n",
    "with $\\vec{X_i}$ the input feature vector and $K$ the kernel function.  \n",
    "An example is given below."
   ]
  },
  {
   "cell_type": "markdown",
   "id": "159a7d75",
   "metadata": {},
   "source": [
    "We start by generating our dataset"
   ]
  },
  {
   "cell_type": "code",
   "execution_count": null,
   "id": "9fcd377e",
   "metadata": {},
   "outputs": [],
   "source": [
    "import matplotlib.pyplot as plt\n",
    "import numpy as np\n",
    "from qiskit.utils import algorithm_globals\n",
    "algorithm_globals.random_seed = 12345\n",
    "\n",
    "from qiskit_machine_learning.datasets import ad_hoc_data\n",
    "\n",
    "train_data, train_labels, test_data, test_labels, sample_total = (\n",
    "    ad_hoc_data(training_size=20, test_size=5, n=2, gap=0.3, \n",
    "                include_sample_total=True, one_hot=False))\n",
    "# Plot data and class boundaries\n",
    "fig = plt.figure(figsize=(15, 5))\n",
    "axdata = fig.add_subplot(131)\n",
    "axdata.set_title(\"Data\")\n",
    "axdata.set_ylim(0, 2 * np.pi)\n",
    "axdata.set_xlim(0, 2 * np.pi)\n",
    "\n",
    "plt.scatter(train_data[np.where(train_labels[:] == 0), 0],\n",
    "            train_data[np.where(train_labels[:] == 0), 1],\n",
    "            marker='s', facecolors='w', edgecolors='C0',\n",
    "            label=\"A train\")\n",
    "plt.scatter(train_data[np.where(train_labels[:] == 1), 0],\n",
    "            train_data[np.where(train_labels[:] == 1), 1],\n",
    "            marker='o', facecolors='w', edgecolors='C3',\n",
    "            label=\"B train\")\n",
    "plt.scatter(test_data[np.where(test_labels[:] == 0), 0],\n",
    "            test_data[np.where(test_labels[:] == 0), 1],\n",
    "            marker='s', facecolors='C0', label=\"A test\")\n",
    "plt.scatter(test_data[np.where(test_labels[:] == 1), 0],\n",
    "            test_data[np.where(test_labels[:] == 1), 1],\n",
    "            marker='o', facecolors='C3', label=\"B test\")\n",
    "plt.legend()\n",
    "\n",
    "from matplotlib.colors import ListedColormap\n",
    "cmap = ListedColormap([\"C3\",\"w\",\"C0\"])\n",
    "\n",
    "axmap = fig.add_subplot(132)\n",
    "axmap.set_title(\"Class Boundaries\")\n",
    "axmap.set_ylim(0, 2 * np.pi)\n",
    "axmap.set_xlim(0, 2 * np.pi)\n",
    "axmap.imshow(np.asmatrix(sample_total).T,\n",
    "             interpolation='nearest',\n",
    "             origin='lower', cmap=cmap,\n",
    "             extent=[0, 2 * np.pi, 0, 2 * np.pi])\n",
    "\n",
    "axboth = fig.add_subplot(133)\n",
    "axboth.set_title(\"Data overlayed on Class Boundaries\")\n",
    "axboth.set_ylim(0, 2 * np.pi)\n",
    "axboth.set_xlim(0, 2 * np.pi)\n",
    "axboth.imshow(np.asmatrix(sample_total).T, interpolation='nearest',\n",
    "              origin='lower', cmap=cmap,\n",
    "              extent=[0, 2 * np.pi, 0, 2 * np.pi])\n",
    "axboth.scatter(train_data[np.where(train_labels[:] == 0), 0],\n",
    "               train_data[np.where(train_labels[:] == 0), 1],\n",
    "               marker='s', facecolors='w', edgecolors='C0', label=\"A\")\n",
    "axboth.scatter(train_data[np.where(train_labels[:] == 1), 0],\n",
    "               train_data[np.where(train_labels[:] == 1), 1],\n",
    "               marker='o', facecolors='w', edgecolors='C3', label=\"B\")\n",
    "axboth.scatter(test_data[np.where(test_labels[:] == 0), 0],\n",
    "               test_data[np.where(test_labels[:] == 0), 1],\n",
    "               marker='s', facecolors='C0', edgecolors='w',\n",
    "               label=\"A test\")\n",
    "axboth.scatter(test_data[np.where(test_labels[:] == 1), 0],\n",
    "               test_data[np.where(test_labels[:] == 1), 1],\n",
    "               marker='o', facecolors='C3', edgecolors='w',\n",
    "               label=\"B test\")\n",
    "\n",
    "plt.show()"
   ]
  },
  {
   "cell_type": "markdown",
   "id": "3c23ad15",
   "metadata": {},
   "source": [
    "Then we write the function to compute the kernel matrix from the given feature map. This function uses the opflow feature of qiskit to generate a matrix that maps every feature vector in the corresponding Hilbert space, and then compute the distance between each feature vector with the formula $|\\langle\\psi_a|\\psi_b\\rangle|^2$. The result of this distance measurement is compiled in a proximity matrix.  \n",
    "In this case, the operator $\\tilde{}$ computes the conjugate transpose of a matrix operator (which is different from the classical matrix representation of Python) and the operator $@$ compute the product of two matrix operator. "
   ]
  },
  {
   "cell_type": "code",
   "execution_count": 2,
   "id": "9c9174d9",
   "metadata": {},
   "outputs": [
    {
     "data": {
      "image/png": "[encoded data removed]",
      "text/plain": [
       "<Figure size 360x360 with 1 Axes>"
      ]
     },
     "metadata": {
      "needs_background": "light"
     },
     "output_type": "display_data"
    }
   ],
   "source": [
    "import qiskit.opflow as opflow\n",
    "from qiskit.circuit.library import ZZFeatureMap\n",
    "\n",
    "def calculate_kernel(feature_map, x_data, y_data=None):\n",
    "    \"\"\" \n",
    "        Calculates  kernel matrix from provided feature map and\n",
    "        dataset(s), x & (y). If y isn't given, self inner product\n",
    "        of x is calculated. \n",
    "        \n",
    "        No error checking is performed, feature map and datasets\n",
    "        assumed to have the same dimension\n",
    "    \"\"\"\n",
    "\n",
    "    if y_data is None:\n",
    "        y_data = x_data\n",
    "\n",
    "    # Use Operator Flow to create a list of feature map circuits,\n",
    "    # parameterized by each datapoint\n",
    "    x_circuits = opflow.CircuitStateFn(feature_map).bind_parameters(\n",
    "        {param:vals for (param, vals) in zip(feature_map.parameters, \n",
    "                                         np.transpose(x_data).tolist())})\n",
    "\n",
    "    y_circuits = opflow.CircuitStateFn(feature_map).bind_parameters(\n",
    "        {param:vals for (param, vals) in zip(feature_map.parameters, \n",
    "                                         np.transpose(y_data).tolist())})\n",
    "    \n",
    "    # Compute the square of the conjugate inner product of the feature\n",
    "    # map circuits: the kernel matrix\n",
    "    kernel = np.abs(\n",
    "        (~y_circuits.to_matrix_op() @ x_circuits.to_matrix_op()).eval()\n",
    "    )**2\n",
    "    return kernel\n",
    "\n",
    "adhoc_feature_map = ZZFeatureMap(feature_dimension=2, reps=2)\n",
    "\n",
    "kernel = calculate_kernel(adhoc_feature_map, train_data)\n",
    "\n",
    "\n",
    "plt.figure(figsize=(5, 5))\n",
    "plt.imshow(np.asmatrix(kernel),interpolation='nearest', origin='upper')\n",
    "plt.title(\"Analytical Kernel Matrix\")\n",
    "plt.show()"
   ]
  },
  {
   "cell_type": "code",
   "execution_count": 3,
   "id": "659ad7df",
   "metadata": {},
   "outputs": [
    {
     "data": {
      "image/png": "[encoded data removed]",
      "text/plain": [
       "<Figure size 720x360 with 2 Axes>"
      ]
     },
     "metadata": {
      "needs_background": "light"
     },
     "output_type": "display_data"
    }
   ],
   "source": [
    "train_kernel = calculate_kernel(adhoc_feature_map, train_data)\n",
    "test_kernel = calculate_kernel(adhoc_feature_map, train_data, test_data)\n",
    "\n",
    "# plot analytical matrices\n",
    "fig, axs = plt.subplots(1, 2, figsize=(10,5))\n",
    "axs[0].imshow(np.asmatrix(train_kernel), interpolation='nearest',\n",
    "              origin='upper')\n",
    "axs[0].set_title(\"Analytical Train Matrix\")\n",
    "axs[1].imshow(np.asmatrix(test_kernel), interpolation='nearest',\n",
    "              origin='upper', cmap='Blues')\n",
    "axs[1].set_title(\"Analytical Test Matrix\")\n",
    "plt.show()"
   ]
  },
  {
   "cell_type": "code",
   "execution_count": 4,
   "id": "37b08f3e",
   "metadata": {},
   "outputs": [
    {
     "name": "stdout",
     "output_type": "stream",
     "text": [
      "Number of support vectors for each class: [ 9 10]\n",
      "Indices of support vectors: [ 3  6  7  8  9 11 12 17 19 21 22 24 25 26 27 31 33 38 39]\n"
     ]
    }
   ],
   "source": [
    "from sklearn.svm import SVC\n",
    "\n",
    "# train scikit-learn svm model\n",
    "model = SVC(kernel='precomputed')\n",
    "model.fit(train_kernel, train_labels)\n",
    "\n",
    "print(\"Number of support vectors for each class:\",model.n_support_)\n",
    "print(\"Indices of support vectors:\", model.support_)\n"
   ]
  },
  {
   "cell_type": "code",
   "execution_count": 5,
   "id": "4a5bbc0d",
   "metadata": {},
   "outputs": [
    {
     "data": {
      "image/png": "[encoded data removed]",
      "text/plain": [
       "<Figure size 360x360 with 1 Axes>"
      ]
     },
     "metadata": {
      "needs_background": "light"
     },
     "output_type": "display_data"
    }
   ],
   "source": [
    "# Plot support vectors\n",
    "plt.figure(figsize=(5, 5))\n",
    "plt.ylim(0, 2 * np.pi)\n",
    "plt.xlim(0, 2 * np.pi)\n",
    "\n",
    "plt.scatter(train_data[model.support_[0:model.n_support_[0] ], 0],\n",
    "            train_data[model.support_[0:model.n_support_[0] ], 1],\n",
    "            marker='s', label=\"A support\")\n",
    "plt.scatter(train_data[model.support_[model.n_support_[0]:], 0],\n",
    "            train_data[model.support_[model.n_support_[0]:], 1],\n",
    "            marker='o', c='C3', label=\"B support\")\n",
    "plt.legend(loc='upper left', frameon=False)\n",
    "plt.show()"
   ]
  },
  {
   "cell_type": "code",
   "execution_count": 6,
   "id": "c8f8a5c6",
   "metadata": {},
   "outputs": [
    {
     "data": {
      "text/plain": [
       "1.0"
      ]
     },
     "execution_count": 6,
     "metadata": {},
     "output_type": "execute_result"
    }
   ],
   "source": [
    "# test svm model\n",
    "model.score(test_kernel, test_labels)"
   ]
  },
  {
   "cell_type": "code",
   "execution_count": 26,
   "id": "892325ea",
   "metadata": {},
   "outputs": [],
   "source": [
    "import pathlib\n",
    "import imageio\n",
    "import numpy as np\n",
    "import matplotlib.pyplot as plt\n",
    "\n",
    "#We retrieve the path of the images\n",
    "train_data = []\n",
    "train_label = []\n",
    "test_data =[]\n",
    "\n",
    "for i in range(0,10):\n",
    "    training_paths = pathlib.Path('MNIST/Reduced MNIST Data/Reduced Training data').glob(str(i)+'/*.jpg')\n",
    "    im_path = list(training_paths)\n",
    "    for path in im_path[:10]:\n",
    "        read = imageio.imread(str(path))\n",
    "        def reduce(array4):\n",
    "            #A function to make return an array containing the mean of a\n",
    "            #2*2 array\n",
    "            return np.array([np.mean(array4)])\n",
    "        reduced = np.zeros((int(read.shape[0]/4),int(read.shape[1]/4)))\n",
    "        for a in range(0,read.shape[0], 4):\n",
    "            for o in range(0,read.shape[1],4):\n",
    "                reduced[int(a/4),int(o/4)] = reduce(read[a:a+4,o:o+4])\n",
    "        reduced = reduced.reshape(49,).tolist()\n",
    "        train_data.append(reduced)\n",
    "        train_label.append(i)\n",
    "        "
   ]
  },
  {
   "cell_type": "code",
   "execution_count": null,
   "id": "380b51af",
   "metadata": {},
   "outputs": [
    {
     "name": "stdout",
     "output_type": "stream",
     "text": [
      "Generating feature map\n",
      "Generating kernel\n",
      "Fitting kernel\n"
     ]
    }
   ],
   "source": [
    "from qiskit import Aer\n",
    "print(\"Generating feature map\")\n",
    "image_feature_map = ZZFeatureMap(feature_dimension=49,reps = 2, entanglement='linear')\n",
    "print(\"Generating kernel\")\n",
    "image_kernel = QuantumKernel(feature_map=image_feature_map, quantum_instance=Aer.get_backend('aer_simulator'))\n",
    "print(\"Fitting kernel\")\n",
    "image_svc = SVC(kernel = image_kernel.evaluate)\n",
    "image_svc.fit(train_data,train_label)"
   ]
  },
  {
   "cell_type": "code",
   "execution_count": null,
   "id": "087287bc",
   "metadata": {},
   "outputs": [],
   "source": []
  }
 ],
 "metadata": {
  "kernelspec": {
   "display_name": "Python 3 (ipykernel)",
   "language": "python",
   "name": "python3"
  },
  "language_info": {
   "codemirror_mode": {
    "name": "ipython",
    "version": 3
   },
   "file_extension": ".py",
   "mimetype": "text/x-python",
   "name": "python",
   "nbconvert_exporter": "python",
   "pygments_lexer": "ipython3",
   "version": "3.9.7"
  }
 },
 "nbformat": 4,
 "nbformat_minor": 5
}
