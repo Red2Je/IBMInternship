{
 "cells": [
  {
   "cell_type": "markdown",
   "id": "4f6a06e4",
   "metadata": {},
   "source": [
    "# Finding the kernel\n",
    "\n",
    "From a feature map $\\phi$, one can find the kernel by applying : \n",
    "$$\\kappa(x,x') = \\langle\\phi(x)|\\phi(x')\\rangle$$\n",
    "The kernel is heavly on the type of encoding you are using : \n",
    "\n",
    "## Basis encoding\n",
    "\n",
    "### Basis encoding, version of the original paper : \n",
    "$$\\phi : i \\rightarrow |i\\rangle$$\n",
    "Thus : \n",
    "$$\\kappa(i,j) = \\langle i|j\\rangle \\neq \\delta_{ij}$$\n",
    "We are interseted on having the $\\delta_{ij}$ correct : \n",
    "### Version of basis encoding that works with the kronecker delta : \n",
    "$$\\phi : x \\rightarrow |x\\rangle\\langle x|$$\n",
    "with $|x\\rangle$ and $\\langle x|$ the binary representation of x .\n",
    "thus, \n",
    "$$\\kappa(x,x') = |\\langle x|x'\\rangle|^2 = \\delta_{x,x'}$$\n",
    "And the maths checks out this time.\n",
    "\n",
    "Overall, using basis encoding is discouraged because the amount of qubits required is not efficient compared to the improvement of amplitude encoding for example. Furthermore, the output of the kernel is very strict as it outputs 1 only if the two input states are exactly the same.\n",
    "\n",
    "\n",
    "## Amplitude encoding\n",
    "Amplitude encoding uses this map : \n",
    "$$\\phi : x \\rightarrow |\\psi_x\\rangle$$\n",
    "with $N = 2^n$ and\n",
    "$$|\\psi_x\\rangle = \\sum_{i = 0}^{N-1} x_i|i\\rangle$$\n",
    "Thus : \n",
    "$$\\kappa(x,x') = \\langle\\psi_x|\\psi_{x'}\\rangle = x^Tx'$$\n",
    "The inputs $x$ and $x'$ for this type of information encoding must be normalized to a unit vector."
   ]
  },
  {
   "cell_type": "code",
   "execution_count": null,
   "id": "7089d6a8",
   "metadata": {},
   "outputs": [],
   "source": []
  }
 ],
 "metadata": {
  "kernelspec": {
   "display_name": "Python 3 (ipykernel)",
   "language": "python",
   "name": "python3"
  },
  "language_info": {
   "codemirror_mode": {
    "name": "ipython",
    "version": 3
   },
   "file_extension": ".py",
   "mimetype": "text/x-python",
   "name": "python",
   "nbconvert_exporter": "python",
   "pygments_lexer": "ipython3",
   "version": "3.9.7"
  }
 },
 "nbformat": 4,
 "nbformat_minor": 5
}
