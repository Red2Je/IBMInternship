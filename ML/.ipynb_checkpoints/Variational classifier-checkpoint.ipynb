{
 "cells": [
  {
   "cell_type": "markdown",
   "id": "9fd1d84c",
   "metadata": {},
   "source": [
    "# Variational classifier\n",
    "\n",
    "We know that there are parametrisable circuits. These circuit have gates that have themselves parameters that one can tune before executing the circuit. For example, an $RZ$ gate have a rotation parameter, that one can tune using its program.  \n",
    "Having parameters in our circuit allows us to make adjustements in the way the circuit behave depending on the last output of this circuit. This process is the basis of machine learning.  \n",
    "Having a parametrised circuit is equivalent to preparing a state $|\\psi(x;\\theta)\\rangle$ in the circuit, with (in the context of machine learning) $x$ being our feature vector and $\\theta$ being the parameters you can tune in the circuit.  \n",
    "To better understand the parameters, we will look at an example : "
   ]
  },
  {
   "cell_type": "code",
   "execution_count": 1,
   "id": "01564285",
   "metadata": {},
   "outputs": [
    {
     "data": {
      "image/png": "[encoded data removed]",
      "text/plain": [
       "<Figure size 133.526x84.28 with 1 Axes>"
      ]
     },
     "execution_count": 1,
     "metadata": {},
     "output_type": "execute_result"
    }
   ],
   "source": [
    "from qiskit import QuantumCircuit\n",
    "from qiskit.circuit import Parameter\n",
    "\n",
    "theta = Parameter('theta')#we define a parameter theta that one can tune\n",
    "\n",
    "qc = QuantumCircuit(1)\n",
    "qc.rz(theta,0)#we add an Rz gate to our circuit with the parameter theta controlling the rotation.\n",
    "qc.draw(output = 'mpl')"
   ]
  },
  {
   "cell_type": "markdown",
   "id": "4d89c0f7",
   "metadata": {},
   "source": [
    "Now that we have setup our parameter, we can tune it :"
   ]
  },
  {
   "cell_type": "code",
   "execution_count": 2,
   "id": "ff09b6bf",
   "metadata": {},
   "outputs": [
    {
     "data": {
      "image/png": "[encoded data removed]",
      "text/plain": [
       "<Figure size 133.526x84.28 with 1 Axes>"
      ]
     },
     "execution_count": 2,
     "metadata": {},
     "output_type": "execute_result"
    }
   ],
   "source": [
    "binded = qc.bind_parameters({theta : 3.14})#binding a parameter generates a new circuit.\n",
    "binded.draw(output = 'mpl')"
   ]
  },
  {
   "cell_type": "markdown",
   "id": "7ff3ca7f",
   "metadata": {},
   "source": [
    "## Getting closer to machine learning\n",
    "\n",
    "What the gates we saw before allows us to do is to tune the behavior of a circuit depending on its output. This is the way machine learning work. \n",
    "So now that we know how to make a circuit \"learn\", how do we execute it in practice ?\n",
    "\n",
    "The pipeline will look like this : \n",
    "<img src='ressource/va.svg'/>\n",
    "A circuit with parameter will be executed on a quantum backend, then a cost function (usually an adaptation of the least square) is computed on a classical backend and these result are fed back to the parameters of the circuit and the circuit is executed again. The learning phase ends when the whole training dataset has been covered. Thus the size of the training dataset is an hyper parameter that can lead to overfitting.\n",
    "\n",
    "The **VQC** algorithm, is decomposed like so : \n",
    "<img src='ressource/vqc.svg'/>\n",
    "\n",
    "Our feature ($\\vec{\\mathcal{X}}$) is given in parameter of the feature map $\\phi$ to encode it and put it in a bigger Hilbert space. Then another variational circuit is applied,$\\mathcal{W}$, with the parameter $\\theta$. $\\theta$ is the learning parameter, it can either be chosen at random, or an estimation can be given if the user already knows where to start.\n",
    "\n",
    "Measuring this circuit outputs us a vector $\\hat{\\mathcal{Y}}$, that can be fed into the cost function. Once this cost function as been computed, we can either apply a gradient descent or any optimizer that we want to compute a new set of parameters $\\theta$ that will be fed to the variational part of the circuit, execution the circuit again with the next feature vector.\n",
    "  "
   ]
  },
  {
   "cell_type": "markdown",
   "id": "a996c82b",
   "metadata": {},
   "source": [
    "## How to optimize the parameters\n",
    "\n",
    "Usually in machine learning, the parameters $\\theta$ are optimized with the gradient descent and considering the output of the cost function.  \n",
    "The cost function usually used is the mean squared error function : \n",
    "$$\\frac{1}{n}\\sum_{i=0}^n(y-y')^2$$\n",
    "where $n$ is the amount of feature vector, $y$ is the predicted output of our circuit and $y'$ is the expected output.  \n",
    "Another cost function (used by default in qiskit's VQC algorithm) is the cross-entropy loss function : \n",
    "$$-\\frac{1}{n}\\sum_{i = 1}^n[y'ln(y)+(1-y')ln(1-y)]$$\n",
    "with the same notations as above.  \n",
    "Once this cost function has been computed, the result is given to an optimizer. The usual optimizer in machine learning is called the **gradient descent algorithm**, but some other, like **SPSA** will be presented below.\n",
    "\n",
    "## Gradient descent\n",
    "Hence we have a cost function $C$, the goal of machine learning is to minimize the minimize the cost function relative to the input $x$ and the parameters $\\theta$.  \n",
    "In order to achieve this, one must compute the gradient of the objective function. Once this gradient is computed, we would like to move our $\\theta$ so that the cost function's evaluation is decreasing. Once we determined how much we wanted to move our parameters $\\theta$, we can apply the formula : \n",
    "$$\\theta_{i} := \\theta_i - \\mu \\frac{\\partial}{\\partial\\theta_i}C(\\theta_i,x)$$\n",
    "where $\\theta_i$ is the i-th entry of the $\\theta$ vector, $\\mu$ is the learning rate (how much we will move at each iteration of the gradient descent) and $\\frac{\\partial}{\\partial\\theta_i}$ is the partial derivative over $\\theta_i$. Repeating this process over all the entry of $\\theta$ moves our vector towards a local minima.  \n",
    "Finding a global minima is up to the learning rate : \n",
    "<img src='ressource/learningrate.png' />\n",
    "with $J(\\theta)$ being another name for the cost function. This example is in the case of a machine learning model with a single parameter.\n",
    "\n",
    "## SPSA (Simultaneous Perturbation Stochastic Approximation)\n",
    "SPSA has two main avantages : we dont need to compute the derivative of the cost function to use it (nor the gradient) and the algorithm is noise tolerant (perfect for the NISQ devices).  \n",
    "There is also a non negligible difference in the amount of evaluation required for each step. While the gradient descent algorithm requires $2p$ evaluations of the cost function, with $p$ being the amount of parameters to optimize, SPSA only requires $2$ evaluations per iterations.  \n",
    "Indeed, the formula for the update of the vector $\\theta_i$ is : \n",
    "$$\\theta_i = \\theta_i - a_i\\hat{g}_i(\\theta_i)$$\n",
    "with $a_i = \\frac{a}{(A+i)^\\alpha}$ and $c_i = \\frac{c}{i^\\gamma}$. Thus, $a$,$A$,$\\alpha$, $c$ and $\\gamma$ are hyper parameters that contribute (like the learning rate of the gradient descent) to the speed and the precision of the SPSA algorithm.  \n",
    "The vector $\\hat{g}_i(\\theta_i)$ is defined like so : \n",
    "$$\\hat{g}_{ik}(\\theta_i) = \\frac{y(\\theta_i+c_i\\Delta_i)-y(\\theta_i-c_i\\Delta_i)}{2c_i\\Delta_{ik}}$$\n",
    "for $k \\in [1,p]$,$p$ the length of the vector $\\theta$, $\\Delta_i = (\\Delta_{i1},\\dots,\\Delta_{ip})$ a vector of random variations (the best way to generate these variations is to use a Bernoulli distribution with the values {-1,+1}.\n",
    "In term of comparaison, here is a visual representation of gradient descent and the SPSA algorithm :\n",
    "<img src='ressource/spsa.png' width = \"300\"/>\n",
    "We can note that this image represents the optimization of a maximisation problem, which both method are able to do.  \n",
    "We can understand that, as the behavior of SPSA is erratic, it isnt a problem for this algorithm to be used in a noisy system."
   ]
  },
  {
   "cell_type": "code",
   "execution_count": 18,
   "id": "2ba26484",
   "metadata": {},
   "outputs": [],
   "source": [
    "from qiskit.utils import algorithm_globals\n",
    "from qiskit import BasicAer, Aer\n",
    "import numpy as np\n",
    "from qiskit_machine_learning.datasets import ad_hoc_data\n",
    "from qiskit.circuit.library import *\n",
    "from qiskit.algorithms.optimizers import *\n",
    "from sklearn.preprocessing import OneHotEncoder\n",
    "import matplotlib.pyplot as plt\n",
    "from matplotlib.lines import Line2D\n",
    "from utils import *\n",
    "from sklearn.decomposition import PCA\n",
    "from sklearn.svm import SVC\n",
    "import pylab\n",
    "from qiskit_machine_learning.algorithms.classifiers import VQC\n",
    "import time\n",
    "\n",
    "encoder = OneHotEncoder()#Encoder object to transform the label vector into a one hot vector\n",
    "\n",
    "def store_intermediate_result(evaluation, parameter, cost, \n",
    "                              stepsize, accept):\n",
    "    #Function to plot the convergence of the optimizer\n",
    "    evaluations.append(evaluation)\n",
    "    parameters.append(parameter)\n",
    "    costs.append(cost)"
   ]
  },
  {
   "cell_type": "code",
   "execution_count": 3,
   "id": "09e2c53b",
   "metadata": {},
   "outputs": [],
   "source": [
    "#Seed setup for results in accordance with the vqc notebook\n",
    "algorithm_globals.random_seed = 3142\n",
    "np.random.seed(algorithm_globals.random_seed)\n",
    "\n",
    "\n",
    "#Ad hoc data : Qiksit generates data. The training set has 20 feature vector with 2 feature each and the testing set has \n",
    "#10 feature vector (also with 2 features each).\n",
    "train_data, train_labels, test_data, test_labels= (\n",
    "    ad_hoc_data(training_size=20, test_size=10, n=2, gap=0.3, one_hot=False))"
   ]
  },
  {
   "cell_type": "code",
   "execution_count": 23,
   "id": "dc3b1f17",
   "metadata": {},
   "outputs": [
    {
     "data": {
      "image/png": "[encoded data removed]",
      "text/plain": [
       "<Figure size 1621.88x204.68 with 1 Axes>"
      ]
     },
     "execution_count": 23,
     "metadata": {},
     "output_type": "execute_result"
    }
   ],
   "source": [
    "\n",
    "#In the vqc pipeline, we use a ZZFeatureMap to encode the data and a Twolocal circuit to allow variation.\n",
    "#Note that any circuit with parameter can be used for both the encoding and the variational part\n",
    "adhoc_feature_map = ZZFeatureMap(feature_dimension=2, reps=2)\n",
    "adhoc_var_form = TwoLocal(2, ['ry', 'rz'], 'cz', reps=2)\n",
    "\n",
    "adhoc_circuit = adhoc_feature_map.compose(adhoc_var_form)\n",
    "adhoc_circuit.measure_all()\n",
    "adhoc_circuit.decompose().draw(output = 'mpl')"
   ]
  },
  {
   "cell_type": "code",
   "execution_count": 26,
   "id": "5f1120c7",
   "metadata": {},
   "outputs": [
    {
     "ename": "NameError",
     "evalue": "name 'train_labels' is not defined",
     "output_type": "error",
     "traceback": [
      "\u001b[1;31m---------------------------------------------------------------------------\u001b[0m",
      "\u001b[1;31mNameError\u001b[0m                                 Traceback (most recent call last)",
      "\u001b[1;32mC:\\Users\\108997~1\\AppData\\Local\\Temp/ipykernel_4528/1803245204.py\u001b[0m in \u001b[0;36m<module>\u001b[1;34m\u001b[0m\n\u001b[0;32m      1\u001b[0m \u001b[0mencoder\u001b[0m \u001b[1;33m=\u001b[0m \u001b[0mOneHotEncoder\u001b[0m\u001b[1;33m(\u001b[0m\u001b[1;33m)\u001b[0m\u001b[1;33m\u001b[0m\u001b[1;33m\u001b[0m\u001b[0m\n\u001b[1;32m----> 2\u001b[1;33m \u001b[0mtrain_labels_oh\u001b[0m \u001b[1;33m=\u001b[0m \u001b[0mencoder\u001b[0m\u001b[1;33m.\u001b[0m\u001b[0mfit_transform\u001b[0m\u001b[1;33m(\u001b[0m\u001b[0mtrain_labels\u001b[0m\u001b[1;33m.\u001b[0m\u001b[0mreshape\u001b[0m\u001b[1;33m(\u001b[0m\u001b[1;33m-\u001b[0m\u001b[1;36m1\u001b[0m\u001b[1;33m,\u001b[0m \u001b[1;36m1\u001b[0m\u001b[1;33m)\u001b[0m\u001b[1;33m)\u001b[0m\u001b[1;33m.\u001b[0m\u001b[0mtoarray\u001b[0m\u001b[1;33m(\u001b[0m\u001b[1;33m)\u001b[0m\u001b[1;33m\u001b[0m\u001b[1;33m\u001b[0m\u001b[0m\n\u001b[0m\u001b[0;32m      3\u001b[0m \u001b[0mtest_labels_oh\u001b[0m \u001b[1;33m=\u001b[0m \u001b[0mencoder\u001b[0m\u001b[1;33m.\u001b[0m\u001b[0mfit_transform\u001b[0m\u001b[1;33m(\u001b[0m\u001b[0mtest_labels\u001b[0m\u001b[1;33m.\u001b[0m\u001b[0mreshape\u001b[0m\u001b[1;33m(\u001b[0m\u001b[1;33m-\u001b[0m\u001b[1;36m1\u001b[0m\u001b[1;33m,\u001b[0m \u001b[1;36m1\u001b[0m\u001b[1;33m)\u001b[0m\u001b[1;33m)\u001b[0m\u001b[1;33m.\u001b[0m\u001b[0mtoarray\u001b[0m\u001b[1;33m(\u001b[0m\u001b[1;33m)\u001b[0m\u001b[1;33m\u001b[0m\u001b[1;33m\u001b[0m\u001b[0m\n\u001b[0;32m      4\u001b[0m \u001b[0mprint\u001b[0m\u001b[1;33m(\u001b[0m\u001b[1;34m\"train_labels_oh :\"\u001b[0m\u001b[1;33m,\u001b[0m\u001b[0mtrain_labels_oh\u001b[0m\u001b[1;33m.\u001b[0m\u001b[0mshape\u001b[0m\u001b[1;33m)\u001b[0m\u001b[1;33m\u001b[0m\u001b[1;33m\u001b[0m\u001b[0m\n",
      "\u001b[1;31mNameError\u001b[0m: name 'train_labels' is not defined"
     ]
    }
   ],
   "source": [
    "#Transformation of the label vector into a one hot vector\n",
    "train_labels_oh = encoder.fit_transform(train_labels.reshape(-1, 1)).toarray()\n",
    "test_labels_oh = encoder.fit_transform(test_labels.reshape(-1, 1)).toarray()\n",
    "print(\"train_labels_oh :\",train_labels_oh.shape)"
   ]
  },
  {
   "cell_type": "code",
   "execution_count": 26,
   "id": "a7dddf76",
   "metadata": {
    "scrolled": true
   },
   "outputs": [
    {
     "data": {
      "image/png": "[encoded data removed]",
      "text/plain": [
       "<Figure size 432x288 with 1 Axes>"
      ]
     },
     "metadata": {
      "needs_background": "light"
     },
     "output_type": "display_data"
    }
   ],
   "source": [
    "\n",
    "parameters = []\n",
    "costs = []\n",
    "evaluations = []\n",
    "\n",
    "#initial_point = np.random.random(adhoc_var_form.num_parameters)\n",
    "# initial_point = np.array([0.3200227 , 0.6503638 , 0.55995053,\n",
    "#                           0.96566328, 0.38243769, 0.90403094,\n",
    "#                           0.82271449, 0.26810137, 0.61076489,\n",
    "#                           0.82301609, 0.11789148, 0.29667125])\n",
    "\n",
    "\n",
    "#The cost function used (here called loss) is the cross entropy (more stable and better to find a global minima)\n",
    "#The optimizer used is SPSA for its resistance to noise and its ability to find a global minima\n",
    "vqc = VQC(feature_map=adhoc_feature_map,\n",
    "          ansatz=adhoc_var_form,\n",
    "          loss='cross_entropy',\n",
    "          optimizer=SPSA(callback=store_intermediate_result),\n",
    "          quantum_instance=BasicAer.get_backend('qasm_simulator'))\n",
    "\n",
    "vqc.fit(train_data, train_labels_oh)\n",
    "\n",
    "\n",
    "#Plotting of the evolution of the cost function evaluation throughout the steps\n",
    "fig = plt.figure()\n",
    "plt.plot(evaluations, costs)\n",
    "plt.xlabel('Steps')\n",
    "plt.ylabel('Cost')\n",
    "plt.show()\n"
   ]
  },
  {
   "cell_type": "code",
   "execution_count": 27,
   "id": "a08fdf5f",
   "metadata": {},
   "outputs": [
    {
     "data": {
      "text/plain": [
       "0.95"
      ]
     },
     "execution_count": 27,
     "metadata": {},
     "output_type": "execute_result"
    }
   ],
   "source": [
    "#Scoring of the training : How much of the test data has been recognized correctly\n",
    "vqc.score(test_data, test_labels_oh)"
   ]
  },
  {
   "cell_type": "code",
   "execution_count": 5,
   "id": "3a03352a",
   "metadata": {},
   "outputs": [
    {
     "ename": "NameError",
     "evalue": "name 'plt' is not defined",
     "output_type": "error",
     "traceback": [
      "\u001b[1;31m---------------------------------------------------------------------------\u001b[0m",
      "\u001b[1;31mNameError\u001b[0m                                 Traceback (most recent call last)",
      "\u001b[1;32mC:\\Users\\108997~1\\AppData\\Local\\Temp/ipykernel_22140/191048057.py\u001b[0m in \u001b[0;36m<module>\u001b[1;34m\u001b[0m\n\u001b[0;32m      1\u001b[0m \u001b[1;32mfrom\u001b[0m \u001b[0mmatplotlib\u001b[0m\u001b[1;33m.\u001b[0m\u001b[0mlines\u001b[0m \u001b[1;32mimport\u001b[0m \u001b[0mLine2D\u001b[0m\u001b[1;33m\u001b[0m\u001b[1;33m\u001b[0m\u001b[0m\n\u001b[1;32m----> 2\u001b[1;33m \u001b[0mplt\u001b[0m\u001b[1;33m.\u001b[0m\u001b[0mfigure\u001b[0m\u001b[1;33m(\u001b[0m\u001b[0mfigsize\u001b[0m\u001b[1;33m=\u001b[0m\u001b[1;33m(\u001b[0m\u001b[1;36m9\u001b[0m\u001b[1;33m,\u001b[0m \u001b[1;36m6\u001b[0m\u001b[1;33m)\u001b[0m\u001b[1;33m)\u001b[0m\u001b[1;33m\u001b[0m\u001b[1;33m\u001b[0m\u001b[0m\n\u001b[0m\u001b[0;32m      3\u001b[0m \u001b[1;33m\u001b[0m\u001b[0m\n\u001b[0;32m      4\u001b[0m \u001b[1;32mfor\u001b[0m \u001b[0mfeature\u001b[0m\u001b[1;33m,\u001b[0m \u001b[0mlabel\u001b[0m \u001b[1;32min\u001b[0m \u001b[0mzip\u001b[0m\u001b[1;33m(\u001b[0m\u001b[0mtrain_data\u001b[0m\u001b[1;33m,\u001b[0m \u001b[0mtrain_labels_oh\u001b[0m\u001b[1;33m)\u001b[0m\u001b[1;33m:\u001b[0m\u001b[1;33m\u001b[0m\u001b[1;33m\u001b[0m\u001b[0m\n\u001b[0;32m      5\u001b[0m     \u001b[0mcolor\u001b[0m \u001b[1;33m=\u001b[0m \u001b[1;34m'C1'\u001b[0m \u001b[1;32mif\u001b[0m \u001b[0mlabel\u001b[0m\u001b[1;33m[\u001b[0m\u001b[1;36m0\u001b[0m\u001b[1;33m]\u001b[0m \u001b[1;33m==\u001b[0m \u001b[1;36m0\u001b[0m \u001b[1;32melse\u001b[0m \u001b[1;34m'C0'\u001b[0m\u001b[1;33m\u001b[0m\u001b[1;33m\u001b[0m\u001b[0m\n",
      "\u001b[1;31mNameError\u001b[0m: name 'plt' is not defined"
     ]
    }
   ],
   "source": [
    "#This cell is only used for the representation of the training and testing datasets and to see the classification \n",
    "plt.figure(figsize=(9, 6))\n",
    "\n",
    "for feature, label in zip(train_data, train_labels_oh):\n",
    "    color = 'C1' if label[0] == 0 else 'C0'\n",
    "    plt.scatter(feature[0], feature[1], marker='o', s=100,\n",
    "                color=color)\n",
    "    \n",
    "for feature, label, pred in zip(test_data, test_labels_oh,\n",
    "                                vqc.predict(test_data)): \n",
    "    color = 'C1' if pred[0] == 0 else 'C0'\n",
    "    plt.scatter(feature[0], feature[1], marker='s', s=100, color=color)\n",
    "    if not np.array_equal(label,pred):  # mark wrongly classified\n",
    "        plt.scatter(feature[0], feature[1], marker='o', s=500,\n",
    "                    linewidths=2.5, facecolor='none', edgecolor='C3')\n",
    "\n",
    "legend_elements = [\n",
    "    Line2D([0], [0], marker='o', c='w', mfc='C1', label='A', ms=10),\n",
    "    Line2D([0], [0], marker='o', c='w', mfc='C0', label='B', ms=10),\n",
    "    Line2D([0], [0], marker='s', c='w', mfc='C1', label='predict A',\n",
    "           ms=10),\n",
    "    Line2D([0], [0], marker='s', c='w', mfc='C0', label='predict B',\n",
    "           ms=10),\n",
    "    Line2D([0], [0], marker='o', c='w', mfc='none', mec='C3',\n",
    "           label='wrongly classified', mew=2, ms=15)\n",
    "]\n",
    "\n",
    "plt.legend(handles=legend_elements, bbox_to_anchor=(1, 1),\n",
    "           loc='upper left')\n",
    "    \n",
    "plt.title('Training & Test Data')\n",
    "plt.xlabel('x')\n",
    "plt.ylabel('y')\n",
    "plt.show()\n"
   ]
  },
  {
   "cell_type": "code",
   "execution_count": null,
   "id": "f32e5c3b",
   "metadata": {},
   "outputs": [],
   "source": []
  },
  {
   "cell_type": "code",
   "execution_count": 21,
   "id": "2a1082a3",
   "metadata": {},
   "outputs": [
    {
     "name": "stdout",
     "output_type": "stream",
     "text": [
      "(784,)\n",
      "(1000, 784)\n",
      "0\n"
     ]
    },
    {
     "data": {
      "text/plain": [
       "(1000, 49)"
      ]
     },
     "execution_count": 21,
     "metadata": {},
     "output_type": "execute_result"
    },
    {
     "data": {
      "image/png": "[encoded data removed]",
      "text/plain": [
       "<Figure size 432x288 with 1 Axes>"
      ]
     },
     "metadata": {
      "needs_background": "light"
     },
     "output_type": "display_data"
    }
   ],
   "source": [
    "#Test on the PCA feature\n",
    "pca = PCA(n_components=49)\n",
    "train_data, train_label = import_full_image(howmuch=100)\n",
    "print(np.array(train_data[1]).shape)\n",
    "print(np.array(train_data).shape)\n",
    "plt.imshow(np.array(train_data[1]).reshape(28,28))\n",
    "print(train_label[1])\n",
    "plt.plot()\n",
    "newdata = pca.fit_transform(train_data)\n",
    "newdata.shape\n"
   ]
  },
  {
   "cell_type": "code",
   "execution_count": 22,
   "id": "d63a74ac",
   "metadata": {},
   "outputs": [
    {
     "data": {
      "text/plain": [
       "[]"
      ]
     },
     "execution_count": 22,
     "metadata": {},
     "output_type": "execute_result"
    },
    {
     "data": {
      "image/png": "[encoded data removed]",
      "text/plain": [
       "<Figure size 432x288 with 1 Axes>"
      ]
     },
     "metadata": {
      "needs_background": "light"
     },
     "output_type": "display_data"
    }
   ],
   "source": [
    "plt.imshow(newdata[1].reshape(7,7))\n",
    "plt.plot()"
   ]
  },
  {
   "cell_type": "code",
   "execution_count": 23,
   "id": "a3451f72",
   "metadata": {},
   "outputs": [
    {
     "data": {
      "text/plain": [
       "0.982"
      ]
     },
     "execution_count": 23,
     "metadata": {},
     "output_type": "execute_result"
    }
   ],
   "source": [
    "#Test on learning with the SVC algorithm after using the PCA\n",
    "svc = SVC()\n",
    "svc.fit(newdata,train_label)\n",
    "\n",
    "test_data,test_label = import_full_image(howmuch=100,imtype=\"Testing\")\n",
    "test_data = pca.fit_transform(test_data)\n",
    "svc.score(test_data,test_label)"
   ]
  },
  {
   "cell_type": "code",
   "execution_count": null,
   "id": "5effca56",
   "metadata": {},
   "outputs": [],
   "source": []
  },
  {
   "cell_type": "code",
   "execution_count": 2,
   "id": "89e073b5",
   "metadata": {},
   "outputs": [
    {
     "data": {
      "text/plain": [
       "<qiskit_machine_learning.algorithms.classifiers.vqc.VQC at 0x1c2a19f09d0>"
      ]
     },
     "execution_count": 2,
     "metadata": {},
     "output_type": "execute_result"
    }
   ],
   "source": [
    "from qiskit import Aer\n",
    "\n",
    "\n",
    "image_feature_map = EfficientSU2(num_qubits=5,reps = 4, parameter_prefix=\"in\")\n",
    "image_var_form = TwoLocal(5, ['ry', 'rz'], 'cz', reps=2)\n",
    "\n",
    "#Importing 15 images of number ranging from 0 to 9 (150 images total)\n",
    "train_data_image,train_label_image = import_full_image(howmuch = 15)\n",
    "pca = PCA(n_components=50)\n",
    "train_data_image = pca.fit_transform(train_data_image)\n",
    "train_data_image , train_label_image = np.array(train_data_image), np.array(train_label_image)\n",
    "train_labels_oh_image = encoder.fit_transform(train_label_image.reshape(-1, 1)).toarray()\n",
    "\n",
    "parameters = []\n",
    "costs = []\n",
    "evaluations = []\n",
    "\n",
    "weights_evol = []\n",
    "eval_evol = []\n",
    "\n",
    "def vqc_callback(current_weights,obj_eval):\n",
    "    weights_evol.append(current_weights)\n",
    "    eval_evol.append(eval_evol)\n",
    "\n",
    "\n",
    "\n",
    "# optimizer=SPSA(callback=store_intermediate_result),\n",
    "vqc = VQC(feature_map=image_feature_map,\n",
    "          ansatz=image_var_form,\n",
    "          loss='cross_entropy',\n",
    "          optimizer = COBYLA(),\n",
    "          quantum_instance=Aer.get_backend('qasm_simulator'),\n",
    "          callback=vqc_callback)\n",
    "\n",
    "vqc.fit(train_data_image, train_labels_oh_image)"
   ]
  },
  {
   "cell_type": "code",
   "execution_count": 3,
   "id": "183bd576",
   "metadata": {
    "scrolled": true
   },
   "outputs": [
    {
     "data": {
      "image/png": "[encoded data removed]",
      "text/plain": [
       "<Figure size 432x288 with 1 Axes>"
      ]
     },
     "metadata": {
      "needs_background": "light"
     },
     "output_type": "display_data"
    }
   ],
   "source": [
    "#Only available with SPSA\n",
    "fig = plt.figure()\n",
    "plt.plot(evaluations, costs)\n",
    "plt.xlabel('Steps')\n",
    "plt.ylabel('Cost')\n",
    "plt.show()"
   ]
  },
  {
   "cell_type": "code",
   "execution_count": null,
   "id": "55fd43cb",
   "metadata": {},
   "outputs": [],
   "source": [
    "#VQC evolution\n",
    "plt.plot(range(len(eval_evol)),eval_evol)\n",
    "plt.xlabel('Steps')\n",
    "plt.ylabel('Cost')\n",
    "plt.show()"
   ]
  },
  {
   "cell_type": "code",
   "execution_count": null,
   "id": "ea9140d7",
   "metadata": {},
   "outputs": [],
   "source": [
    "test_data_image, test_label_image = import_full_image(imtype=\"Testing\", howmuch=10)\n",
    "test_data_image = pca.fit_transform(test_data_image)\n",
    "test_label_image_oh = encoder.fit_transform(np.array(test_label_image).reshape(-1,1)).toarray()\n",
    "vqc.score(test_data_image,test_label_image_oh)"
   ]
  },
  {
   "cell_type": "markdown",
   "id": "05619f69",
   "metadata": {},
   "source": [
    "# Test depending on the feature map and the variational form used"
   ]
  },
  {
   "cell_type": "code",
   "execution_count": 3,
   "id": "c9af1945",
   "metadata": {
    "scrolled": true
   },
   "outputs": [
    {
     "data": {
      "text/plain": [
       "[(<qiskit.circuit.library.n_local.two_local.TwoLocal at 0x1f6840b7b20>,\n",
       "  <qiskit.circuit.library.n_local.two_local.TwoLocal at 0x1f6840b7ac0>),\n",
       " (<qiskit.circuit.library.n_local.two_local.TwoLocal at 0x1f6840b7b20>,\n",
       "  <qiskit.circuit.library.n_local.pauli_two_design.PauliTwoDesign at 0x1f6840b7b80>),\n",
       " (<qiskit.circuit.library.n_local.two_local.TwoLocal at 0x1f6840b7b20>,\n",
       "  <qiskit.circuit.library.n_local.real_amplitudes.RealAmplitudes at 0x1f685711d60>),\n",
       " (<qiskit.circuit.library.n_local.two_local.TwoLocal at 0x1f6840b7b20>,\n",
       "  <qiskit.circuit.library.n_local.efficient_su2.EfficientSU2 at 0x1f685711610>),\n",
       " (<qiskit.circuit.library.n_local.two_local.TwoLocal at 0x1f6840b7b20>,\n",
       "  <qiskit.circuit.library.data_preparation.pauli_feature_map.PauliFeatureMap at 0x1f6857117c0>),\n",
       " (<qiskit.circuit.library.n_local.two_local.TwoLocal at 0x1f6840b7b20>,\n",
       "  <qiskit.circuit.library.data_preparation.z_feature_map.ZFeatureMap at 0x1f685718f40>),\n",
       " (<qiskit.circuit.library.n_local.two_local.TwoLocal at 0x1f6840b7b20>,\n",
       "  <qiskit.circuit.library.data_preparation.zz_feature_map.ZZFeatureMap at 0x1f685711850>),\n",
       " (<qiskit.circuit.library.n_local.real_amplitudes.RealAmplitudes at 0x1f6856c36d0>,\n",
       "  <qiskit.circuit.library.n_local.two_local.TwoLocal at 0x1f6840b7ac0>),\n",
       " (<qiskit.circuit.library.n_local.real_amplitudes.RealAmplitudes at 0x1f6856c36d0>,\n",
       "  <qiskit.circuit.library.n_local.pauli_two_design.PauliTwoDesign at 0x1f6840b7b80>),\n",
       " (<qiskit.circuit.library.n_local.real_amplitudes.RealAmplitudes at 0x1f6856c36d0>,\n",
       "  <qiskit.circuit.library.n_local.real_amplitudes.RealAmplitudes at 0x1f685711d60>),\n",
       " (<qiskit.circuit.library.n_local.real_amplitudes.RealAmplitudes at 0x1f6856c36d0>,\n",
       "  <qiskit.circuit.library.n_local.efficient_su2.EfficientSU2 at 0x1f685711610>),\n",
       " (<qiskit.circuit.library.n_local.real_amplitudes.RealAmplitudes at 0x1f6856c36d0>,\n",
       "  <qiskit.circuit.library.data_preparation.pauli_feature_map.PauliFeatureMap at 0x1f6857117c0>),\n",
       " (<qiskit.circuit.library.n_local.real_amplitudes.RealAmplitudes at 0x1f6856c36d0>,\n",
       "  <qiskit.circuit.library.data_preparation.z_feature_map.ZFeatureMap at 0x1f685718f40>),\n",
       " (<qiskit.circuit.library.n_local.real_amplitudes.RealAmplitudes at 0x1f6856c36d0>,\n",
       "  <qiskit.circuit.library.data_preparation.zz_feature_map.ZZFeatureMap at 0x1f685711850>),\n",
       " (<qiskit.circuit.library.n_local.efficient_su2.EfficientSU2 at 0x1f68546cd30>,\n",
       "  <qiskit.circuit.library.n_local.two_local.TwoLocal at 0x1f6840b7ac0>),\n",
       " (<qiskit.circuit.library.n_local.efficient_su2.EfficientSU2 at 0x1f68546cd30>,\n",
       "  <qiskit.circuit.library.n_local.pauli_two_design.PauliTwoDesign at 0x1f6840b7b80>),\n",
       " (<qiskit.circuit.library.n_local.efficient_su2.EfficientSU2 at 0x1f68546cd30>,\n",
       "  <qiskit.circuit.library.n_local.real_amplitudes.RealAmplitudes at 0x1f685711d60>),\n",
       " (<qiskit.circuit.library.n_local.efficient_su2.EfficientSU2 at 0x1f68546cd30>,\n",
       "  <qiskit.circuit.library.n_local.efficient_su2.EfficientSU2 at 0x1f685711610>),\n",
       " (<qiskit.circuit.library.n_local.efficient_su2.EfficientSU2 at 0x1f68546cd30>,\n",
       "  <qiskit.circuit.library.data_preparation.pauli_feature_map.PauliFeatureMap at 0x1f6857117c0>),\n",
       " (<qiskit.circuit.library.n_local.efficient_su2.EfficientSU2 at 0x1f68546cd30>,\n",
       "  <qiskit.circuit.library.data_preparation.z_feature_map.ZFeatureMap at 0x1f685718f40>),\n",
       " (<qiskit.circuit.library.n_local.efficient_su2.EfficientSU2 at 0x1f68546cd30>,\n",
       "  <qiskit.circuit.library.data_preparation.zz_feature_map.ZZFeatureMap at 0x1f685711850>)]"
      ]
     },
     "execution_count": 3,
     "metadata": {},
     "output_type": "execute_result"
    }
   ],
   "source": [
    "#Full on batch test (very long to execute)\n",
    "from qiskit.circuit.library import *\n",
    "from qiskit.algorithms.optimizers import *\n",
    "\n",
    "feature_map_list = [TwoLocal(num_qubits = 5, reps = 4, rotation_blocks=['ry','rz'], entanglement_blocks='cz',parameter_prefix='in'),\n",
    "                    RealAmplitudes(5, reps = 9,parameter_prefix='in'),\n",
    "                    EfficientSU2(num_qubits = 5, reps = 4,parameter_prefix='in'),\n",
    "                   ]\n",
    "\n",
    "var_form_list = [TwoLocal(num_qubits = 5, reps = 2, rotation_blocks=['ry','rz'], entanglement_blocks='cz'),\n",
    "                 PauliTwoDesign(num_qubits=5,reps = 2),\n",
    "                 RealAmplitudes(5, reps = 2),\n",
    "                 EfficientSU2(num_qubits = 5, reps = 2),\n",
    "                 PauliFeatureMap(5),\n",
    "                 ZFeatureMap(5),\n",
    "                 ZZFeatureMap(5)\n",
    "                ]\n",
    "full_list = []\n",
    "#Feature map and variational circuit variation\n",
    "for feature_map in feature_map_list:\n",
    "    for var_form in var_form_list:\n",
    "        full_list.append((feature_map,var_form))\n",
    "#Training data\n",
    "train_data_image,train_label_image = import_full_image(howmuch = 15)\n",
    "pca = PCA(n_components=50)\n",
    "train_data_image = pca.fit_transform(train_data_image)\n",
    "train_data_image , train_label_image = np.array(train_data_image), np.array(train_label_image)\n",
    "train_labels_oh_image = encoder.fit_transform(train_label_image.reshape(-1, 1)).toarray()\n",
    "#Testing data\n",
    "test_data_image, test_label_image = import_full_image(imtype=\"Testing\", howmuch=10)\n",
    "test_data_image = pca.fit_transform(test_data_image)\n",
    "test_label_image_oh = encoder.fit_transform(np.array(test_label_image).reshape(-1,1)).toarray()\n",
    "full_list"
   ]
  },
  {
   "cell_type": "code",
   "execution_count": 19,
   "id": "6be4bbcf",
   "metadata": {},
   "outputs": [
    {
     "name": "stdout",
     "output_type": "stream",
     "text": [
      "Execution start for feature map  TwoLocal  and variational form  TwoLocal\n",
      "Execution end for feature map  TwoLocal  and variational form  TwoLocal\n",
      "Execution start for feature map  TwoLocal  and variational form  PauliTwoDesign\n",
      "Execution end for feature map  TwoLocal  and variational form  PauliTwoDesign\n",
      "Execution start for feature map  TwoLocal  and variational form  RealAmplitudes\n",
      "Execution end for feature map  TwoLocal  and variational form  RealAmplitudes\n",
      "Execution start for feature map  TwoLocal  and variational form  EfficientSU2\n",
      "Execution end for feature map  TwoLocal  and variational form  EfficientSU2\n",
      "Execution start for feature map  TwoLocal  and variational form  PauliFeatureMap\n",
      "Execution end for feature map  TwoLocal  and variational form  PauliFeatureMap\n",
      "Execution start for feature map  TwoLocal  and variational form  ZFeatureMap\n",
      "Execution end for feature map  TwoLocal  and variational form  ZFeatureMap\n",
      "Execution start for feature map  TwoLocal  and variational form  ZZFeatureMap\n",
      "Execution end for feature map  TwoLocal  and variational form  ZZFeatureMap\n",
      "Execution start for feature map  RealAmplitudes  and variational form  TwoLocal\n",
      "Execution end for feature map  RealAmplitudes  and variational form  TwoLocal\n",
      "Execution start for feature map  RealAmplitudes  and variational form  PauliTwoDesign\n",
      "Execution end for feature map  RealAmplitudes  and variational form  PauliTwoDesign\n",
      "Execution start for feature map  RealAmplitudes  and variational form  RealAmplitudes\n",
      "Execution end for feature map  RealAmplitudes  and variational form  RealAmplitudes\n",
      "Execution start for feature map  RealAmplitudes  and variational form  EfficientSU2\n",
      "Execution end for feature map  RealAmplitudes  and variational form  EfficientSU2\n",
      "Execution start for feature map  RealAmplitudes  and variational form  PauliFeatureMap\n",
      "Execution end for feature map  RealAmplitudes  and variational form  PauliFeatureMap\n",
      "Execution start for feature map  RealAmplitudes  and variational form  ZFeatureMap\n",
      "Execution end for feature map  RealAmplitudes  and variational form  ZFeatureMap\n",
      "Execution start for feature map  RealAmplitudes  and variational form  ZZFeatureMap\n",
      "Execution end for feature map  RealAmplitudes  and variational form  ZZFeatureMap\n",
      "Execution start for feature map  EfficientSU2  and variational form  TwoLocal\n",
      "Execution end for feature map  EfficientSU2  and variational form  TwoLocal\n",
      "Execution start for feature map  EfficientSU2  and variational form  PauliTwoDesign\n",
      "Execution end for feature map  EfficientSU2  and variational form  PauliTwoDesign\n",
      "Execution start for feature map  EfficientSU2  and variational form  RealAmplitudes\n",
      "Execution end for feature map  EfficientSU2  and variational form  RealAmplitudes\n",
      "Execution start for feature map  EfficientSU2  and variational form  EfficientSU2\n",
      "Execution end for feature map  EfficientSU2  and variational form  EfficientSU2\n",
      "Execution start for feature map  EfficientSU2  and variational form  PauliFeatureMap\n",
      "Execution end for feature map  EfficientSU2  and variational form  PauliFeatureMap\n",
      "Execution start for feature map  EfficientSU2  and variational form  ZFeatureMap\n",
      "Execution end for feature map  EfficientSU2  and variational form  ZFeatureMap\n",
      "Execution start for feature map  EfficientSU2  and variational form  ZZFeatureMap\n",
      "Execution end for feature map  EfficientSU2  and variational form  ZZFeatureMap\n"
     ]
    }
   ],
   "source": [
    "score_list = []\n",
    "training_time_list = []\n",
    "testing_time_list = []\n",
    "for (feature_map,var_form) in full_list:\n",
    "    print(\"Execution start for feature map \",feature_map.name,\" and variational form \",var_form.name)\n",
    "    vqc = VQC(feature_map= feature_map,\n",
    "             ansatz=var_form,\n",
    "             loss='cross_entropy',\n",
    "             optimizer=SPSA(),\n",
    "             quantum_instance=BasicAer.get_backend('qasm_simulator'))\n",
    "    start = time.time()\n",
    "    vqc.fit(train_data_image,train_labels_oh_image)\n",
    "    end = time.time()\n",
    "    training_time_list.append(end-start)\n",
    "    start = time.time()\n",
    "    score_list.append(vqc.score(test_data_image,test_label_image_oh))\n",
    "    end = time.time()\n",
    "    testing_time_list.append(end-start)\n",
    "    print(\"Execution end for feature map \",feature_map.name,\" and variational form \",var_form.name)\n",
    "score_list,training_time_list,testing_time_list = np.array(score_list),np.array(training_time_list),np.array(testing_time_list)\n",
    "np.save(\"score_list.npy\",score_list)\n",
    "np.save(\"training_time_list.npy\",training_time_list)\n",
    "np.save(\"testing_time_list.npy\",testing_time_list)\n"
   ]
  },
  {
   "cell_type": "code",
   "execution_count": 22,
   "id": "b17e2285",
   "metadata": {},
   "outputs": [
    {
     "data": {
      "text/plain": [
       "5.167661670976215"
      ]
     },
     "execution_count": 22,
     "metadata": {},
     "output_type": "execute_result"
    }
   ],
   "source": [
    "(sum(training_time_list)+sum(testing_time_list))/3600"
   ]
  },
  {
   "cell_type": "code",
   "execution_count": 36,
   "id": "ee33473d",
   "metadata": {},
   "outputs": [
    {
     "data": {
      "image/png": "[encoded data removed]",
      "text/plain": [
       "<Figure size 432x288 with 1 Axes>"
      ]
     },
     "metadata": {
      "needs_background": "light"
     },
     "output_type": "display_data"
    }
   ],
   "source": [
    "name_list = ['FM : '+ i[0].name + ' VF : '+i[1].name for i in full_list]\n",
    "fig,ax = plt.subplots()\n",
    "ax.bar(name_list,score_list)\n",
    "plt.setp(ax.get_xticklabels(), rotation=90, horizontalalignment='right')\n",
    "plt.show()"
   ]
  },
  {
   "cell_type": "markdown",
   "id": "0b2f5581",
   "metadata": {},
   "source": [
    "# Conclusion : EVERYONE IS STUPID"
   ]
  },
  {
   "cell_type": "code",
   "execution_count": 48,
   "id": "d654d326",
   "metadata": {},
   "outputs": [
    {
     "data": {
      "text/plain": [
       "['FM : TwoLocal VF : RealAmplitudes',\n",
       " 'FM : TwoLocal VF : EfficientSU2',\n",
       " 'FM : TwoLocal VF : PauliFeatureMap',\n",
       " 'FM : TwoLocal VF : ZFeatureMap',\n",
       " 'FM : TwoLocal VF : ZZFeatureMap',\n",
       " 'FM : RealAmplitudes VF : TwoLocal',\n",
       " 'FM : RealAmplitudes VF : RealAmplitudes',\n",
       " 'FM : RealAmplitudes VF : EfficientSU2',\n",
       " 'FM : RealAmplitudes VF : PauliFeatureMap',\n",
       " 'FM : RealAmplitudes VF : ZFeatureMap',\n",
       " 'FM : RealAmplitudes VF : ZZFeatureMap',\n",
       " 'FM : EfficientSU2 VF : PauliTwoDesign',\n",
       " 'FM : EfficientSU2 VF : RealAmplitudes',\n",
       " 'FM : EfficientSU2 VF : PauliFeatureMap',\n",
       " 'FM : EfficientSU2 VF : ZZFeatureMap']"
      ]
     },
     "execution_count": 48,
     "metadata": {},
     "output_type": "execute_result"
    }
   ],
   "source": [
    "almostnotrandom = [(ind,i) for ind,i in enumerate(score_list) if i >= 0.1]\n",
    "almostnotrandomname = [name_list[i[0]] for i in almostnotrandom]\n",
    "almostnotrandomname"
   ]
  },
  {
   "cell_type": "code",
   "execution_count": 50,
   "id": "2e0a9867",
   "metadata": {},
   "outputs": [
    {
     "data": {
      "text/plain": [
       "['FM : TwoLocal VF : PauliTwoDesign',\n",
       " 'FM : RealAmplitudes VF : PauliTwoDesign',\n",
       " 'FM : EfficientSU2 VF : EfficientSU2',\n",
       " 'FM : EfficientSU2 VF : ZFeatureMap']"
      ]
     },
     "execution_count": 50,
     "metadata": {},
     "output_type": "execute_result"
    }
   ],
   "source": [
    "almostthere = [(ind,i) for ind,i in enumerate(score_list) if i < 0.1 and i >=0.08]\n",
    "almosttherename = [name_list[i[0]] for i in almostthere]\n",
    "almosttherename"
   ]
  },
  {
   "cell_type": "code",
   "execution_count": 51,
   "id": "f19cf837",
   "metadata": {},
   "outputs": [
    {
     "data": {
      "text/plain": [
       "['FM : TwoLocal VF : PauliTwoDesign',\n",
       " 'FM : RealAmplitudes VF : PauliTwoDesign',\n",
       " 'FM : EfficientSU2 VF : EfficientSU2',\n",
       " 'FM : EfficientSU2 VF : ZFeatureMap']"
      ]
     },
     "execution_count": 51,
     "metadata": {},
     "output_type": "execute_result"
    }
   ],
   "source": [
    "verybad =  [(ind,i) for ind,i in enumerate(score_list) if i < 0.08]\n",
    "verybadname = [name_list[i[0]] for i in almostthere]\n",
    "verybadname"
   ]
  },
  {
   "cell_type": "markdown",
   "id": "43917250",
   "metadata": {},
   "source": [
    "# Test on the amount of images given to the best combo"
   ]
  },
  {
   "cell_type": "code",
   "execution_count": 4,
   "id": "754908b6",
   "metadata": {},
   "outputs": [
    {
     "data": {
      "text/plain": [
       "(<qiskit.circuit.library.n_local.real_amplitudes.RealAmplitudes at 0x1f6856c36d0>,\n",
       " <qiskit.circuit.library.data_preparation.zz_feature_map.ZZFeatureMap at 0x1f685711850>)"
      ]
     },
     "execution_count": 4,
     "metadata": {},
     "output_type": "execute_result"
    }
   ],
   "source": [
    "score_list = np.load(\"score_list.npy\")\n",
    "best_combo = full_list[(score_list.tolist()).index(max(score_list))]\n",
    "best_combo"
   ]
  },
  {
   "cell_type": "code",
   "execution_count": 5,
   "id": "5741be0b",
   "metadata": {},
   "outputs": [],
   "source": [
    "train_data_list = []\n",
    "train_label_list = []\n",
    "#The amount of image grows from 50 to 500 with a step of 50\n",
    "for amount in range(5,200,5):\n",
    "    train_data,train_label = import_full_image(howmuch=amount)\n",
    "    pca = PCA(n_components=50)\n",
    "    train_data = pca.fit_transform(train_data)\n",
    "    train_data , train_label = np.array(train_data), np.array(train_label)\n",
    "    train_labels_oh = encoder.fit_transform(train_label.reshape(-1, 1)).toarray()\n",
    "    train_data_list.append(train_data)\n",
    "    train_label_list.append(train_labels_oh)"
   ]
  },
  {
   "cell_type": "code",
   "execution_count": 6,
   "id": "9f639f65",
   "metadata": {},
   "outputs": [
    {
     "name": "stderr",
     "output_type": "stream",
     "text": [
      "C:\\Users\\108997706\\Anaconda3\\lib\\site-packages\\numpy\\core\\_asarray.py:171: VisibleDeprecationWarning: Creating an ndarray from ragged nested sequences (which is a list-or-tuple of lists-or-tuples-or ndarrays with different lengths or shapes) is deprecated. If you meant to do this, you must specify 'dtype=object' when creating the ndarray.\n",
      "  return array(a, dtype, copy=False, order=order, subok=True)\n"
     ]
    }
   ],
   "source": [
    "np.save(\"train_data_list.npy\",train_data_list)\n",
    "np.save(\"train_label_list.npy\",train_label_list)\n",
    "#Do not mind the warning, works anyway (thats some good programming habits right there)"
   ]
  },
  {
   "cell_type": "code",
   "execution_count": 7,
   "id": "13db5a36",
   "metadata": {
    "collapsed": true
   },
   "outputs": [
    {
     "name": "stdout",
     "output_type": "stream",
     "text": [
      "Execution start for  50  images\n",
      "Execution end for  50  images\n",
      "Execution start for  100  images\n",
      "Execution end for  100  images\n",
      "Execution start for  150  images\n",
      "Execution end for  150  images\n",
      "Execution start for  200  images\n",
      "Execution end for  200  images\n",
      "Execution start for  250  images\n",
      "Execution end for  250  images\n",
      "Execution start for  300  images\n",
      "Execution end for  300  images\n",
      "Execution start for  350  images\n",
      "Execution end for  350  images\n",
      "Execution start for  400  images\n",
      "Execution end for  400  images\n",
      "Execution start for  450  images\n",
      "Execution end for  450  images\n",
      "Execution start for  500  images\n",
      "Execution end for  500  images\n",
      "Execution start for  550  images\n",
      "Execution end for  550  images\n",
      "Execution start for  600  images\n",
      "Execution end for  600  images\n",
      "Execution start for  650  images\n",
      "Execution end for  650  images\n",
      "Execution start for  700  images\n",
      "Execution end for  700  images\n",
      "Execution start for  750  images\n",
      "Execution end for  750  images\n",
      "Execution start for  800  images\n",
      "Execution end for  800  images\n",
      "Execution start for  850  images\n",
      "Execution end for  850  images\n",
      "Execution start for  900  images\n",
      "Execution end for  900  images\n",
      "Execution start for  950  images\n",
      "Execution end for  950  images\n",
      "Execution start for  1000  images\n",
      "Execution end for  1000  images\n",
      "Execution start for  1050  images\n",
      "Execution end for  1050  images\n",
      "Execution start for  1100  images\n",
      "Execution end for  1100  images\n",
      "Execution start for  1150  images\n",
      "Execution end for  1150  images\n",
      "Execution start for  1200  images\n",
      "Execution end for  1200  images\n",
      "Execution start for  1250  images\n",
      "Execution end for  1250  images\n",
      "Execution start for  1300  images\n",
      "Execution end for  1300  images\n",
      "Execution start for  1350  images\n",
      "Execution end for  1350  images\n",
      "Execution start for  1400  images\n",
      "Execution end for  1400  images\n",
      "Execution start for  1450  images\n",
      "Execution end for  1450  images\n",
      "Execution start for  1500  images\n",
      "Execution end for  1500  images\n",
      "Execution start for  1550  images\n",
      "Execution end for  1550  images\n",
      "Execution start for  1600  images\n",
      "Execution end for  1600  images\n",
      "Execution start for  1650  images\n",
      "Execution end for  1650  images\n",
      "Execution start for  1700  images\n",
      "Execution end for  1700  images\n",
      "Execution start for  1750  images\n",
      "Execution end for  1750  images\n",
      "Execution start for  1800  images\n"
     ]
    },
    {
     "ename": "KeyboardInterrupt",
     "evalue": "",
     "output_type": "error",
     "traceback": [
      "\u001b[1;31m---------------------------------------------------------------------------\u001b[0m",
      "\u001b[1;31mKeyboardInterrupt\u001b[0m                         Traceback (most recent call last)",
      "\u001b[1;32mC:\\Users\\108997~1\\AppData\\Local\\Temp/ipykernel_2556/644218245.py\u001b[0m in \u001b[0;36m<module>\u001b[1;34m\u001b[0m\n\u001b[0;32m     10\u001b[0m              quantum_instance=BasicAer.get_backend('qasm_simulator'))\n\u001b[0;32m     11\u001b[0m     \u001b[0mstart\u001b[0m \u001b[1;33m=\u001b[0m \u001b[0mtime\u001b[0m\u001b[1;33m.\u001b[0m\u001b[0mtime\u001b[0m\u001b[1;33m(\u001b[0m\u001b[1;33m)\u001b[0m\u001b[1;33m\u001b[0m\u001b[1;33m\u001b[0m\u001b[0m\n\u001b[1;32m---> 12\u001b[1;33m     \u001b[0mvqc\u001b[0m\u001b[1;33m.\u001b[0m\u001b[0mfit\u001b[0m\u001b[1;33m(\u001b[0m\u001b[0mtrain_data\u001b[0m\u001b[1;33m,\u001b[0m\u001b[0mtrain_label\u001b[0m\u001b[1;33m)\u001b[0m\u001b[1;33m\u001b[0m\u001b[1;33m\u001b[0m\u001b[0m\n\u001b[0m\u001b[0;32m     13\u001b[0m     \u001b[0mend\u001b[0m \u001b[1;33m=\u001b[0m \u001b[0mtime\u001b[0m\u001b[1;33m.\u001b[0m\u001b[0mtime\u001b[0m\u001b[1;33m(\u001b[0m\u001b[1;33m)\u001b[0m\u001b[1;33m\u001b[0m\u001b[1;33m\u001b[0m\u001b[0m\n\u001b[0;32m     14\u001b[0m     \u001b[0mtrain_time_amount_list\u001b[0m\u001b[1;33m.\u001b[0m\u001b[0mappend\u001b[0m\u001b[1;33m(\u001b[0m\u001b[0mend\u001b[0m\u001b[1;33m-\u001b[0m\u001b[0mstart\u001b[0m\u001b[1;33m)\u001b[0m\u001b[1;33m\u001b[0m\u001b[1;33m\u001b[0m\u001b[0m\n",
      "\u001b[1;32m~\\Anaconda3\\lib\\site-packages\\qiskit_machine_learning\\algorithms\\classifiers\\vqc.py\u001b[0m in \u001b[0;36mfit\u001b[1;34m(self, X, y)\u001b[0m\n\u001b[0;32m    175\u001b[0m             \u001b[0mself\u001b[0m\u001b[1;33m.\u001b[0m\u001b[0m_get_interpret\u001b[0m\u001b[1;33m(\u001b[0m\u001b[0mnum_classes\u001b[0m\u001b[1;33m)\u001b[0m\u001b[1;33m,\u001b[0m \u001b[0mnum_classes\u001b[0m\u001b[1;33m\u001b[0m\u001b[1;33m\u001b[0m\u001b[0m\n\u001b[0;32m    176\u001b[0m         )\n\u001b[1;32m--> 177\u001b[1;33m         \u001b[1;32mreturn\u001b[0m \u001b[0msuper\u001b[0m\u001b[1;33m(\u001b[0m\u001b[1;33m)\u001b[0m\u001b[1;33m.\u001b[0m\u001b[0mfit\u001b[0m\u001b[1;33m(\u001b[0m\u001b[0mX\u001b[0m\u001b[1;33m,\u001b[0m \u001b[0my\u001b[0m\u001b[1;33m)\u001b[0m\u001b[1;33m\u001b[0m\u001b[1;33m\u001b[0m\u001b[0m\n\u001b[0m\u001b[0;32m    178\u001b[0m \u001b[1;33m\u001b[0m\u001b[0m\n\u001b[0;32m    179\u001b[0m     \u001b[1;32mdef\u001b[0m \u001b[0m_get_interpret\u001b[0m\u001b[1;33m(\u001b[0m\u001b[0mself\u001b[0m\u001b[1;33m,\u001b[0m \u001b[0mnum_classes\u001b[0m\u001b[1;33m:\u001b[0m \u001b[0mint\u001b[0m\u001b[1;33m)\u001b[0m\u001b[1;33m:\u001b[0m\u001b[1;33m\u001b[0m\u001b[1;33m\u001b[0m\u001b[0m\n",
      "\u001b[1;32m~\\Anaconda3\\lib\\site-packages\\qiskit_machine_learning\\algorithms\\classifiers\\neural_network_classifier.py\u001b[0m in \u001b[0;36mfit\u001b[1;34m(self, X, y)\u001b[0m\n\u001b[0;32m    105\u001b[0m         \u001b[0mobjective\u001b[0m \u001b[1;33m=\u001b[0m \u001b[0mself\u001b[0m\u001b[1;33m.\u001b[0m\u001b[0m_get_objective\u001b[0m\u001b[1;33m(\u001b[0m\u001b[0mfunction\u001b[0m\u001b[1;33m)\u001b[0m\u001b[1;33m\u001b[0m\u001b[1;33m\u001b[0m\u001b[0m\n\u001b[0;32m    106\u001b[0m \u001b[1;33m\u001b[0m\u001b[0m\n\u001b[1;32m--> 107\u001b[1;33m         self._fit_result = self._optimizer.minimize(\n\u001b[0m\u001b[0;32m    108\u001b[0m             \u001b[0mfun\u001b[0m\u001b[1;33m=\u001b[0m\u001b[0mobjective\u001b[0m\u001b[1;33m,\u001b[0m\u001b[1;33m\u001b[0m\u001b[1;33m\u001b[0m\u001b[0m\n\u001b[0;32m    109\u001b[0m             \u001b[0mx0\u001b[0m\u001b[1;33m=\u001b[0m\u001b[0mself\u001b[0m\u001b[1;33m.\u001b[0m\u001b[0m_choose_initial_point\u001b[0m\u001b[1;33m(\u001b[0m\u001b[1;33m)\u001b[0m\u001b[1;33m,\u001b[0m\u001b[1;33m\u001b[0m\u001b[1;33m\u001b[0m\u001b[0m\n",
      "\u001b[1;32m~\\Anaconda3\\lib\\site-packages\\qiskit\\algorithms\\optimizers\\spsa.py\u001b[0m in \u001b[0;36mminimize\u001b[1;34m(self, fun, x0, jac, bounds)\u001b[0m\n\u001b[0;32m    509\u001b[0m         \u001b[1;31m# this happens only here because for the calibration the loss function is required\u001b[0m\u001b[1;33m\u001b[0m\u001b[1;33m\u001b[0m\u001b[0m\n\u001b[0;32m    510\u001b[0m         \u001b[1;32mif\u001b[0m \u001b[0mself\u001b[0m\u001b[1;33m.\u001b[0m\u001b[0mlearning_rate\u001b[0m \u001b[1;32mis\u001b[0m \u001b[1;32mNone\u001b[0m \u001b[1;32mand\u001b[0m \u001b[0mself\u001b[0m\u001b[1;33m.\u001b[0m\u001b[0mperturbation\u001b[0m \u001b[1;32mis\u001b[0m \u001b[1;32mNone\u001b[0m\u001b[1;33m:\u001b[0m\u001b[1;33m\u001b[0m\u001b[1;33m\u001b[0m\u001b[0m\n\u001b[1;32m--> 511\u001b[1;33m             \u001b[0mget_eta\u001b[0m\u001b[1;33m,\u001b[0m \u001b[0mget_eps\u001b[0m \u001b[1;33m=\u001b[0m \u001b[0mself\u001b[0m\u001b[1;33m.\u001b[0m\u001b[0mcalibrate\u001b[0m\u001b[1;33m(\u001b[0m\u001b[0mfun\u001b[0m\u001b[1;33m,\u001b[0m \u001b[0mx0\u001b[0m\u001b[1;33m,\u001b[0m \u001b[0mmax_evals_grouped\u001b[0m\u001b[1;33m=\u001b[0m\u001b[0mself\u001b[0m\u001b[1;33m.\u001b[0m\u001b[0m_max_evals_grouped\u001b[0m\u001b[1;33m)\u001b[0m\u001b[1;33m\u001b[0m\u001b[1;33m\u001b[0m\u001b[0m\n\u001b[0m\u001b[0;32m    512\u001b[0m         \u001b[1;32melse\u001b[0m\u001b[1;33m:\u001b[0m\u001b[1;33m\u001b[0m\u001b[1;33m\u001b[0m\u001b[0m\n\u001b[0;32m    513\u001b[0m             get_eta, get_eps = _validate_pert_and_learningrate(\n",
      "\u001b[1;32m~\\Anaconda3\\lib\\site-packages\\qiskit\\algorithms\\optimizers\\spsa.py\u001b[0m in \u001b[0;36mcalibrate\u001b[1;34m(loss, initial_point, c, stability_constant, target_magnitude, alpha, gamma, modelspace, max_evals_grouped)\u001b[0m\n\u001b[0;32m    330\u001b[0m             \u001b[0mpoints\u001b[0m \u001b[1;33m+=\u001b[0m \u001b[1;33m[\u001b[0m\u001b[0minitial_point\u001b[0m \u001b[1;33m+\u001b[0m \u001b[0mc\u001b[0m \u001b[1;33m*\u001b[0m \u001b[0mpert\u001b[0m\u001b[1;33m,\u001b[0m \u001b[0minitial_point\u001b[0m \u001b[1;33m-\u001b[0m \u001b[0mc\u001b[0m \u001b[1;33m*\u001b[0m \u001b[0mpert\u001b[0m\u001b[1;33m]\u001b[0m\u001b[1;33m\u001b[0m\u001b[1;33m\u001b[0m\u001b[0m\n\u001b[0;32m    331\u001b[0m \u001b[1;33m\u001b[0m\u001b[0m\n\u001b[1;32m--> 332\u001b[1;33m         \u001b[0mlosses\u001b[0m \u001b[1;33m=\u001b[0m \u001b[0m_batch_evaluate\u001b[0m\u001b[1;33m(\u001b[0m\u001b[0mloss\u001b[0m\u001b[1;33m,\u001b[0m \u001b[0mpoints\u001b[0m\u001b[1;33m,\u001b[0m \u001b[0mmax_evals_grouped\u001b[0m\u001b[1;33m)\u001b[0m\u001b[1;33m\u001b[0m\u001b[1;33m\u001b[0m\u001b[0m\n\u001b[0m\u001b[0;32m    333\u001b[0m \u001b[1;33m\u001b[0m\u001b[0m\n\u001b[0;32m    334\u001b[0m         \u001b[0mavg_magnitudes\u001b[0m \u001b[1;33m=\u001b[0m \u001b[1;36m0\u001b[0m\u001b[1;33m\u001b[0m\u001b[1;33m\u001b[0m\u001b[0m\n",
      "\u001b[1;32m~\\Anaconda3\\lib\\site-packages\\qiskit\\algorithms\\optimizers\\spsa.py\u001b[0m in \u001b[0;36m_batch_evaluate\u001b[1;34m(function, points, max_evals_grouped)\u001b[0m\n\u001b[0;32m    689\u001b[0m     \u001b[1;32mif\u001b[0m \u001b[0mmax_evals_grouped\u001b[0m \u001b[1;33m==\u001b[0m \u001b[1;36m1\u001b[0m\u001b[1;33m:\u001b[0m\u001b[1;33m\u001b[0m\u001b[1;33m\u001b[0m\u001b[0m\n\u001b[0;32m    690\u001b[0m         \u001b[1;31m# support functions with multiple arguments where the points are given in a tuple\u001b[0m\u001b[1;33m\u001b[0m\u001b[1;33m\u001b[0m\u001b[0m\n\u001b[1;32m--> 691\u001b[1;33m         return [\n\u001b[0m\u001b[0;32m    692\u001b[0m             \u001b[0mfunction\u001b[0m\u001b[1;33m(\u001b[0m\u001b[1;33m*\u001b[0m\u001b[0mpoint\u001b[0m\u001b[1;33m)\u001b[0m \u001b[1;32mif\u001b[0m \u001b[0misinstance\u001b[0m\u001b[1;33m(\u001b[0m\u001b[0mpoint\u001b[0m\u001b[1;33m,\u001b[0m \u001b[0mtuple\u001b[0m\u001b[1;33m)\u001b[0m \u001b[1;32melse\u001b[0m \u001b[0mfunction\u001b[0m\u001b[1;33m(\u001b[0m\u001b[0mpoint\u001b[0m\u001b[1;33m)\u001b[0m \u001b[1;32mfor\u001b[0m \u001b[0mpoint\u001b[0m \u001b[1;32min\u001b[0m \u001b[0mpoints\u001b[0m\u001b[1;33m\u001b[0m\u001b[1;33m\u001b[0m\u001b[0m\n\u001b[0;32m    693\u001b[0m         ]\n",
      "\u001b[1;32m~\\Anaconda3\\lib\\site-packages\\qiskit\\algorithms\\optimizers\\spsa.py\u001b[0m in \u001b[0;36m<listcomp>\u001b[1;34m(.0)\u001b[0m\n\u001b[0;32m    690\u001b[0m         \u001b[1;31m# support functions with multiple arguments where the points are given in a tuple\u001b[0m\u001b[1;33m\u001b[0m\u001b[1;33m\u001b[0m\u001b[0m\n\u001b[0;32m    691\u001b[0m         return [\n\u001b[1;32m--> 692\u001b[1;33m             \u001b[0mfunction\u001b[0m\u001b[1;33m(\u001b[0m\u001b[1;33m*\u001b[0m\u001b[0mpoint\u001b[0m\u001b[1;33m)\u001b[0m \u001b[1;32mif\u001b[0m \u001b[0misinstance\u001b[0m\u001b[1;33m(\u001b[0m\u001b[0mpoint\u001b[0m\u001b[1;33m,\u001b[0m \u001b[0mtuple\u001b[0m\u001b[1;33m)\u001b[0m \u001b[1;32melse\u001b[0m \u001b[0mfunction\u001b[0m\u001b[1;33m(\u001b[0m\u001b[0mpoint\u001b[0m\u001b[1;33m)\u001b[0m \u001b[1;32mfor\u001b[0m \u001b[0mpoint\u001b[0m \u001b[1;32min\u001b[0m \u001b[0mpoints\u001b[0m\u001b[1;33m\u001b[0m\u001b[1;33m\u001b[0m\u001b[0m\n\u001b[0m\u001b[0;32m    693\u001b[0m         ]\n\u001b[0;32m    694\u001b[0m \u001b[1;33m\u001b[0m\u001b[0m\n",
      "\u001b[1;32m~\\Anaconda3\\lib\\site-packages\\qiskit_machine_learning\\algorithms\\objective_functions.py\u001b[0m in \u001b[0;36mobjective\u001b[1;34m(self, weights)\u001b[0m\n\u001b[0;32m    185\u001b[0m     \u001b[1;32mdef\u001b[0m \u001b[0mobjective\u001b[0m\u001b[1;33m(\u001b[0m\u001b[0mself\u001b[0m\u001b[1;33m,\u001b[0m \u001b[0mweights\u001b[0m\u001b[1;33m:\u001b[0m \u001b[0mnp\u001b[0m\u001b[1;33m.\u001b[0m\u001b[0mndarray\u001b[0m\u001b[1;33m)\u001b[0m \u001b[1;33m->\u001b[0m \u001b[0mfloat\u001b[0m\u001b[1;33m:\u001b[0m\u001b[1;33m\u001b[0m\u001b[1;33m\u001b[0m\u001b[0m\n\u001b[0;32m    186\u001b[0m         \u001b[1;31m# probabilities is of shape (N, num_outputs)\u001b[0m\u001b[1;33m\u001b[0m\u001b[1;33m\u001b[0m\u001b[0m\n\u001b[1;32m--> 187\u001b[1;33m         \u001b[0mprobs\u001b[0m \u001b[1;33m=\u001b[0m \u001b[0mself\u001b[0m\u001b[1;33m.\u001b[0m\u001b[0m_neural_network_forward\u001b[0m\u001b[1;33m(\u001b[0m\u001b[0mweights\u001b[0m\u001b[1;33m)\u001b[0m\u001b[1;33m\u001b[0m\u001b[1;33m\u001b[0m\u001b[0m\n\u001b[0m\u001b[0;32m    188\u001b[0m         \u001b[1;31m# float(...) is for mypy compliance\u001b[0m\u001b[1;33m\u001b[0m\u001b[1;33m\u001b[0m\u001b[0m\n\u001b[0;32m    189\u001b[0m         \u001b[1;32mreturn\u001b[0m \u001b[0mfloat\u001b[0m\u001b[1;33m(\u001b[0m\u001b[0mnp\u001b[0m\u001b[1;33m.\u001b[0m\u001b[0msum\u001b[0m\u001b[1;33m(\u001b[0m\u001b[0mself\u001b[0m\u001b[1;33m.\u001b[0m\u001b[0m_loss\u001b[0m\u001b[1;33m(\u001b[0m\u001b[0mprobs\u001b[0m\u001b[1;33m,\u001b[0m \u001b[0mself\u001b[0m\u001b[1;33m.\u001b[0m\u001b[0m_y\u001b[0m\u001b[1;33m)\u001b[0m\u001b[1;33m)\u001b[0m\u001b[1;33m)\u001b[0m\u001b[1;33m\u001b[0m\u001b[1;33m\u001b[0m\u001b[0m\n",
      "\u001b[1;32m~\\Anaconda3\\lib\\site-packages\\qiskit_machine_learning\\algorithms\\objective_functions.py\u001b[0m in \u001b[0;36m_neural_network_forward\u001b[1;34m(self, weights)\u001b[0m\n\u001b[0;32m     98\u001b[0m         ):\n\u001b[0;32m     99\u001b[0m             \u001b[1;31m# compute forward and cache the results for re-use in backward\u001b[0m\u001b[1;33m\u001b[0m\u001b[1;33m\u001b[0m\u001b[0m\n\u001b[1;32m--> 100\u001b[1;33m             \u001b[0mself\u001b[0m\u001b[1;33m.\u001b[0m\u001b[0m_last_forward\u001b[0m \u001b[1;33m=\u001b[0m \u001b[0mself\u001b[0m\u001b[1;33m.\u001b[0m\u001b[0m_neural_network\u001b[0m\u001b[1;33m.\u001b[0m\u001b[0mforward\u001b[0m\u001b[1;33m(\u001b[0m\u001b[0mself\u001b[0m\u001b[1;33m.\u001b[0m\u001b[0m_X\u001b[0m\u001b[1;33m,\u001b[0m \u001b[0mweights\u001b[0m\u001b[1;33m)\u001b[0m\u001b[1;33m\u001b[0m\u001b[1;33m\u001b[0m\u001b[0m\n\u001b[0m\u001b[0;32m    101\u001b[0m             \u001b[1;31m# a copy avoids keeping a reference to the same array, so we are sure we have\u001b[0m\u001b[1;33m\u001b[0m\u001b[1;33m\u001b[0m\u001b[0m\n\u001b[0;32m    102\u001b[0m             \u001b[1;31m# different arrays on the next iteration.\u001b[0m\u001b[1;33m\u001b[0m\u001b[1;33m\u001b[0m\u001b[0m\n",
      "\u001b[1;32m~\\Anaconda3\\lib\\site-packages\\qiskit_machine_learning\\neural_networks\\neural_network.py\u001b[0m in \u001b[0;36mforward\u001b[1;34m(self, input_data, weights)\u001b[0m\n\u001b[0;32m    198\u001b[0m         \u001b[0minput_\u001b[0m\u001b[1;33m,\u001b[0m \u001b[0mshape\u001b[0m \u001b[1;33m=\u001b[0m \u001b[0mself\u001b[0m\u001b[1;33m.\u001b[0m\u001b[0m_validate_input\u001b[0m\u001b[1;33m(\u001b[0m\u001b[0minput_data\u001b[0m\u001b[1;33m)\u001b[0m\u001b[1;33m\u001b[0m\u001b[1;33m\u001b[0m\u001b[0m\n\u001b[0;32m    199\u001b[0m         \u001b[0mweights_\u001b[0m \u001b[1;33m=\u001b[0m \u001b[0mself\u001b[0m\u001b[1;33m.\u001b[0m\u001b[0m_validate_weights\u001b[0m\u001b[1;33m(\u001b[0m\u001b[0mweights\u001b[0m\u001b[1;33m)\u001b[0m\u001b[1;33m\u001b[0m\u001b[1;33m\u001b[0m\u001b[0m\n\u001b[1;32m--> 200\u001b[1;33m         \u001b[0moutput_data\u001b[0m \u001b[1;33m=\u001b[0m \u001b[0mself\u001b[0m\u001b[1;33m.\u001b[0m\u001b[0m_forward\u001b[0m\u001b[1;33m(\u001b[0m\u001b[0minput_\u001b[0m\u001b[1;33m,\u001b[0m \u001b[0mweights_\u001b[0m\u001b[1;33m)\u001b[0m\u001b[1;33m\u001b[0m\u001b[1;33m\u001b[0m\u001b[0m\n\u001b[0m\u001b[0;32m    201\u001b[0m         \u001b[1;32mreturn\u001b[0m \u001b[0mself\u001b[0m\u001b[1;33m.\u001b[0m\u001b[0m_validate_forward_output\u001b[0m\u001b[1;33m(\u001b[0m\u001b[0moutput_data\u001b[0m\u001b[1;33m,\u001b[0m \u001b[0mshape\u001b[0m\u001b[1;33m)\u001b[0m\u001b[1;33m\u001b[0m\u001b[1;33m\u001b[0m\u001b[0m\n\u001b[0;32m    202\u001b[0m \u001b[1;33m\u001b[0m\u001b[0m\n",
      "\u001b[1;32m~\\Anaconda3\\lib\\site-packages\\qiskit_machine_learning\\neural_networks\\sampling_neural_network.py\u001b[0m in \u001b[0;36m_forward\u001b[1;34m(self, input_data, weights)\u001b[0m\n\u001b[0;32m     86\u001b[0m             \u001b[1;32mreturn\u001b[0m \u001b[0mself\u001b[0m\u001b[1;33m.\u001b[0m\u001b[0m_sample\u001b[0m\u001b[1;33m(\u001b[0m\u001b[0minput_data\u001b[0m\u001b[1;33m,\u001b[0m \u001b[0mweights\u001b[0m\u001b[1;33m)\u001b[0m\u001b[1;33m\u001b[0m\u001b[1;33m\u001b[0m\u001b[0m\n\u001b[0;32m     87\u001b[0m         \u001b[1;32melse\u001b[0m\u001b[1;33m:\u001b[0m\u001b[1;33m\u001b[0m\u001b[1;33m\u001b[0m\u001b[0m\n\u001b[1;32m---> 88\u001b[1;33m             \u001b[1;32mreturn\u001b[0m \u001b[0mself\u001b[0m\u001b[1;33m.\u001b[0m\u001b[0m_probabilities\u001b[0m\u001b[1;33m(\u001b[0m\u001b[0minput_data\u001b[0m\u001b[1;33m,\u001b[0m \u001b[0mweights\u001b[0m\u001b[1;33m)\u001b[0m\u001b[1;33m\u001b[0m\u001b[1;33m\u001b[0m\u001b[0m\n\u001b[0m\u001b[0;32m     89\u001b[0m \u001b[1;33m\u001b[0m\u001b[0m\n\u001b[0;32m     90\u001b[0m     def _backward(\n",
      "\u001b[1;32m~\\Anaconda3\\lib\\site-packages\\qiskit_machine_learning\\neural_networks\\circuit_qnn.py\u001b[0m in \u001b[0;36m_probabilities\u001b[1;34m(self, input_data, weights)\u001b[0m\n\u001b[0;32m    394\u001b[0m             \u001b[0mcircuits\u001b[0m\u001b[1;33m.\u001b[0m\u001b[0mappend\u001b[0m\u001b[1;33m(\u001b[0m\u001b[0mself\u001b[0m\u001b[1;33m.\u001b[0m\u001b[0m_circuit\u001b[0m\u001b[1;33m.\u001b[0m\u001b[0mbind_parameters\u001b[0m\u001b[1;33m(\u001b[0m\u001b[0mparam_values\u001b[0m\u001b[1;33m)\u001b[0m\u001b[1;33m)\u001b[0m\u001b[1;33m\u001b[0m\u001b[1;33m\u001b[0m\u001b[0m\n\u001b[0;32m    395\u001b[0m \u001b[1;33m\u001b[0m\u001b[0m\n\u001b[1;32m--> 396\u001b[1;33m         \u001b[0mresult\u001b[0m \u001b[1;33m=\u001b[0m \u001b[0mself\u001b[0m\u001b[1;33m.\u001b[0m\u001b[0m_quantum_instance\u001b[0m\u001b[1;33m.\u001b[0m\u001b[0mexecute\u001b[0m\u001b[1;33m(\u001b[0m\u001b[0mcircuits\u001b[0m\u001b[1;33m,\u001b[0m \u001b[0mhad_transpiled\u001b[0m\u001b[1;33m=\u001b[0m\u001b[0mself\u001b[0m\u001b[1;33m.\u001b[0m\u001b[0m_circuit_transpiled\u001b[0m\u001b[1;33m)\u001b[0m\u001b[1;33m\u001b[0m\u001b[1;33m\u001b[0m\u001b[0m\n\u001b[0m\u001b[0;32m    397\u001b[0m         \u001b[1;31m# initialize probabilities\u001b[0m\u001b[1;33m\u001b[0m\u001b[1;33m\u001b[0m\u001b[0m\n\u001b[0;32m    398\u001b[0m         \u001b[1;32mif\u001b[0m \u001b[0mself\u001b[0m\u001b[1;33m.\u001b[0m\u001b[0m_sparse\u001b[0m\u001b[1;33m:\u001b[0m\u001b[1;33m\u001b[0m\u001b[1;33m\u001b[0m\u001b[0m\n",
      "\u001b[1;32m~\\Anaconda3\\lib\\site-packages\\qiskit\\utils\\quantum_instance.py\u001b[0m in \u001b[0;36mexecute\u001b[1;34m(self, circuits, had_transpiled)\u001b[0m\n\u001b[0;32m    799\u001b[0m         \u001b[1;32melse\u001b[0m\u001b[1;33m:\u001b[0m\u001b[1;33m\u001b[0m\u001b[1;33m\u001b[0m\u001b[0m\n\u001b[0;32m    800\u001b[0m             result = (\n\u001b[1;32m--> 801\u001b[1;33m                 run_circuits(\n\u001b[0m\u001b[0;32m    802\u001b[0m                     \u001b[0mcircuits\u001b[0m\u001b[1;33m,\u001b[0m\u001b[1;33m\u001b[0m\u001b[1;33m\u001b[0m\u001b[0m\n\u001b[0;32m    803\u001b[0m                     \u001b[0mself\u001b[0m\u001b[1;33m.\u001b[0m\u001b[0m_backend\u001b[0m\u001b[1;33m,\u001b[0m\u001b[1;33m\u001b[0m\u001b[1;33m\u001b[0m\u001b[0m\n",
      "\u001b[1;32m~\\Anaconda3\\lib\\site-packages\\qiskit\\utils\\run_circuits.py\u001b[0m in \u001b[0;36mrun_circuits\u001b[1;34m(circuits, backend, qjob_config, backend_options, noise_config, run_config, job_callback, max_job_retries)\u001b[0m\n\u001b[0;32m    521\u001b[0m             \u001b[0mcount\u001b[0m \u001b[1;33m+=\u001b[0m \u001b[0mmax_circuits_per_job\u001b[0m\u001b[1;33m\u001b[0m\u001b[1;33m\u001b[0m\u001b[0m\n\u001b[0;32m    522\u001b[0m     \u001b[1;32melse\u001b[0m\u001b[1;33m:\u001b[0m\u001b[1;33m\u001b[0m\u001b[1;33m\u001b[0m\u001b[0m\n\u001b[1;32m--> 523\u001b[1;33m         job, job_id = _safe_submit_circuits(\n\u001b[0m\u001b[0;32m    524\u001b[0m             \u001b[0mcircuits\u001b[0m\u001b[1;33m,\u001b[0m\u001b[1;33m\u001b[0m\u001b[1;33m\u001b[0m\u001b[0m\n\u001b[0;32m    525\u001b[0m             \u001b[0mbackend\u001b[0m\u001b[1;33m,\u001b[0m\u001b[1;33m\u001b[0m\u001b[1;33m\u001b[0m\u001b[0m\n",
      "\u001b[1;32m~\\Anaconda3\\lib\\site-packages\\qiskit\\utils\\run_circuits.py\u001b[0m in \u001b[0;36m_safe_submit_circuits\u001b[1;34m(circuits, backend, qjob_config, backend_options, noise_config, run_config, max_job_retries)\u001b[0m\n\u001b[0;32m    656\u001b[0m     \u001b[1;32mfor\u001b[0m \u001b[0m_\u001b[0m \u001b[1;32min\u001b[0m \u001b[0mrange\u001b[0m\u001b[1;33m(\u001b[0m\u001b[0mmax_job_retries\u001b[0m\u001b[1;33m)\u001b[0m\u001b[1;33m:\u001b[0m\u001b[1;33m\u001b[0m\u001b[1;33m\u001b[0m\u001b[0m\n\u001b[0;32m    657\u001b[0m         \u001b[1;32mtry\u001b[0m\u001b[1;33m:\u001b[0m\u001b[1;33m\u001b[0m\u001b[1;33m\u001b[0m\u001b[0m\n\u001b[1;32m--> 658\u001b[1;33m             job = _run_circuits_on_backend(\n\u001b[0m\u001b[0;32m    659\u001b[0m                 \u001b[0mbackend\u001b[0m\u001b[1;33m,\u001b[0m\u001b[1;33m\u001b[0m\u001b[1;33m\u001b[0m\u001b[0m\n\u001b[0;32m    660\u001b[0m                 \u001b[0mcircuits\u001b[0m\u001b[1;33m,\u001b[0m\u001b[1;33m\u001b[0m\u001b[1;33m\u001b[0m\u001b[0m\n",
      "\u001b[1;32m~\\Anaconda3\\lib\\site-packages\\qiskit\\utils\\run_circuits.py\u001b[0m in \u001b[0;36m_run_circuits_on_backend\u001b[1;34m(backend, circuits, backend_options, noise_config, run_config)\u001b[0m\n\u001b[0;32m    741\u001b[0m                 \u001b[1;32mdel\u001b[0m \u001b[0mrun_kwargs\u001b[0m\u001b[1;33m[\u001b[0m\u001b[0mkey\u001b[0m\u001b[1;33m]\u001b[0m\u001b[1;33m\u001b[0m\u001b[1;33m\u001b[0m\u001b[0m\n\u001b[0;32m    742\u001b[0m \u001b[1;33m\u001b[0m\u001b[0m\n\u001b[1;32m--> 743\u001b[1;33m     \u001b[1;32mreturn\u001b[0m \u001b[0mbackend\u001b[0m\u001b[1;33m.\u001b[0m\u001b[0mrun\u001b[0m\u001b[1;33m(\u001b[0m\u001b[0mcircuits\u001b[0m\u001b[1;33m,\u001b[0m \u001b[1;33m**\u001b[0m\u001b[0mrun_kwargs\u001b[0m\u001b[1;33m)\u001b[0m\u001b[1;33m\u001b[0m\u001b[1;33m\u001b[0m\u001b[0m\n\u001b[0m",
      "\u001b[1;32m~\\Anaconda3\\lib\\site-packages\\qiskit\\providers\\basicaer\\qasm_simulator.py\u001b[0m in \u001b[0;36mrun\u001b[1;34m(self, qobj, **backend_options)\u001b[0m\n\u001b[0;32m    418\u001b[0m         \u001b[0mself\u001b[0m\u001b[1;33m.\u001b[0m\u001b[0m_set_options\u001b[0m\u001b[1;33m(\u001b[0m\u001b[0mqobj_config\u001b[0m\u001b[1;33m=\u001b[0m\u001b[0mqobj_options\u001b[0m\u001b[1;33m,\u001b[0m \u001b[0mbackend_options\u001b[0m\u001b[1;33m=\u001b[0m\u001b[0mbackend_options\u001b[0m\u001b[1;33m)\u001b[0m\u001b[1;33m\u001b[0m\u001b[1;33m\u001b[0m\u001b[0m\n\u001b[0;32m    419\u001b[0m         \u001b[0mjob_id\u001b[0m \u001b[1;33m=\u001b[0m \u001b[0mstr\u001b[0m\u001b[1;33m(\u001b[0m\u001b[0muuid\u001b[0m\u001b[1;33m.\u001b[0m\u001b[0muuid4\u001b[0m\u001b[1;33m(\u001b[0m\u001b[1;33m)\u001b[0m\u001b[1;33m)\u001b[0m\u001b[1;33m\u001b[0m\u001b[1;33m\u001b[0m\u001b[0m\n\u001b[1;32m--> 420\u001b[1;33m         \u001b[0mjob\u001b[0m \u001b[1;33m=\u001b[0m \u001b[0mBasicAerJob\u001b[0m\u001b[1;33m(\u001b[0m\u001b[0mself\u001b[0m\u001b[1;33m,\u001b[0m \u001b[0mjob_id\u001b[0m\u001b[1;33m,\u001b[0m \u001b[0mself\u001b[0m\u001b[1;33m.\u001b[0m\u001b[0m_run_job\u001b[0m\u001b[1;33m(\u001b[0m\u001b[0mjob_id\u001b[0m\u001b[1;33m,\u001b[0m \u001b[0mqobj\u001b[0m\u001b[1;33m)\u001b[0m\u001b[1;33m)\u001b[0m\u001b[1;33m\u001b[0m\u001b[1;33m\u001b[0m\u001b[0m\n\u001b[0m\u001b[0;32m    421\u001b[0m         \u001b[1;32mreturn\u001b[0m \u001b[0mjob\u001b[0m\u001b[1;33m\u001b[0m\u001b[1;33m\u001b[0m\u001b[0m\n\u001b[0;32m    422\u001b[0m \u001b[1;33m\u001b[0m\u001b[0m\n",
      "\u001b[1;32m~\\Anaconda3\\lib\\site-packages\\qiskit\\providers\\basicaer\\qasm_simulator.py\u001b[0m in \u001b[0;36m_run_job\u001b[1;34m(self, job_id, qobj)\u001b[0m\n\u001b[0;32m    438\u001b[0m         \u001b[0mstart\u001b[0m \u001b[1;33m=\u001b[0m \u001b[0mtime\u001b[0m\u001b[1;33m.\u001b[0m\u001b[0mtime\u001b[0m\u001b[1;33m(\u001b[0m\u001b[1;33m)\u001b[0m\u001b[1;33m\u001b[0m\u001b[1;33m\u001b[0m\u001b[0m\n\u001b[0;32m    439\u001b[0m         \u001b[1;32mfor\u001b[0m \u001b[0mexperiment\u001b[0m \u001b[1;32min\u001b[0m \u001b[0mqobj\u001b[0m\u001b[1;33m.\u001b[0m\u001b[0mexperiments\u001b[0m\u001b[1;33m:\u001b[0m\u001b[1;33m\u001b[0m\u001b[1;33m\u001b[0m\u001b[0m\n\u001b[1;32m--> 440\u001b[1;33m             \u001b[0mresult_list\u001b[0m\u001b[1;33m.\u001b[0m\u001b[0mappend\u001b[0m\u001b[1;33m(\u001b[0m\u001b[0mself\u001b[0m\u001b[1;33m.\u001b[0m\u001b[0mrun_experiment\u001b[0m\u001b[1;33m(\u001b[0m\u001b[0mexperiment\u001b[0m\u001b[1;33m)\u001b[0m\u001b[1;33m)\u001b[0m\u001b[1;33m\u001b[0m\u001b[1;33m\u001b[0m\u001b[0m\n\u001b[0m\u001b[0;32m    441\u001b[0m         \u001b[0mend\u001b[0m \u001b[1;33m=\u001b[0m \u001b[0mtime\u001b[0m\u001b[1;33m.\u001b[0m\u001b[0mtime\u001b[0m\u001b[1;33m(\u001b[0m\u001b[1;33m)\u001b[0m\u001b[1;33m\u001b[0m\u001b[1;33m\u001b[0m\u001b[0m\n\u001b[0;32m    442\u001b[0m         result = {\n",
      "\u001b[1;32m~\\Anaconda3\\lib\\site-packages\\qiskit\\providers\\basicaer\\qasm_simulator.py\u001b[0m in \u001b[0;36mrun_experiment\u001b[1;34m(self, experiment)\u001b[0m\n\u001b[0;32m    619\u001b[0m                 \u001b[1;32mif\u001b[0m \u001b[0mself\u001b[0m\u001b[1;33m.\u001b[0m\u001b[0m_sample_measure\u001b[0m\u001b[1;33m:\u001b[0m\u001b[1;33m\u001b[0m\u001b[1;33m\u001b[0m\u001b[0m\n\u001b[0;32m    620\u001b[0m                     \u001b[1;31m# If sampling we generate all shot samples from the final statevector\u001b[0m\u001b[1;33m\u001b[0m\u001b[1;33m\u001b[0m\u001b[0m\n\u001b[1;32m--> 621\u001b[1;33m                     \u001b[0mmemory\u001b[0m \u001b[1;33m=\u001b[0m \u001b[0mself\u001b[0m\u001b[1;33m.\u001b[0m\u001b[0m_add_sample_measure\u001b[0m\u001b[1;33m(\u001b[0m\u001b[0mmeasure_sample_ops\u001b[0m\u001b[1;33m,\u001b[0m \u001b[0mself\u001b[0m\u001b[1;33m.\u001b[0m\u001b[0m_shots\u001b[0m\u001b[1;33m)\u001b[0m\u001b[1;33m\u001b[0m\u001b[1;33m\u001b[0m\u001b[0m\n\u001b[0m\u001b[0;32m    622\u001b[0m                 \u001b[1;32melse\u001b[0m\u001b[1;33m:\u001b[0m\u001b[1;33m\u001b[0m\u001b[1;33m\u001b[0m\u001b[0m\n\u001b[0;32m    623\u001b[0m                     \u001b[1;31m# Turn classical_memory (int) into bit string and pad zero for unused cmembits\u001b[0m\u001b[1;33m\u001b[0m\u001b[1;33m\u001b[0m\u001b[0m\n",
      "\u001b[1;32m~\\Anaconda3\\lib\\site-packages\\qiskit\\providers\\basicaer\\qasm_simulator.py\u001b[0m in \u001b[0;36m_add_sample_measure\u001b[1;34m(self, measure_params, num_samples)\u001b[0m\n\u001b[0;32m    211\u001b[0m         \u001b[1;31m# position in the bit-string for each int given by the qubit\u001b[0m\u001b[1;33m\u001b[0m\u001b[1;33m\u001b[0m\u001b[0m\n\u001b[0;32m    212\u001b[0m         \u001b[1;31m# position in the sorted measured_qubits list\u001b[0m\u001b[1;33m\u001b[0m\u001b[1;33m\u001b[0m\u001b[0m\n\u001b[1;32m--> 213\u001b[1;33m         \u001b[0msamples\u001b[0m \u001b[1;33m=\u001b[0m \u001b[0mself\u001b[0m\u001b[1;33m.\u001b[0m\u001b[0m_local_random\u001b[0m\u001b[1;33m.\u001b[0m\u001b[0mchoice\u001b[0m\u001b[1;33m(\u001b[0m\u001b[0mrange\u001b[0m\u001b[1;33m(\u001b[0m\u001b[1;36m2\u001b[0m\u001b[1;33m**\u001b[0m\u001b[0mnum_measured\u001b[0m\u001b[1;33m)\u001b[0m\u001b[1;33m,\u001b[0m \u001b[0mnum_samples\u001b[0m\u001b[1;33m,\u001b[0m \u001b[0mp\u001b[0m\u001b[1;33m=\u001b[0m\u001b[0mprobabilities\u001b[0m\u001b[1;33m)\u001b[0m\u001b[1;33m\u001b[0m\u001b[1;33m\u001b[0m\u001b[0m\n\u001b[0m\u001b[0;32m    214\u001b[0m         \u001b[1;31m# Convert the ints to bitstrings\u001b[0m\u001b[1;33m\u001b[0m\u001b[1;33m\u001b[0m\u001b[0m\n\u001b[0;32m    215\u001b[0m         \u001b[0mmemory\u001b[0m \u001b[1;33m=\u001b[0m \u001b[1;33m[\u001b[0m\u001b[1;33m]\u001b[0m\u001b[1;33m\u001b[0m\u001b[1;33m\u001b[0m\u001b[0m\n",
      "\u001b[1;31mKeyboardInterrupt\u001b[0m: "
     ]
    }
   ],
   "source": [
    "#execution until 1750 images took 2.9 days. I dont recommend running this cell\n",
    "train_time_amount_list = []\n",
    "test_time_amount_list = []\n",
    "score_amount_list = []\n",
    "feature_map = best_combo[0]\n",
    "var_form = best_combo[1]\n",
    "for train_data,train_label in zip(train_data_list,train_label_list):\n",
    "    print(\"Execution start for \",len(train_data), \" images\")\n",
    "    vqc = VQC(feature_map= feature_map,\n",
    "             ansatz=var_form,\n",
    "             loss='cross_entropy',\n",
    "             optimizer=SPSA(),\n",
    "             quantum_instance=BasicAer.get_backend('qasm_simulator'))\n",
    "    start = time.time()\n",
    "    vqc.fit(train_data,train_label)\n",
    "    end = time.time()\n",
    "    train_time_amount_list.append(end-start)\n",
    "    start = time.time()\n",
    "    score_amount_list.append(vqc.score(test_data_image,test_label_image_oh))\n",
    "    end = time.time()\n",
    "    test_time_amount_list.append(end-start)\n",
    "    print(\"Execution end for \",len(train_data),\" images\")"
   ]
  },
  {
   "cell_type": "code",
   "execution_count": 2,
   "id": "972afca4",
   "metadata": {},
   "outputs": [],
   "source": [
    "score_amount = np.load(\"score_amount.npy\")\n",
    "train_time_amount = np.load(\"train_time_amount.npy\")\n",
    "test_time_amount = np.load(\"test_time_amount.npy\")"
   ]
  },
  {
   "cell_type": "code",
   "execution_count": 16,
   "id": "2d6e5d87",
   "metadata": {},
   "outputs": [
    {
     "name": "stdout",
     "output_type": "stream",
     "text": [
      "Total execution time (days) 2.9324234429608893\n",
      "Max execution time for an iteration (hours) 3.85413464181953  for  1750  images\n",
      "Maximum score for an iteration :  0.14  for  300  images\n"
     ]
    }
   ],
   "source": [
    "print(\"Total execution time (days)\",(sum(train_time_amount)+sum(test_time_amount))/3600/24)\n",
    "print(\"Max execution time for an iteration (hours)\", max(train_time_amount)/3600,\" for \",50*train_time_amount.tolist().index(max(train_time_amount))+50,\" images\")\n",
    "print(\"Maximum score for an iteration : \",max(score_amount),\" for \",50*score_amount.tolist().index(max(score_amount))+50,\" images\")"
   ]
  },
  {
   "cell_type": "code",
   "execution_count": 22,
   "id": "3cc8e9c1",
   "metadata": {},
   "outputs": [
    {
     "name": "stdout",
     "output_type": "stream",
     "text": [
      "Score in comparaison of the amount of images used to train vqc : \n",
      " [(0.14, 300), (0.13, 1750), (0.13, 750), (0.12, 400), (0.12, 450), (0.12, 1700), (0.12, 500), (0.12, 1050), (0.12, 700), (0.11, 1500), (0.11, 350), (0.1, 1150), (0.1, 1450), (0.09, 250), (0.09, 1200), (0.09, 1300), (0.09, 950), (0.09, 850), (0.09, 200), (0.08, 150), (0.08, 650), (0.08, 900), (0.08, 1000), (0.08, 1100), (0.08, 1250), (0.07, 1350), (0.07, 1550), (0.07, 1650), (0.07, 100), (0.06, 800), (0.06, 600), (0.06, 550), (0.06, 1400), (0.06, 50), (0.05, 1600)]\n"
     ]
    }
   ],
   "source": [
    "sort_index = np.argsort(score_amount)\n",
    "score_sorted = np.flip(score_amount[sort_index])\n",
    "amount_sorted = np.flip(np.array([i for i in range(50,1800,50)])[sort_index])\n",
    "\n",
    "print(\"Score in comparaison of the amount of images used to train vqc : \\n\",list(zip(score_sorted,amount_sorted)))"
   ]
  },
  {
   "cell_type": "code",
   "execution_count": 23,
   "id": "bbebe2a3",
   "metadata": {},
   "outputs": [
    {
     "data": {
      "image/png": "[encoded data removed]",
      "text/plain": [
       "<Figure size 432x288 with 1 Axes>"
      ]
     },
     "metadata": {
      "needs_background": "light"
     },
     "output_type": "display_data"
    }
   ],
   "source": [
    "plt.plot([i for i in range(50,1800,50)],score_amount)\n",
    "plt.show()"
   ]
  },
  {
   "cell_type": "markdown",
   "id": "41cae0b5",
   "metadata": {},
   "source": [
    "# Conclusion : I regret taking a weekend to run that"
   ]
  },
  {
   "cell_type": "markdown",
   "id": "d8d5be93",
   "metadata": {},
   "source": [
    "# Trying with another dataset with less features"
   ]
  },
  {
   "cell_type": "code",
   "execution_count": 75,
   "id": "9e62b5c5",
   "metadata": {},
   "outputs": [],
   "source": [
    "import pandas as pd\n",
    "\n",
    "cov_dict = pd.read_csv('covid.csv').to_dict()"
   ]
  },
  {
   "cell_type": "code",
   "execution_count": 76,
   "id": "693a45da",
   "metadata": {},
   "outputs": [
    {
     "data": {
      "text/plain": [
       "dict_keys(['Fever', 'Tiredness', 'Dry-Cough', 'Difficulty-in-Breathing', 'Sore-Throat', 'None_Sympton', 'Pains', 'Nasal-Congestion', 'Runny-Nose', 'Diarrhea', 'None_Experiencing', 'Age_0-9', 'Age_10-19', 'Age_20-24', 'Age_25-59', 'Age_60+', 'Gender_Female', 'Gender_Male', 'Gender_Transgender', 'Severity_Mild', 'Severity_Moderate', 'Severity_None', 'Severity_Severe', 'Contact_Dont-Know', 'Contact_No', 'Contact_Yes', 'Country'])"
      ]
     },
     "execution_count": 76,
     "metadata": {},
     "output_type": "execute_result"
    }
   ],
   "source": [
    "cov_dict.keys()"
   ]
  },
  {
   "cell_type": "code",
   "execution_count": 77,
   "id": "ac0a2297",
   "metadata": {},
   "outputs": [],
   "source": [
    "cov_dict.pop('Severity_Mild',None)\n",
    "cov_dict.pop('Severity_Moderate',None)\n",
    "cov_dict.pop('Severity_None',None)\n",
    "cov_dict.pop('Country',None);"
   ]
  },
  {
   "cell_type": "code",
   "execution_count": 78,
   "id": "5062cb73",
   "metadata": {},
   "outputs": [
    {
     "data": {
      "text/plain": [
       "dict_keys(['Fever', 'Tiredness', 'Dry-Cough', 'Difficulty-in-Breathing', 'Sore-Throat', 'None_Sympton', 'Pains', 'Nasal-Congestion', 'Runny-Nose', 'Diarrhea', 'None_Experiencing', 'Age_0-9', 'Age_10-19', 'Age_20-24', 'Age_25-59', 'Age_60+', 'Gender_Female', 'Gender_Male', 'Gender_Transgender', 'Severity_Severe', 'Contact_Dont-Know', 'Contact_No', 'Contact_Yes'])"
      ]
     },
     "execution_count": 78,
     "metadata": {},
     "output_type": "execute_result"
    }
   ],
   "source": [
    "cov_dict.keys()"
   ]
  },
  {
   "cell_type": "code",
   "execution_count": 79,
   "id": "b86aa99b",
   "metadata": {},
   "outputs": [],
   "source": [
    "y = cov_dict.pop('Severity_Severe',None)\n",
    "x = cov_dict"
   ]
  },
  {
   "cell_type": "code",
   "execution_count": 80,
   "id": "a0270837",
   "metadata": {},
   "outputs": [],
   "source": [
    "y_list = np.array(list(y.values()))\n",
    "y_oh = encoder.fit_transform(y_list.reshape(-1, 1)).toarray()"
   ]
  },
  {
   "cell_type": "code",
   "execution_count": 81,
   "id": "042547ec",
   "metadata": {},
   "outputs": [],
   "source": [
    "import random\n",
    "x_list = np.array([np.array([x.get(k)[i] for k in list(x.keys())]) for i in range(len(x.get('Fever')))])\n",
    "enum = list(enumerate(x_list))\n",
    "random.shuffle(enum)\n",
    "index, _ = zip(*enum)\n",
    "\n",
    "x_shuffle = x_list[index,:]\n",
    "y_oh_shuffle = y_oh[index,:]"
   ]
  },
  {
   "cell_type": "code",
   "execution_count": 82,
   "id": "0a59b159",
   "metadata": {},
   "outputs": [
    {
     "name": "stdout",
     "output_type": "stream",
     "text": [
      "Score :  [0.446 2.224 1.961 0.138 0.066 2.64  0.267 2.334 0.658 0.359 0.712 1.697\n",
      " 2.49  0.486 0.744 0.012 0.948 0.505 0.069 0.015 0.495 0.34 ]\n"
     ]
    }
   ],
   "source": [
    "#Test with feature selection\n",
    "\n",
    "from sklearn.feature_selection import SelectKBest, chi2\n",
    "test = SelectKBest(score_func=chi2, k=7)\n",
    "x_shuffle = test.fit_transform(x_shuffle,y_oh)\n",
    "np.set_printoptions(precision=3)\n",
    "print(\"Score : \",test.scores_)\n",
    "np.set_printoptions(precision = 8)\n"
   ]
  },
  {
   "cell_type": "code",
   "execution_count": 83,
   "id": "c03fbc58",
   "metadata": {},
   "outputs": [
    {
     "data": {
      "text/plain": [
       "(316800, 20)"
      ]
     },
     "execution_count": 83,
     "metadata": {},
     "output_type": "execute_result"
    }
   ],
   "source": [
    "x_shuffle.shape"
   ]
  },
  {
   "cell_type": "code",
   "execution_count": 84,
   "id": "8412f889",
   "metadata": {},
   "outputs": [],
   "source": [
    "train_data = x_shuffle[1000:1050]\n",
    "train_label = y_oh_shuffle[1000:1050]\n",
    "test_data = x_shuffle[210:400]\n",
    "test_label = y_oh_shuffle[210:400]"
   ]
  },
  {
   "cell_type": "code",
   "execution_count": 29,
   "id": "5a9f4c73",
   "metadata": {},
   "outputs": [],
   "source": [
    "from IPython.display import clear_output\n",
    "\n",
    "def callback_graph(weights, obj_func_eval):\n",
    "    clear_output(wait=True)\n",
    "    objective_func_vals.append(obj_func_eval)\n",
    "    plt.title(\"Objective function value against iteration\")\n",
    "    plt.xlabel(\"Iteration\")\n",
    "    plt.ylabel(\"Objective function value\")\n",
    "    plt.plot(range(len(objective_func_vals)), objective_func_vals)\n",
    "    plt.show()\n",
    "    \n",
    "def callback_opti(eva,param,value,stepsize,accept):\n",
    "    clear_output(wait = True)\n",
    "    value_obj.append(value)\n",
    "    plt.title(\"Objective function in SPSA\")\n",
    "    plt.xlabel(\"Iteration\")\n",
    "    plt.ylabel(\"Objective value\")\n",
    "    plt.plot(range(len(value_obj)),value_obj)\n",
    "    plt.plot(range(len(objective_func_vals)),objective_func_vals)\n",
    "    plt.show()"
   ]
  },
  {
   "cell_type": "code",
   "execution_count": 30,
   "id": "60cb750e",
   "metadata": {},
   "outputs": [
    {
     "data": {
      "image/png": "[encoded data removed]",
      "text/plain": [
       "<Figure size 929.252x144.48 with 1 Axes>"
      ]
     },
     "execution_count": 30,
     "metadata": {},
     "output_type": "execute_result"
    }
   ],
   "source": [
    "EfficientSU2(num_qubits=2,reps = 4).decompose().draw(output = 'mpl')"
   ]
  },
  {
   "cell_type": "code",
   "execution_count": 31,
   "id": "4117cd41",
   "metadata": {
    "scrolled": false
   },
   "outputs": [
    {
     "data": {
      "image/png": "[encoded data removed]",
      "text/plain": [
       "<Figure size 864x432 with 1 Axes>"
      ]
     },
     "metadata": {
      "needs_background": "light"
     },
     "output_type": "display_data"
    },
    {
     "data": {
      "text/plain": [
       "<qiskit_machine_learning.algorithms.classifiers.vqc.VQC at 0x20183a47490>"
      ]
     },
     "execution_count": 31,
     "metadata": {},
     "output_type": "execute_result"
    }
   ],
   "source": [
    "feature_map = EfficientSU2(num_qubits=2, reps = 4, parameter_prefix='in')\n",
    "var_form = TwoLocal(num_qubits=feature_map.num_qubits, rotation_blocks=['ry','rz'], entanglement_blocks='cz')\n",
    "# display(var_form.decompose().draw(output = 'mpl'))\n",
    "objective_func_vals = []\n",
    "value_obj = []\n",
    "evaluations =[]\n",
    "parameters = []\n",
    "costs = []\n",
    "\n",
    "plt.rcParams[\"figure.figsize\"] = (12, 6)\n",
    "\n",
    "initial_point = np.random.random(var_form.num_parameters)\n",
    "\n",
    "optimizer = SPSA(maxiter=100,callback=store_intermediate_result)\n",
    "\n",
    "vqc = VQC(feature_map= feature_map,\n",
    "             ansatz=var_form,\n",
    "             loss='cross_entropy',\n",
    "             optimizer=optimizer,\n",
    "             quantum_instance=Aer.get_backend('qasm_simulator'),\n",
    "             initial_point=initial_point,\n",
    "             callback=callback_graph)\n",
    "vqc.fit(train_data,train_label)\n",
    "# plt.plot(evaluations,costs)\n",
    "# plt.xlabel(\"Evaluations\")\n",
    "# plt.ylabel(\"Costs\")\n",
    "# plt.show()"
   ]
  },
  {
   "cell_type": "code",
   "execution_count": 32,
   "id": "d8622919",
   "metadata": {},
   "outputs": [
    {
     "data": {
      "text/plain": [
       "0.68"
      ]
     },
     "execution_count": 32,
     "metadata": {},
     "output_type": "execute_result"
    }
   ],
   "source": [
    "vqc.score(train_data,train_label)"
   ]
  },
  {
   "cell_type": "code",
   "execution_count": null,
   "id": "3da6bc81",
   "metadata": {},
   "outputs": [],
   "source": []
  },
  {
   "cell_type": "code",
   "execution_count": null,
   "id": "fa84eab9",
   "metadata": {},
   "outputs": [],
   "source": [
    "# test with the noise of a real backend\n",
    "from qiskit import IBMQ\n",
    "IBMQ.load_account()\n",
    "provider = IBMQ.get_provider(hub='ibm-q-internal', group='support', project='core-team')"
   ]
  },
  {
   "cell_type": "code",
   "execution_count": 131,
   "id": "ac9e5854",
   "metadata": {},
   "outputs": [
    {
     "data": {
      "image/png": "[encoded data removed]",
      "text/plain": [
       "<Figure size 864x432 with 1 Axes>"
      ]
     },
     "metadata": {
      "needs_background": "light"
     },
     "output_type": "display_data"
    },
    {
     "data": {
      "text/plain": [
       "<qiskit_machine_learning.algorithms.classifiers.vqc.VQC at 0x2076fb1b430>"
      ]
     },
     "execution_count": 131,
     "metadata": {},
     "output_type": "execute_result"
    }
   ],
   "source": [
    "from qiskit.providers.aer.noise import NoiseModel\n",
    "from qiskit.utils import QuantumInstance\n",
    "backend = provider.get_backend('ibm_lagos')\n",
    "noise_model = NoiseModel.from_backend(backend)\n",
    "inst = QuantumInstance(backend = Aer.get_backend('qasm_simulator'), noise_model=noise_model)\n",
    "\n",
    "objective_func_vals = []\n",
    "\n",
    "optimizer = SPSA(maxiter=100,callback=store_intermediate_result)\n",
    "\n",
    "vqc_noisy = VQC(feature_map= feature_map,\n",
    "             ansatz=var_form,\n",
    "             loss='cross_entropy',\n",
    "             optimizer=optimizer,\n",
    "             quantum_instance=inst,\n",
    "             initial_point=initial_point,\n",
    "             callback=callback_graph)\n",
    "vqc_noisy.fit(train_data,train_label)"
   ]
  },
  {
   "cell_type": "code",
   "execution_count": 132,
   "id": "aa042783",
   "metadata": {},
   "outputs": [
    {
     "data": {
      "text/plain": [
       "0.74"
      ]
     },
     "execution_count": 132,
     "metadata": {},
     "output_type": "execute_result"
    }
   ],
   "source": [
    "vqc_noisy.score(train_data,train_label)"
   ]
  },
  {
   "cell_type": "code",
   "execution_count": 36,
   "id": "f6c9f54a",
   "metadata": {},
   "outputs": [
    {
     "name": "stderr",
     "output_type": "stream",
     "text": [
      "ibmqfactory.load_account:WARNING:2022-05-16 16:06:10,546: Credentials are already in use. The existing account in the session will be replaced.\n"
     ]
    }
   ],
   "source": [
    "#VQC runtime test\n",
    "from qiskit import IBMQ\n",
    "IBMQ.load_account()\n",
    "provider = IBMQ.get_provider(hub = 'ibm-q-internal',group = 'support',project='core-team')\n",
    "backend = provider.get_backend('ibmq_qasm_simulator')"
   ]
  },
  {
   "cell_type": "code",
   "execution_count": 88,
   "id": "147040fe",
   "metadata": {},
   "outputs": [],
   "source": [
    "import os\n",
    "program_json = os.path.join(os.getcwd(),\"vqcruntime.json\")\n",
    "program_data = os.path.join(os.getcwd(),\"vqcruntime.py\")"
   ]
  },
  {
   "cell_type": "code",
   "execution_count": 38,
   "id": "204e583e",
   "metadata": {},
   "outputs": [
    {
     "name": "stdout",
     "output_type": "stream",
     "text": [
      "Programm id :  vqcruntime-E9847vJ1W9\n",
      "vqcruntime-E9847vJ1W9:\n",
      "  Name: vqcruntime\n",
      "  Description: First try at runtime with vqc\n",
      "  Creation date: 2022-05-16T14:09:35.000353Z\n",
      "  Update date: 2022-05-16T14:09:35.000353Z\n",
      "  Max execution time: 3600\n",
      "  Input parameters:\n",
      "    Properties:\n",
      "        - train_data:\n",
      "            Description: List of train data\n",
      "            Type: list\n",
      "            Required: True\n",
      "        - train_label:\n",
      "            Description: List of train labels, in one hot vector form\n",
      "            Type: list\n",
      "            Required: True\n",
      "  Interim results:\n",
      "    Properties:\n",
      "        - cost:\n",
      "            Description: The evolution of the cost function\n",
      "            Type: list\n",
      "            Required: False\n",
      "  Returns:\n",
      "    Description: List of weights trained by vqc. Can be used with the warm start parameter of vqc\n",
      "    Type: list\n"
     ]
    }
   ],
   "source": [
    "program_id = provider.runtime.upload_program(\n",
    "                                            data = program_data,\n",
    "                                            metadata = program_json)\n",
    "#id : vqcruntime-E9847vJ1W9\n",
    "print(\"Programm id : \",program_id)\n",
    "print(provider.runtime.program(program_id))"
   ]
  },
  {
   "cell_type": "code",
   "execution_count": 89,
   "id": "60c6ab5a",
   "metadata": {},
   "outputs": [],
   "source": [
    "provider.runtime.update_program(program_id= program_id,data = program_data,metadata=program_json)"
   ]
  },
  {
   "cell_type": "code",
   "execution_count": 57,
   "id": "e08cb81b",
   "metadata": {},
   "outputs": [],
   "source": [
    "def interim_result(job_id,interim_result):\n",
    "    c = interim_result['cost']\n",
    "    from IPython.display import clear_output\n",
    "    clear_output(wait=True)\n",
    "    objective_func_vals.append(c)\n",
    "    plt.title(\"Objective function value against iteration\")\n",
    "    plt.xlabel(\"Iteration\")\n",
    "    plt.ylabel(\"Objective function value\")\n",
    "    plt.plot(range(len(c)), c)\n",
    "    plt.show()"
   ]
  },
  {
   "cell_type": "code",
   "execution_count": 44,
   "id": "185d519a",
   "metadata": {},
   "outputs": [
    {
     "data": {
      "application/vnd.jupyter.widget-view+json": {
       "model_id": "3dd90f93aab34c84b96d7df04a7378f0",
       "version_major": 2,
       "version_minor": 0
      },
      "text/plain": [
       "Accordion(children=(VBox(layout=Layout(max_width='710px', min_width='710px')),), layout=Layout(max_height='500…"
      ]
     },
     "metadata": {},
     "output_type": "display_data"
    },
    {
     "data": {
      "application/javascript": [
       "\n",
       "        const isLab = window['Jupyter'] === undefined;\n",
       "        const notebook = document.querySelector( isLab ? 'div.jp-Notebook' : '#site');\n",
       "        const jobWidget = document.querySelector('div.job_widget');\n",
       "        notebook.prepend(jobWidget);\n",
       "        jobWidget.style.zIndex = '999';\n",
       "        jobWidget.style.position = isLab ? 'sticky' : 'fixed';\n",
       "        jobWidget.style.boxShadow = '5px 5px 5px -3px black';\n",
       "        jobWidget.style.opacity = '0.95';\n",
       "        if (isLab) {\n",
       "            jobWidget.style.top = '0';\n",
       "            jobWidget.style.left = '0';\n",
       "        }\n",
       "        "
      ],
      "text/plain": [
       "<IPython.core.display.Javascript object>"
      ]
     },
     "metadata": {},
     "output_type": "display_data"
    }
   ],
   "source": [
    "from qiskit.tools.jupyter import job_watcher\n",
    "%qiskit_job_watcher"
   ]
  },
  {
   "cell_type": "code",
   "execution_count": 90,
   "id": "f0603f00",
   "metadata": {},
   "outputs": [],
   "source": [
    "program_inputs = {\n",
    "    'train_data':train_data,'train_label':train_label, 'test_data':test_data, 'test_label':test_label\n",
    "}\n",
    "options = {'backend_name' : backend.name()}\n",
    "job = provider.runtime.run(program_id=program_id,\n",
    "                          options = options,\n",
    "                          inputs = program_inputs,\n",
    "                          callback=interim_result)\n",
    "result = job.result()"
   ]
  },
  {
   "cell_type": "code",
   "execution_count": 91,
   "id": "46a32ac9",
   "metadata": {},
   "outputs": [
    {
     "data": {
      "text/plain": [
       "''"
      ]
     },
     "execution_count": 91,
     "metadata": {},
     "output_type": "execute_result"
    }
   ],
   "source": [
    "result"
   ]
  },
  {
   "cell_type": "code",
   "execution_count": null,
   "id": "21afc14f",
   "metadata": {},
   "outputs": [],
   "source": []
  }
 ],
 "metadata": {
  "kernelspec": {
   "display_name": "Python 3 (ipykernel)",
   "language": "python",
   "name": "python3"
  },
  "language_info": {
   "codemirror_mode": {
    "name": "ipython",
    "version": 3
   },
   "file_extension": ".py",
   "mimetype": "text/x-python",
   "name": "python",
   "nbconvert_exporter": "python",
   "pygments_lexer": "ipython3",
   "version": "3.9.7"
  }
 },
 "nbformat": 4,
 "nbformat_minor": 5
}
