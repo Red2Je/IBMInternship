{
 "cells": [
  {
   "cell_type": "markdown",
   "id": "91380750",
   "metadata": {
    "slideshow": {
     "slide_type": "slide"
    }
   },
   "source": [
    "# Machine learning and VQC"
   ]
  },
  {
   "cell_type": "markdown",
   "id": "174e2b93",
   "metadata": {
    "slideshow": {
     "slide_type": "slide"
    }
   },
   "source": [
    "# Machine learning\n",
    "The goal of machine learning is to learn from existing data how to make predictions on future data. There are multiple classes of algorithms in machine learning :  \n",
    "<center><img src='ressource/mltype.png'/></center>"
   ]
  },
  {
   "cell_type": "markdown",
   "id": "576770e6",
   "metadata": {
    "slideshow": {
     "slide_type": "subslide"
    }
   },
   "source": [
    "* **Classifiers** : there goals are to make a difference between multiple objects, called **Classes**. For example, using a classifier, one can determine if a tumor is benign or malignant by looking at the age of the personn and the size of the tumor :\n",
    "<center><img src='ressource/classifier_example.png'/></center>"
   ]
  },
  {
   "cell_type": "markdown",
   "id": "1b425882",
   "metadata": {
    "slideshow": {
     "slide_type": "subslide"
    }
   },
   "source": [
    "* **Clustering** : this time, the goal is to regroup the data in clusters, that can be labeled later. The clustering algorithms are an example of unsupervised machine learning : you dont need to know the real-world class of a data to make a cluster out of them :\n",
    "<center><img src='ressource/clustering_example.png'/></center>"
   ]
  },
  {
   "cell_type": "markdown",
   "id": "daa3f09b",
   "metadata": {
    "slideshow": {
     "slide_type": "subslide"
    }
   },
   "source": [
    "* **Regression** : regression algorithms are used to approximate a generalisation of data. For example, a chemist can make measurement of the evolution of the pH of a multiple solutions over time, and can determine the general behavior by using a regression aglorithm : \n",
    "<center><img src='ressource/regression_example.png'/></center>"
   ]
  },
  {
   "cell_type": "markdown",
   "id": "126658f8",
   "metadata": {
    "slideshow": {
     "slide_type": "slide"
    }
   },
   "source": [
    "# Classifier\n",
    "During this presentation, we will focus on classifiers."
   ]
  },
  {
   "cell_type": "markdown",
   "id": "adb7e007",
   "metadata": {
    "slideshow": {
     "slide_type": "slide"
    }
   },
   "source": [
    "## What is a classifier ?\n",
    "The task to classify data is equivalent to find an hyperplane of the feature dimension space ($n$) that create a good separation of the data. The quality of the separation is evaluated by a cost function.  \n",
    "Before one can predict a class using new data, one has to train the model. Training the model means that we start at a certain point of the cost function and try to minimize it to reach a (hopefully) global minima. Once the global minima is reached, it is ensured that the model is able to recognize the training data and classify them correctly **most of the time** (we will see on the part of *overfitting* why we dont want the classifier to classify the data correctly everytime).  \n",
    "\n",
    "<center><img src='ressource/hyperplan.png' width='300'/></center>"
   ]
  },
  {
   "cell_type": "markdown",
   "id": "47b16156",
   "metadata": {
    "slideshow": {
     "slide_type": "slide"
    }
   },
   "source": [
    "## How does it work ?\n",
    "There are many classification algorithms such as SVM (Support Vector Machine) or Naive Bayes. The idea behind those is simple : send the input to the algorithm, and get an output that determine on which side of the hyperplane your input point belongs to.  \n",
    "Each algorithms have specific set of parameters that can be tuned during the **training phase**. These parameters allows the **model** (the algorithm tuned with the parameters) to make decision and the goal of the training phase is to tune these parameters for the model to classify correctly most of the **training dataset**. Thus, before a model can be used to **predict** a class from input data, it must be trained with the training dataset.\n"
   ]
  },
  {
   "cell_type": "markdown",
   "id": "e48a0636",
   "metadata": {
    "slideshow": {
     "slide_type": "slide"
    }
   },
   "source": [
    "## Preparing your data\n",
    "An important step in machine learning is to have data significant enough for a model to be able to make predictions. Unfortunately, not every data can be separated easly by an hyperplane. Take for example those datasets, with two features and three features :\n",
    "\n",
    "|||\n",
    "|---|---|\n",
    "|<img src='ressource/circular2D.png' width='500'/>|<img src='ressource/circular3D.jpg'/>|  "
   ]
  },
  {
   "cell_type": "markdown",
   "id": "6d0b1300",
   "metadata": {
    "slideshow": {
     "slide_type": "slide"
    }
   },
   "source": [
    "Both these datasets are not separable by an hyperplane as is.  \n",
    "The solution is to add a dimension to your dataset so that it is separable by an hyperplane. For example, in the first 2-D dataset, you can add a third feature : $(x_1,x_2) \\rightarrow (x_1,x_2,x_1^2+x_2^2)$, so that the representation is : \n",
    "<center><img src='ressource/circularfm.png'/></center>\n",
    "and thus the hyperplane is : \n",
    "<center><img src='ressource/circularfm_kernel.png'/></center>"
   ]
  },
  {
   "cell_type": "markdown",
   "id": "19ecc322",
   "metadata": {
    "slideshow": {
     "slide_type": "slide"
    }
   },
   "source": [
    "## Selecting your features\n",
    "Sometime (and often when it comes to QML), you want to reduce the amount of feature you dataset has. In the case of classical machine learning, it is often to eliminate the features that are duplicated (for example, if you have an *age*, a *weight* and a *body mass index* feature, you can remove both *age* and *weight* as their influence will be included in the *BMI* feature).  \n",
    "Another use of feature selection is to remove the feature that have the less variance and so wont be significant enough to generalize informations.  \n",
    "I will be using two algorithms during this presentation : \n",
    "* **PCA (Principal Component Analysis)** : This algorithm allows us to project our data in another vector space to maximize the variance. You can also select the first $k$ data with the most variance to reduce you feature space.\n",
    "* **SelectKBest (from sklearn)** : Given a cost function, this algorithm select the $k$ features that have the best score relative to the cost function. The function I will use will be $\\chi^2 = \\sum_i \\frac{(O_i-E_i)^2}{E_i}$ with $O_i$ the value of the feature and $E_i$ the expected value."
   ]
  },
  {
   "cell_type": "markdown",
   "id": "b46c185e",
   "metadata": {
    "slideshow": {
     "slide_type": "slide"
    }
   },
   "source": [
    "## Is my training good enough ?\n",
    "To evaluate a trained model, one will compute two metrics : the **training score** and the **test score**. The training score correspond to the percentage of data from the training set that the model classified correctly. The test score is the same percentage, but from a whole news set of data, which the class we know in advance.  \n",
    "Usually, the training score wont be 100% and neither would the test score (even though it can be really close in certain cases. The reason behind that are two phenomenon that we want to avoid : **underfitting** and **overfitting**.\n",
    "\n",
    "<center><img src='ressource/overfit.png'/></center>\n",
    "\n",
    "<center><strong>Under and overfitting in the case of regression</strong> </center>"
   ]
  },
  {
   "cell_type": "markdown",
   "id": "2de6a9b7",
   "metadata": {
    "slideshow": {
     "slide_type": "slide"
    }
   },
   "source": [
    "## Detect over and underfitting\n",
    "|||\n",
    "| --- | --- |\n",
    "|<img src='ressource/overfitting_against_capacity.png' width = '500'/>|<img src='ressource/overfitting_explained.png' width = '500'/> <center><strong><font size = 7>Error = 1-Score</font></strong></center>|"
   ]
  },
  {
   "cell_type": "markdown",
   "id": "d598d06d",
   "metadata": {
    "slideshow": {
     "slide_type": "slide"
    }
   },
   "source": [
    "# VQC"
   ]
  },
  {
   "cell_type": "markdown",
   "id": "ac6964f0",
   "metadata": {
    "slideshow": {
     "slide_type": "subslide"
    }
   },
   "source": [
    "## Variational circuits\n",
    "<img src='ressource/va.svg'/>"
   ]
  },
  {
   "cell_type": "markdown",
   "id": "093160f0",
   "metadata": {
    "slideshow": {
     "slide_type": "subslide"
    }
   },
   "source": [
    "## VQC concept\n",
    "<img src='ressource/vqc.svg'/>  \n",
    "\n",
    "with $\\Phi$ the feature map, $W$ the ansatz, $\\vec{\\theta}$ the parameter to be optimized and $\\vec{\\mathcal{X}}_i$ the i-th input feature vector."
   ]
  },
  {
   "cell_type": "markdown",
   "id": "4376ecfb",
   "metadata": {
    "slideshow": {
     "slide_type": "subslide"
    }
   },
   "source": [
    "## Overview of the algorithm\n",
    "_______\n",
    "VQC algorithm overview (training phase)\n",
    "_______\n",
    "**Input** : X : a list of feature vector, Y : a list of label that corresponds to the feature vector in X, a circuit representing the feature map, a circuit representing the ansatz, an optimizer, a cost function, a maximum amount of iterations\n",
    "```\n",
    "Set the initial value of the parameters to be optimized (θ)\n",
    "While the optimizer has not converged (or reached its maximum iterations) do\n",
    "    For every feature vector : \n",
    "        For the amount of shots (usually 1024) :\n",
    "            Input the feature vector in the feature map\n",
    "            Run the circuit with the feature map and the ansatz with the parameter θ\n",
    "            Measure the outcome label\n",
    "        End for\n",
    "        Compute the probability distribution\n",
    "        Update the cost function\n",
    "    End for\n",
    "    Optimize the parameters θ with the optimizer and the cost function\n",
    "End while\n",
    "Return the final set of parameters θ\n",
    "```\n",
    "_______"
   ]
  },
  {
   "cell_type": "markdown",
   "id": "ff643ca8",
   "metadata": {
    "slideshow": {
     "slide_type": "slide"
    }
   },
   "source": [
    "## Which cost function and optimizer to choose ?\n"
   ]
  },
  {
   "cell_type": "markdown",
   "id": "563db7fd",
   "metadata": {
    "slideshow": {
     "slide_type": "subslide"
    }
   },
   "source": [
    "## Cost function\n",
    "The cost function is the function that takes a feature vector and a set of parameter $\\theta$ as arguments and evaluate the \"loss\", the difference between the predicted value and the real value. The goal of machine learning is thus to minimize this function.  \n",
    "There are multiple cost/loss function, but the two mainly used are : \n",
    "* **Mean Squared Error (MSE)** : $$MSE = \\frac{1}{n}\\sum_{i = 1}^{n}(y_i-\\tilde{y}_i)^2$$ where $n$ is the amount of feature vector in the dataset, $y_i$ is the predicted value for the i-th feature vector, and $\\tilde{y}_i$ is the expected value for the feature vector (the truth)."
   ]
  },
  {
   "cell_type": "markdown",
   "id": "84fc7832",
   "metadata": {
    "slideshow": {
     "slide_type": "subslide"
    }
   },
   "source": [
    "* **Cross Entropy** : $$CE = -\\frac{1}{n}\\sum_{i = 1}^n[\\tilde{y}_iln(y_i)+(1-\\tilde{y}_i)ln(1-y_i)]$$ with the same notations as above. This cost function aims to avoid learning slow down.  \n",
    "<img src = 'ressource/plateau.png' width = 300/>"
   ]
  },
  {
   "cell_type": "markdown",
   "id": "dada3fda",
   "metadata": {
    "slideshow": {
     "slide_type": "subslide"
    }
   },
   "source": [
    "## Optimizer\n",
    "Now that we have a cost function to optimize, we need a way to find a **global minima**. To do that, there are multiple optimizer we can use. This presentation will focus mostly on one, and the other will just be presented : \n",
    "* **Gradient Descent** : The idea behind gradient descent is to compute the gradient of the cost function agains the parameter you want to optimize and then \"go down hill\" to find a minima. The formula is $$\\theta_{i} := \\theta_i - \\mu \\frac{\\partial}{\\partial\\theta_i}C(\\theta_i,x)$$, where $\\frac{\\partial}{\\partial\\theta_i}$ is the partial derivative over the selected parameter, $C(\\theta_i,x)$ is the cost function and $\\mu$ is the learning rate. The choice of the learning rate is crucial for the convergence of the optimizer : <img src='ressource/learningrate.png' width = '500'/>  "
   ]
  },
  {
   "cell_type": "markdown",
   "id": "624d609f",
   "metadata": {
    "slideshow": {
     "slide_type": "subslide"
    }
   },
   "source": [
    "* **SPSA (Simultaneous Perturbation Stochastic Approximation)** : This method looks like gradient descent, but you only use two computation of the cost function instead of the $2p$, $p$ the amount of parameters, the gradient descent requires. The update formula for SPSA is : $$\\theta_i = \\theta_i - a_i\\hat{g}_i(\\theta_i)$$ which looks really similar to the gradient descent. The way we define $\\hat{g}$ is : $$\\hat{g}_{ik}(\\theta_i) = \\frac{y(\\theta_i+c_i\\Delta_i)-y(\\theta_i-c_i\\Delta_i)}{2c_i\\Delta_{ik}}$$ with $k \\in [1,p]$ and $\\Delta_i = (\\Delta_{i1},\\dots,\\Delta_{ip})$ a vector of random variations (the best way to generate these variations is to use a Bernoulli distribution with the values {-1,+1}).  \n",
    "We can observe that this algorithm is based on a noisy process, and thus works pretty well in noisy environnement (such as NISQ backend).  \n",
    "<img src='ressource/spsa.png' width = '300'/>"
   ]
  },
  {
   "cell_type": "markdown",
   "id": "d1ca8e01",
   "metadata": {
    "slideshow": {
     "slide_type": "slide"
    }
   },
   "source": [
    "# Lab"
   ]
  },
  {
   "cell_type": "markdown",
   "id": "9b6dfd06",
   "metadata": {
    "slideshow": {
     "slide_type": "slide"
    }
   },
   "source": [
    "## Toy example \n",
    "Here we will see the classification of a toy example generated by the ```ad_hoc_data``` function from ```qiskit_machine_learning```. This dataset has **20** training feature vectors and **20** testing feature vectors, with **2** features each (which rarely corresponds to a real world dataset)."
   ]
  },
  {
   "cell_type": "code",
   "execution_count": 1,
   "id": "9cc03dc4",
   "metadata": {
    "slideshow": {
     "slide_type": "skip"
    }
   },
   "outputs": [],
   "source": [
    "from qiskit.utils import algorithm_globals\n",
    "from qiskit import Aer\n",
    "import numpy as np\n",
    "from qiskit_machine_learning.datasets import ad_hoc_data\n",
    "from qiskit.circuit.library import *\n",
    "from qiskit.algorithms.optimizers import *\n",
    "from sklearn.preprocessing import OneHotEncoder\n",
    "import matplotlib.pyplot as plt\n",
    "from matplotlib.lines import Line2D\n",
    "from utils import *\n",
    "from sklearn.decomposition import PCA\n",
    "from sklearn.svm import SVC\n",
    "import pylab\n",
    "from qiskit_machine_learning.algorithms.classifiers import VQC\n",
    "import time\n",
    "from IPython.display import clear_output\n",
    "encoder = OneHotEncoder()#Encoder object to transform the label vector into a one hot vector\n",
    "\n",
    "def store_intermediate_result(evaluation, parameter, cost, \n",
    "                              stepsize, accept):\n",
    "    #Function to plot the convergence of the optimizer\n",
    "    evaluations.append(evaluation)\n",
    "    parameters.append(parameter)\n",
    "    costs.append(cost)\n",
    "    clear_output(wait = True)\n",
    "    plt.title(\"Objective function in SPSA\")\n",
    "    plt.xlabel(\"Iteration\")\n",
    "    plt.ylabel(\"Objective value\")\n",
    "    plt.plot(evaluations,costs)\n",
    "    plt.show()\n",
    "    \n"
   ]
  },
  {
   "cell_type": "code",
   "execution_count": 25,
   "id": "a11535dc",
   "metadata": {
    "slideshow": {
     "slide_type": "subslide"
    }
   },
   "outputs": [],
   "source": [
    "#Ad hoc data : Qiksit generates data. The training set has 20 feature vector with 2 feature each and the testing set has \n",
    "#10 feature vector (also with 2 features each).\n",
    "train_data, train_labels, test_data, test_labels= (\n",
    "    ad_hoc_data(training_size=20, test_size=20, n=2, gap=0.3, one_hot=False))\n",
    "\n",
    "#In the vqc pipeline, we use a ZZFeatureMap to encode the data and a Twolocal circuit to allow variation.\n",
    "#Note that any circuit with parameter can be used for both the encoding and the variational part\n",
    "adhoc_feature_map = ZZFeatureMap(feature_dimension=2, reps=2)\n",
    "adhoc_var_form = TwoLocal(2, ['ry', 'rz'], 'cz', reps=2)\n",
    "\n",
    "#Transformation of the label vector into a one hot vector\n",
    "train_labels_oh = encoder.fit_transform(train_labels.reshape(-1, 1)).toarray()\n",
    "test_labels_oh = encoder.fit_transform(test_labels.reshape(-1, 1)).toarray()"
   ]
  },
  {
   "cell_type": "code",
   "execution_count": 26,
   "id": "73f75933",
   "metadata": {
    "scrolled": true,
    "slideshow": {
     "slide_type": "subslide"
    }
   },
   "outputs": [
    {
     "data": {
      "image/png": "[encoded data removed]",
      "text/plain": [
       "<Figure size 432x288 with 1 Axes>"
      ]
     },
     "metadata": {
      "needs_background": "light"
     },
     "output_type": "display_data"
    },
    {
     "data": {
      "text/plain": [
       "<qiskit_machine_learning.algorithms.classifiers.vqc.VQC at 0x2ce5b9528b0>"
      ]
     },
     "execution_count": 26,
     "metadata": {},
     "output_type": "execute_result"
    }
   ],
   "source": [
    "#The cost function used (here called loss) is the cross entropy (more stable and better to find a global minima)\n",
    "#The optimizer used is SPSA for its resistance to noise and its ability to find a global minima\n",
    "parameters = []\n",
    "costs = []\n",
    "evaluations = []\n",
    "vqc = VQC(feature_map=adhoc_feature_map,\n",
    "          ansatz=adhoc_var_form,\n",
    "          loss='cross_entropy',\n",
    "          optimizer=SPSA(callback=store_intermediate_result),\n",
    "          quantum_instance=Aer.get_backend('qasm_simulator'))\n",
    "\n",
    "vqc.fit(train_data, train_labels_oh)\n"
   ]
  },
  {
   "cell_type": "code",
   "execution_count": 27,
   "id": "f40420cf",
   "metadata": {
    "slideshow": {
     "slide_type": "subslide"
    }
   },
   "outputs": [
    {
     "data": {
      "text/plain": [
       "0.8"
      ]
     },
     "execution_count": 27,
     "metadata": {},
     "output_type": "execute_result"
    }
   ],
   "source": [
    "#Scoring of the training : How much of the test data has been recognized correctly\n",
    "vqc.score(test_data, test_labels_oh)"
   ]
  },
  {
   "cell_type": "code",
   "execution_count": 28,
   "id": "60d331e2",
   "metadata": {
    "slideshow": {
     "slide_type": "skip"
    }
   },
   "outputs": [
    {
     "data": {
      "image/png": "[encoded data removed]",
      "text/plain": [
       "<Figure size 648x432 with 1 Axes>"
      ]
     },
     "metadata": {
      "needs_background": "light"
     },
     "output_type": "display_data"
    }
   ],
   "source": [
    "#This cell is only used for the representation of the training and testing datasets and to see the classification \n",
    "plt.figure(figsize=(9, 6))\n",
    "\n",
    "for feature, label in zip(train_data, train_labels_oh):\n",
    "    color = 'C1' if label[0] == 0 else 'C0'\n",
    "    plt.scatter(feature[0], feature[1], marker='o', s=100,\n",
    "                color=color)\n",
    "    \n",
    "for feature, label, pred in zip(test_data, test_labels_oh,\n",
    "                                vqc.predict(test_data)): \n",
    "    color = 'C1' if pred[0] == 0 else 'C0'\n",
    "    plt.scatter(feature[0], feature[1], marker='s', s=100, color=color)\n",
    "    if not np.array_equal(label,pred):  # mark wrongly classified\n",
    "        plt.scatter(feature[0], feature[1], marker='o', s=500,\n",
    "                    linewidths=2.5, facecolor='none', edgecolor='C3')\n",
    "\n",
    "legend_elements = [\n",
    "    Line2D([0], [0], marker='o', c='w', mfc='C1', label='A', ms=10),\n",
    "    Line2D([0], [0], marker='o', c='w', mfc='C0', label='B', ms=10),\n",
    "    Line2D([0], [0], marker='s', c='w', mfc='C1', label='predict A',\n",
    "           ms=10),\n",
    "    Line2D([0], [0], marker='s', c='w', mfc='C0', label='predict B',\n",
    "           ms=10),\n",
    "    Line2D([0], [0], marker='o', c='w', mfc='none', mec='C3',\n",
    "           label='wrongly classified', mew=2, ms=15)\n",
    "]\n",
    "\n",
    "plt.legend(handles=legend_elements, bbox_to_anchor=(1, 1),\n",
    "           loc='upper left')\n",
    "    \n",
    "plt.title('Training & Test Data')\n",
    "plt.xlabel('x')\n",
    "plt.ylabel('y')\n",
    "plt.show()"
   ]
  },
  {
   "cell_type": "markdown",
   "id": "22611e0d",
   "metadata": {
    "slideshow": {
     "slide_type": "subslide"
    }
   },
   "source": [
    "<img src='ressource/adhoc_score.png'/>"
   ]
  },
  {
   "cell_type": "markdown",
   "id": "15082f14",
   "metadata": {
    "slideshow": {
     "slide_type": "slide"
    }
   },
   "source": [
    "# First try on a real world example\n",
    "As said in the presentation about feature encoding, I will try to stick with the MNIST dataset for my labs. But things wont go as planned : "
   ]
  },
  {
   "cell_type": "markdown",
   "id": "3a060e4e",
   "metadata": {
    "slideshow": {
     "slide_type": "subslide"
    }
   },
   "source": [
    "## Feature map selection\n",
    "As my training will be running on my computer (intel I7 10th generation, 32Go of RAM), the number of qubit should not be large. The best compromise between encoding the maximum of feature with the least amount of qubit is the ```EfficientSU2``` feature map. With **5** qubits and **4** repetition of the pattern, we can encode **50** features.  \n",
    "The first try on encoding an image was then to reduce the image's size from **28\\*28 = 784** features to **50** by making a pixel the mean value of 4 pixels : "
   ]
  },
  {
   "cell_type": "code",
   "execution_count": 2,
   "id": "34eb24c4",
   "metadata": {
    "slideshow": {
     "slide_type": "subslide"
    }
   },
   "outputs": [
    {
     "data": {
      "image/png": "[encoded data removed]",
      "text/plain": [
       "<Figure size 432x288 with 4 Axes>"
      ]
     },
     "metadata": {
      "needs_background": "light"
     },
     "output_type": "display_data"
    }
   ],
   "source": [
    "tr,_ = import_images(49)\n",
    "trf,_ = import_full_image()\n",
    "fig,ax = plt.subplots(1,4)\n",
    "ax[0].imshow(np.array(tr[0][:49]).reshape(7,7))\n",
    "ax[1].imshow(np.array(trf[0]).reshape(28,28))\n",
    "ax[2].imshow(np.array(tr[11][:49]).reshape(7,7))\n",
    "ax[3].imshow(np.array(trf[11]).reshape(28,28))\n",
    "ax[0].title.set_text(\"Compressed\")\n",
    "ax[1].title.set_text(\"Truth\")\n",
    "ax[2].title.set_text(\"Compressed\")\n",
    "ax[3].title.set_text(\"Truth\")\n",
    "plt.show()"
   ]
  },
  {
   "cell_type": "markdown",
   "id": "6f439491",
   "metadata": {
    "slideshow": {
     "slide_type": "subslide"
    }
   },
   "source": [
    "## Result : \n",
    "The score never went higher than **0.105**. Remembering that we have ten classes to recognize, we then have a $\\frac{1}{10}$ of choosing the right class randomly, meaning that our classifier is a tiny bit better than random.  \n",
    "The hyperparameter which has been changed are : \n",
    "* **The optimizer** : Between SPSA and COBYLA\n",
    "* **The amount of images in the training set** : from 10 to 200 per numbers\n",
    "* **The feature map and the ansatz**"
   ]
  },
  {
   "cell_type": "markdown",
   "id": "17b61983",
   "metadata": {
    "slideshow": {
     "slide_type": "slide"
    }
   },
   "source": [
    "# Second try : using PCA\n",
    "The only hyper parameter left was the type of dimension reducing algorithm used. From a simple mean over 4 pixel, the next one to try is **PCA**"
   ]
  },
  {
   "cell_type": "code",
   "execution_count": 3,
   "id": "a8d31d63",
   "metadata": {
    "slideshow": {
     "slide_type": "subslide"
    }
   },
   "outputs": [
    {
     "data": {
      "image/png": "[encoded data removed]",
      "text/plain": [
       "<Figure size 432x288 with 2 Axes>"
      ]
     },
     "metadata": {
      "needs_background": "light"
     },
     "output_type": "display_data"
    }
   ],
   "source": [
    "#Each image is fitted using PCA to extract the 50 principal components\n",
    "train_data_image,train_label_image = import_full_image(howmuch = 15)\n",
    "pca = PCA(n_components=50)\n",
    "train_data_image_pca = pca.fit_transform(train_data_image)\n",
    "fig,ax = plt.subplots(1,2)\n",
    "ax[0].imshow(np.array(train_data_image_pca[0][:49]).reshape(7,7))\n",
    "ax[1].imshow(np.array(train_data_image[0]).reshape(28,28))\n",
    "ax[0].title.set_text(\"Compressed with PCA\")\n",
    "ax[1].title.set_text(\"Truth\")\n",
    "plt.show()"
   ]
  },
  {
   "cell_type": "markdown",
   "id": "ea193353",
   "metadata": {
    "slideshow": {
     "slide_type": "subslide"
    }
   },
   "source": [
    "Problem is : the score did not went up.  \n",
    "As my testing in the precedent try wasnt automated, I tried to run huge batches of VQC and making the feature map and the ansatz vary once at a time. The feature map and the ansatz used can be found here below.  \n",
    "Some feature map such as ```ZZFeatureMap``` are not in the feature map list because the amount of qubits it uses is the same as the amount of parameter and the simulator cannot handle **49/50** qubits."
   ]
  },
  {
   "cell_type": "code",
   "execution_count": 4,
   "id": "adb7245a",
   "metadata": {
    "slideshow": {
     "slide_type": "subslide"
    }
   },
   "outputs": [],
   "source": [
    "feature_map_list = [TwoLocal(num_qubits = 5, reps = 4, rotation_blocks=['ry','rz'], entanglement_blocks='cz',parameter_prefix='in'),\n",
    "                    RealAmplitudes(5, reps = 9,parameter_prefix='in'),\n",
    "                    EfficientSU2(num_qubits = 5, reps = 4,parameter_prefix='in'),\n",
    "                   ]\n",
    "\n",
    "var_form_list = [TwoLocal(num_qubits = 5, reps = 2, rotation_blocks=['ry','rz'], entanglement_blocks='cz'),\n",
    "                 PauliTwoDesign(num_qubits=5,reps = 2),\n",
    "                 RealAmplitudes(5, reps = 2),\n",
    "                 EfficientSU2(num_qubits = 5, reps = 2),\n",
    "                 PauliFeatureMap(5),\n",
    "                 ZFeatureMap(5),\n",
    "                 ZZFeatureMap(5)\n",
    "                ]"
   ]
  },
  {
   "cell_type": "markdown",
   "id": "788bf70c",
   "metadata": {
    "slideshow": {
     "slide_type": "subslide"
    }
   },
   "source": [
    "The total runtime for all the feature map and ansatz was **5 hours and 10 minutes** and score result are :  \n",
    "<img src='ressource/score_var_ansatz.png' width = '300'/>  \n",
    "We can see that the best score is **0.15** (exctracted from the result list), which is still a bit better than random, but not enough to have a good model."
   ]
  },
  {
   "cell_type": "markdown",
   "id": "7c61350f",
   "metadata": {
    "slideshow": {
     "slide_type": "subslide"
    }
   },
   "source": [
    "It is maybe the amount of images given to the algorithm that is not enough and we would be in a case of **underfitting** ?  \n",
    "The next try was to make the amount of image vary from **5** images per number to **200**, with **5** images added at each iterations. The feature map and the ansatz used to compute this benchmark will be the ones with the best result from the last benchmark : \n",
    "* **Feature map** : EfficientSU2\n",
    "* **Ansatz** : ZZFeatureMap  \n",
    "Due to the time taken (**2.9 days ! launched on a friday, stopped on monday morning**) the benchmark only had time to process up to **175** images per number (**1750** images in the last iteration), with the last iteration taking **3 hours and 51 minutes**.  \n",
    "\n",
    "The results are : \n"
   ]
  },
  {
   "cell_type": "code",
   "execution_count": 5,
   "id": "0bc42108",
   "metadata": {
    "slideshow": {
     "slide_type": "subslide"
    }
   },
   "outputs": [
    {
     "data": {
      "image/png": "[encoded data removed]",
      "text/plain": [
       "<Figure size 432x288 with 1 Axes>"
      ]
     },
     "metadata": {
      "needs_background": "light"
     },
     "output_type": "display_data"
    }
   ],
   "source": [
    "score_amount = np.load(\"score_amount.npy\")\n",
    "plt.plot([i for i in range(50,1800,50)],score_amount)\n",
    "plt.xlabel(\"Total amount of images per iteration, divide by 10 to get the amount of images per number\")\n",
    "plt.ylabel(\"Score\")\n",
    "plt.show()\n"
   ]
  },
  {
   "cell_type": "markdown",
   "id": "28fd0d91",
   "metadata": {
    "slideshow": {
     "slide_type": "subslide"
    }
   },
   "source": [
    "# Conclusion on these results : \n",
    "As the testing error is not decreasing, we can conclude that the problem does not come from the the training on itself, but the approximation we made of the data. We reduced the amount of feature from **784** to **50**, which is a **94%** decrease in data meaningness. This decrease may be too much, but the current systems are not able to simulate more qubit efficiently, and as we will see later, the amount of qubits is not the problem on itself.  \n",
    "**Conclusion : this dataset is not adapted to classification using VQC due to its high amount of feature**."
   ]
  },
  {
   "cell_type": "markdown",
   "id": "d41da5eb",
   "metadata": {
    "slideshow": {
     "slide_type": "slide"
    }
   },
   "source": [
    "# A working example : a whole new dataset\n",
    "Lets try with another dataset that has less feature, so we will be able to encode them all without using too much qubits. The dataset is about the sign of a COVID infection, and the goal is to predict if an infection will lead to a severe case of COVID or not."
   ]
  },
  {
   "cell_type": "code",
   "execution_count": 6,
   "id": "4b5e971a",
   "metadata": {
    "slideshow": {
     "slide_type": "subslide"
    }
   },
   "outputs": [
    {
     "data": {
      "text/plain": [
       "dict_keys(['Fever', 'Tiredness', 'Dry-Cough', 'Difficulty-in-Breathing', 'Sore-Throat', 'None_Sympton', 'Pains', 'Nasal-Congestion', 'Runny-Nose', 'Diarrhea', 'None_Experiencing', 'Age_0-9', 'Age_10-19', 'Age_20-24', 'Age_25-59', 'Age_60+', 'Gender_Female', 'Gender_Male', 'Gender_Transgender', 'Contact_Dont-Know', 'Contact_No', 'Contact_Yes'])"
      ]
     },
     "execution_count": 6,
     "metadata": {},
     "output_type": "execute_result"
    }
   ],
   "source": [
    "#Importing the covid data in form of a dictionnary. The severity other than severe are removed\n",
    "# And the country factor is removed as well to avoid having to encode it and avoid makinf our model\n",
    "# too complicated\n",
    "import pandas as pd\n",
    "cov_dict = pd.read_csv('covid.csv').to_dict()\n",
    "cov_dict.pop('Severity_Mild',None)\n",
    "cov_dict.pop('Severity_Moderate',None)\n",
    "cov_dict.pop('Severity_None',None)\n",
    "cov_dict.pop('Country',None);\n",
    "y = cov_dict.pop('Severity_Severe',None)\n",
    "y_list = np.array(list(y.values()))\n",
    "y_oh = encoder.fit_transform(y_list.reshape(-1, 1)).toarray()\n",
    "x = cov_dict\n",
    "x.keys()"
   ]
  },
  {
   "cell_type": "code",
   "execution_count": 7,
   "id": "8ca60136",
   "metadata": {
    "slideshow": {
     "slide_type": "subslide"
    }
   },
   "outputs": [],
   "source": [
    "# We shuffle our data before training and extract the 20 best components (out of 22)\n",
    "#Shuffling\n",
    "import random\n",
    "x_list = np.array([np.array([x.get(k)[i] for k in list(x.keys())]) for i in range(len(x.get('Fever')))])\n",
    "enum = list(enumerate(x_list))\n",
    "random.shuffle(enum)\n",
    "index, _ = zip(*enum)\n",
    "x_shuffle = x_list[index,:]\n",
    "y_oh_shuffle = y_oh[index,:]\n",
    "y_shuffle = y_list[list(index)]\n",
    "#Extracting\n",
    "from sklearn.feature_selection import SelectKBest, chi2\n",
    "select = SelectKBest(score_func=chi2, k=20)\n",
    "x_shuffle = select.fit_transform(x_shuffle,y_oh_shuffle)"
   ]
  },
  {
   "cell_type": "code",
   "execution_count": 8,
   "id": "12800521",
   "metadata": {
    "slideshow": {
     "slide_type": "-"
    }
   },
   "outputs": [],
   "source": [
    "#Lets start by training using a portion of the dataset\n",
    "train_data = x_shuffle[0:100]#100 training data\n",
    "train_label = y_oh_shuffle[0:100]\n",
    "test_data = x_shuffle[100:200]#100 testing data\n",
    "test_label = y_oh_shuffle[100:200]"
   ]
  },
  {
   "cell_type": "code",
   "execution_count": 9,
   "id": "e0ee7998",
   "metadata": {
    "slideshow": {
     "slide_type": "subslide"
    }
   },
   "outputs": [
    {
     "data": {
      "image/png": "[encoded data removed]",
      "text/plain": [
       "<Figure size 432x288 with 1 Axes>"
      ]
     },
     "metadata": {
      "needs_background": "light"
     },
     "output_type": "display_data"
    },
    {
     "data": {
      "text/plain": [
       "<qiskit_machine_learning.algorithms.classifiers.vqc.VQC at 0x1d85bd1c400>"
      ]
     },
     "execution_count": 9,
     "metadata": {},
     "output_type": "execute_result"
    }
   ],
   "source": [
    "feature_map = EfficientSU2(num_qubits=2, reps = 4, parameter_prefix='in')\n",
    "var_form = TwoLocal(num_qubits=feature_map.num_qubits, rotation_blocks=['ry','rz'], entanglement_blocks='cz')\n",
    "evaluations =[]\n",
    "parameters = []\n",
    "costs = []\n",
    "\n",
    "optimizer = SPSA(maxiter=100,callback=store_intermediate_result)\n",
    "\n",
    "vqc = VQC(feature_map= feature_map,\n",
    "             ansatz=var_form,\n",
    "             loss='cross_entropy',\n",
    "             optimizer=optimizer,\n",
    "             quantum_instance=Aer.get_backend('qasm_simulator')\n",
    "        )\n",
    "vqc.fit(train_data,train_label)"
   ]
  },
  {
   "cell_type": "code",
   "execution_count": 10,
   "id": "3c33461f",
   "metadata": {
    "slideshow": {
     "slide_type": "subslide"
    }
   },
   "outputs": [
    {
     "name": "stdout",
     "output_type": "stream",
     "text": [
      "Training score :  0.76\n",
      "Testing score :  0.61\n"
     ]
    }
   ],
   "source": [
    "print(\"Training score : \",vqc.score(train_data,train_label))\n",
    "print(\"Testing score : \",vqc.score(test_data,test_label))"
   ]
  },
  {
   "cell_type": "markdown",
   "id": "e794120a",
   "metadata": {
    "slideshow": {
     "slide_type": "subslide"
    }
   },
   "source": [
    "## And with a noisy execution ?\n"
   ]
  },
  {
   "cell_type": "code",
   "execution_count": 11,
   "id": "20d51300",
   "metadata": {
    "slideshow": {
     "slide_type": "skip"
    }
   },
   "outputs": [],
   "source": [
    "from qiskit import IBMQ\n",
    "IBMQ.load_account()\n",
    "provider = IBMQ.get_provider(hub='ibm-q-internal', group='support', project='core-team')"
   ]
  },
  {
   "cell_type": "code",
   "execution_count": 12,
   "id": "0970620a",
   "metadata": {
    "slideshow": {
     "slide_type": "subslide"
    }
   },
   "outputs": [
    {
     "data": {
      "image/png": "[encoded data removed]",
      "text/plain": [
       "<Figure size 432x288 with 1 Axes>"
      ]
     },
     "metadata": {
      "needs_background": "light"
     },
     "output_type": "display_data"
    },
    {
     "data": {
      "text/plain": [
       "<qiskit_machine_learning.algorithms.classifiers.vqc.VQC at 0x1d862019ca0>"
      ]
     },
     "execution_count": 12,
     "metadata": {},
     "output_type": "execute_result"
    }
   ],
   "source": [
    "from qiskit.providers.aer.noise import NoiseModel\n",
    "from qiskit.utils import QuantumInstance\n",
    "backend = provider.get_backend('ibm_lagos')\n",
    "noise_model = NoiseModel.from_backend(backend)\n",
    "inst = QuantumInstance(backend = Aer.get_backend('qasm_simulator'), noise_model=noise_model)\n",
    "evaluations =[]\n",
    "parameters = []\n",
    "costs = []\n",
    "optimizer = SPSA(maxiter=100,callback=store_intermediate_result)\n",
    "vqc_noisy = VQC(feature_map= feature_map,\n",
    "             ansatz=var_form,\n",
    "             loss='cross_entropy',\n",
    "             optimizer=optimizer,\n",
    "             quantum_instance=inst\n",
    "            )\n",
    "vqc_noisy.fit(train_data,train_label)"
   ]
  },
  {
   "cell_type": "code",
   "execution_count": 13,
   "id": "646bb9ef",
   "metadata": {
    "slideshow": {
     "slide_type": "subslide"
    }
   },
   "outputs": [
    {
     "name": "stdout",
     "output_type": "stream",
     "text": [
      "Training score :  0.76\n",
      "Testing score :  0.63\n"
     ]
    }
   ],
   "source": [
    "print(\"Training score : \",vqc_noisy.score(train_data,train_label))\n",
    "print(\"Testing score : \",vqc_noisy.score(test_data,test_label))"
   ]
  },
  {
   "cell_type": "markdown",
   "id": "cf84fe64",
   "metadata": {
    "slideshow": {
     "slide_type": "subslide"
    }
   },
   "source": [
    "This job also has been ran on a runtime program to determine if the constraint was the time of simulation or the time the optimizer was running. Turns out the longest part of the algorithm is to run the classical part (optimization).  \n",
    "Furthermore, we saw on all the example above that the optimizer never converged and always reached its max iteration limit.  \n",
    "Some tries had been made to raise this limit up (up to 1000, which translates in 3000 SPSA iterations) and to change the optimizer, but the maximum iteration limit has always been reached."
   ]
  },
  {
   "cell_type": "markdown",
   "id": "3d0e5706",
   "metadata": {
    "slideshow": {
     "slide_type": "slide"
    }
   },
   "source": [
    "# Conclusion\n",
    "VQC is a good algorithm to work with small dataset (in terms of features). However, once the dataset is large or is hard to separate, VQC is not performing well. Furthermore, tuning the hyper-parameters (which are plentiful in our case) is hard because of the amount of time a training takes.  \n",
    "Finally, VQC is a good introduction to QML, but, in my opinion, it wont fit a real world problem.  \n",
    "**Next step : QSVM and QNN**"
   ]
  }
 ],
 "metadata": {
  "celltoolbar": "Diaporama",
  "kernelspec": {
   "display_name": "Python 3 (ipykernel)",
   "language": "python",
   "name": "python3"
  },
  "language_info": {
   "codemirror_mode": {
    "name": "ipython",
    "version": 3
   },
   "file_extension": ".py",
   "mimetype": "text/x-python",
   "name": "python",
   "nbconvert_exporter": "python",
   "pygments_lexer": "ipython3",
   "version": "3.9.7"
  }
 },
 "nbformat": 4,
 "nbformat_minor": 5
}
