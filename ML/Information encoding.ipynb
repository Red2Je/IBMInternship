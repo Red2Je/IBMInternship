{
 "cells": [
  {
   "cell_type": "markdown",
   "id": "1e7dc4e9",
   "metadata": {},
   "source": [
    "# Information encoding\n",
    "## Basis encoding : \n",
    "Hence $x^m \\in \\mathcal{D}$, $\\mathcal{D}$ the dataset, with $x^m = (b^m_1, ..., b^m_N)$, $b^m_i \\in \\{0,1\\}$, $i \\in 1,...,N$, a feature vector.\n",
    "\n",
    "The state to be prepared is :\n",
    "$$|\\mathcal{D}\\rangle = \\frac{1}{\\sqrt{M}}\\sum^M_{m = 1}|x^m\\rangle$$\n",
    "\n",
    "For example, if $x^1 = (01, 01)^T$, $x^2 = (11,10)^T$, we must encode $x^1 = (0101)$ and $x^2 = (1110)$. We can observe the impact of binary precision on the amount of qubits used. Then the superposition to be created is : \n",
    "$$|\\mathcal{D}\\rangle = \\frac{1}{\\sqrt{2}}|0101\\rangle + \\frac{1}{\\sqrt{2}}|1110\\rangle$$\n",
    "The accepted feature vector should only have binary values to be able to use basis encoding.\n",
    "\n",
    "Once the model circuit is applied to the encoded features, one can measure it and interpret the state of the result. For example, if we measured the state $|0\\rangle$ after the model circuit, it means that the result of the prediction is 0.\n",
    "If measuring multiple times brings a superposition of results, it means that the result of the model with the given feature vector is uncertain."
   ]
  },
  {
   "cell_type": "markdown",
   "id": "a7d952b0",
   "metadata": {},
   "source": [
    "## Qubit sampling\n",
    "Hence we measure the output of our model to be 1 with probability $p$ ($f(x) = 1$ with probability $p$).\n",
    "We want to estimate the error of measurement given the sample size for our dataset.\n",
    "First we define the 'frequentist estimator' which all in all can be interpreted as the average of all the output of the circuit for a given sample size $S$ : \n",
    "$$\\hat{p} = \\bar{p} = \\frac{1}{S}\\sum_{i = 1}^{S}y_i$$\n",
    "with $y_i$ the output of the circuit.\n",
    "We want to estimate the confidence interval  $[\\hat{p}-\\epsilon, \\hat{p} + \\epsilon]$.\n",
    "The error $\\epsilon$ can be computed as : \n",
    "$$\\epsilon = z\\sqrt{\\frac{\\hat{p}(1-\\hat{p})}{S}}$$\n",
    "with z the z-value.\n",
    "One can deduce that the error is majorized by :\n",
    "$$\\epsilon \\leq \\frac{z}{2\\sqrt{S}}$$\n",
    "Thus the we can deduce that to have an error $\\epsilon$, the sample size should be in $\\mathcal{O}(\\epsilon^{-2})$.\n",
    "It must be understood that this maximum is reached when $\\hat{p} = 0.5$, which is a case of non decision.The following table estimate the sample size depending on the error we want and the probability $p$: \n",
    "\n",
    "<img src='error sample.png'>\n",
    "The results above are true only for the basis encoding."
   ]
  },
  {
   "cell_type": "markdown",
   "id": "daaff3fd",
   "metadata": {},
   "source": [
    "## Amplitude enconding\n",
    "The goal of this method is that instead of encoding the information on the state of the qubit, the information is encoded on the amplitude of the qubit. It allows (with the assumption that the backend running the job is noiseless) to encode floating point values way easly compared to basis encoding, where one faces the same challenges as on classical computers.\n",
    "\n",
    "To encode a dataset with amplitude encoding, one must beforehand check that for the vector $\\alpha = (x^1_1, ..., x^1_N, ..., x^M_1, ..., x^M_N)^T$, $|\\alpha|^2 = 1$, as the physical construction of a qubit requires that the sum of the amplitude of a superposition of qubits must be equal to 1.\n",
    "\n",
    "Once this condition is checked, the encoding of the dataset is the following : \n",
    "$$|\\psi_{\\mathcal{D}}\\rangle = \\sum^{M-1}_{m = 0}\\sum^{N-1}_{i = 0} x^m_i|i\\rangle|m\\rangle$$\n",
    "The output can be entangled with the latter superposition, or have its own register : \n",
    "$$|\\psi\\rangle = \\sum^M_{m = 1}y^m|m\\rangle$$\n",
    "Encoding our state with the phase encoding allows us to reduce the need of qubit to only $log(NM)$, compared to basis encoding that needed $NM$ qubits, with $M$ the number of entries in our dataset and $N$ the amount of features an entry has. This change in the amount of qubit is crucial as quantum machine learning algorithms are scaled polynomially considering the size of the dataset. "
   ]
  },
  {
   "cell_type": "code",
   "execution_count": 2,
   "id": "8547f833",
   "metadata": {},
   "outputs": [],
   "source": [
    "from qiskit import QuantumCircuit, Aer, execute\n",
    "from qiskit.visualization import plot_state_qsphere\n",
    "%matplotlib inline\n",
    "import math\n"
   ]
  },
  {
   "cell_type": "markdown",
   "id": "0987120d",
   "metadata": {},
   "source": [
    "## The swap test\n",
    "In quantum machine learning, when using amplitude encoding, we are interested in measuring the inner product of two states. Indeed, if we call $f$ the decision function, we have the relation : \n",
    "$$\\langle\\psi_w|\\psi_x\\rangle = f(x;w)$$\n",
    "With w the weight vector and x the feature vector, such that $f(w;x) = w^Tx$\n",
    "Measuring the inner product of two states is a hard task in quantum computing, but there exists a circuit that help with this kind of measurement, called the swap test.\n",
    "\n",
    "First, we need to encode our two states $|\\psi_w\\rangle$ and $|\\psi_x\\rangle$ into two qubits, and we need an ancilla qubits, initialized at $|0\\rangle$\n",
    "\n",
    "Our system is in state\n",
    "$$|0\\psi_w\\psi_x\\rangle$$\n",
    "We then apply an Hadamard gate on the ancilla : \n",
    "$$\\frac{1}{\\sqrt{2}}(|0\\rangle+|1\\rangle)|\\psi_w\\psi_x\\rangle$$\n",
    "We then use a controlled swap gate, with the control qubit being our ancilla : \n",
    "$$\\frac{1}{\\sqrt{2}}(|0\\psi_w\\psi_x\\rangle + |1\\psi_x\\psi_w\\rangle)$$\n",
    "Then we apply another Hadamard gate on our ancilla qubit : \n",
    "$$\\frac{1}{2}|0\\rangle\\otimes(\\psi_w\\psi_x+\\psi_x\\psi_w) + \\frac{1}{2}|1\\rangle\\otimes(\\psi_w\\psi_x-\\psi_x\\psi_w)$$\n",
    "\n",
    "When we measure the probability to get the state 0 on the ancilla, we are applying the following formula : \n",
    "$$p_0 = |\\langle0|\\psi\\rangle|^2 = \\frac{1}{2}-\\frac{1}{2}|\\langle\\psi_w|\\psi_x\\rangle|^2$$\n",
    "\n",
    "Thus, by computing $\\sqrt{1-2p_0}$, one can deduce the inner product $|\\langle\\psi_w|\\psi_x\\rangle|$\n",
    "\n",
    "A demonstration is available here:"
   ]
  },
  {
   "cell_type": "code",
   "execution_count": 9,
   "id": "be194428",
   "metadata": {
    "scrolled": true
   },
   "outputs": [
    {
     "data": {
      "image/png": "[encoded data removed]",
      "text/plain": [
       "<Figure size 658.679x264.88 with 1 Axes>"
      ]
     },
     "metadata": {},
     "output_type": "display_data"
    }
   ],
   "source": [
    "qc = QuantumCircuit(3) #Our ancilla is on the first qubit\n",
    "qc.x(1) #We initialize one of our psi qubits to |1>\n",
    "            #we expect to measure |<psi_1|psi_2>| = |<0|1>| ~ 0\n",
    "qc.barrier()\n",
    "qc.h(0)\n",
    "qc.cswap(0,1,2)\n",
    "qc.h(0)\n",
    "qc.measure_all()\n",
    "display(qc.draw(output = 'mpl'))\n",
    "\n",
    "shots = 8192\n",
    "backend = Aer.get_backend('qasm_simulator')\n",
    "job = execute(qc,backend, shots = shots)\n",
    "result = job.result()\n"
   ]
  },
  {
   "cell_type": "code",
   "execution_count": 11,
   "id": "99285716",
   "metadata": {},
   "outputs": [
    {
     "name": "stdout",
     "output_type": "stream",
     "text": [
      "The inner product is :  0.0\n"
     ]
    }
   ],
   "source": [
    "#We then want to extract the counts when then ancilla is in state |0>\n",
    "res = result.get_counts()\n",
    "start0 = []\n",
    "for keys in res.keys():#We extract every result count that begins with a '0' and we add them together\n",
    "    if(keys[0] == '0'):\n",
    "        start0.append(res.get(keys))\n",
    "p0 = sum(start0)/shots#The sum is divided by the number of shot to get the approximate probability to get 0\n",
    "print(\"The inner product is : \",math.sqrt(round(1-2*p0)))\n"
   ]
  },
  {
   "cell_type": "markdown",
   "id": "4ec45fc5",
   "metadata": {},
   "source": [
    "## Interference circuits\n",
    "Another way to measure the inner product of two states is to use an interference circuit : \n",
    "\n",
    "Starting with an ancilla qubit in state $|0\\rangle$, two states $|\\psi_a\\rangle$ and $|\\psi_b\\rangle$, one should be able to create the following entanglement :\n",
    "$$|\\psi\\rangle = \\frac{1}{\\sqrt{2}}(|0\\psi_a\\rangle + |1\\psi_b\\rangle)$$\n",
    "Once this state is created, an Hadamard gate can be applied to the ancilla qubit, leading $|\\psi\\rangle$ to the state : \n",
    "$$\\frac{1}{2}|0\\rangle\\otimes(|\\psi_a\\rangle+|\\psi_b\\rangle) + \\frac{1}{2}|1\\rangle\\otimes(|\\psi_a\\rangle-|\\psi_b\\rangle)$$\n",
    "Finally, measuring $p(0) = |\\langle 0|\\psi\\rangle|^2$, one can determine the inner product : \n",
    "$$p(0) = \\frac{1}{4}\\langle\\psi_{a+b}|\\psi_{a+b}\\rangle$$\n",
    "To extract the inner product $\\langle\\psi_a|\\psi_b\\rangle$, we must decompose $\\langle\\psi_{a+b}|\\psi_{a+b}\\rangle$:\n",
    "$$(a+b)^T(a+b) = \\sum_i(a_i+b_i)^2$$\n",
    "$$ = \\sum_i a_i^2 + \\sum_i b_i^2 + 2\\sum_ia_ib_i$$\n",
    "$$ = 2+2a^Tb$$\n",
    "Thus we have : \n",
    "$$p(0) = \\frac{1}{4}\\langle\\psi_{a+b}|\\psi_{a+b}\\rangle$$\n",
    "$$=\\frac{1}{4}(2+a^Tb)$$\n",
    "$$=\\frac{1}{2}+\\frac{1}{2}a^Tb$$"
   ]
  },
  {
   "cell_type": "code",
   "execution_count": null,
   "id": "504b2606",
   "metadata": {},
   "outputs": [],
   "source": []
  }
 ],
 "metadata": {
  "kernelspec": {
   "display_name": "Python 3 (ipykernel)",
   "language": "python",
   "name": "python3"
  },
  "language_info": {
   "codemirror_mode": {
    "name": "ipython",
    "version": 3
   },
   "file_extension": ".py",
   "mimetype": "text/x-python",
   "name": "python",
   "nbconvert_exporter": "python",
   "pygments_lexer": "ipython3",
   "version": "3.9.7"
  }
 },
 "nbformat": 4,
 "nbformat_minor": 5
}
