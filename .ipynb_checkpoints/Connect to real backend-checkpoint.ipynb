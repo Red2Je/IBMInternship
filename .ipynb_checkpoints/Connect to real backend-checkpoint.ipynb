{
 "cells": [
  {
   "cell_type": "markdown",
   "id": "6eef0cc1",
   "metadata": {},
   "source": [
    "# How to connect to a real backend using my account"
   ]
  },
  {
   "cell_type": "code",
   "execution_count": 5,
   "id": "ed0de4f8",
   "metadata": {},
   "outputs": [],
   "source": [
    "from qiskit import IBMQ"
   ]
  },
  {
   "cell_type": "code",
   "execution_count": 9,
   "id": "61b171ba",
   "metadata": {},
   "outputs": [
    {
     "name": "stderr",
     "output_type": "stream",
     "text": [
      "ibmqfactory.load_account:WARNING:2022-03-16 10:07:13,934: Credentials are already in use. The existing account in the session will be replaced.\n"
     ]
    }
   ],
   "source": [
    "account = IBMQ.load_account()\n",
    "provider = IBMQ.get_provider(hub='ibm-q-internal', group='support', project='core-team')#only once"
   ]
  },
  {
   "cell_type": "code",
   "execution_count": null,
   "id": "c93beae2",
   "metadata": {},
   "outputs": [],
   "source": [
    "from qiskit.tools.jupyter import job_watcher\n",
    "%qiskit_job_watcher\n",
    "\n",
    "provider.backends(filters=lambda x: x.configuration().n_qubits >= 10\n",
    "                                    and not x.configuration().simulator\n",
    "                                    and x.status().operational==True)"
   ]
  },
  {
   "cell_type": "code",
   "execution_count": null,
   "id": "017847d4",
   "metadata": {},
   "outputs": [],
   "source": [
    "backend = provider.get_backend('nameofthebackend')\n",
    "from qiskit import transpile\n",
    "#Never forget to transpile it\n",
    "transpiled = transpile(yourcircuit,backend = backend)\n",
    "job = backend.run(transpiled)\n",
    "retrieved = backend.retrieve_job(job.job_id())"
   ]
  }
 ],
 "metadata": {
  "kernelspec": {
   "display_name": "Python 3 (ipykernel)",
   "language": "python",
   "name": "python3"
  },
  "language_info": {
   "codemirror_mode": {
    "name": "ipython",
    "version": 3
   },
   "file_extension": ".py",
   "mimetype": "text/x-python",
   "name": "python",
   "nbconvert_exporter": "python",
   "pygments_lexer": "ipython3",
   "version": "3.9.7"
  }
 },
 "nbformat": 4,
 "nbformat_minor": 5
}
